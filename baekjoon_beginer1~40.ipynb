{
 "cells": [
  {
   "cell_type": "markdown",
   "metadata": {},
   "source": [
    "# 1094 막대기\n",
    "\n",
    "문제\n",
    "지민이는 길이가 64cm인 막대를 가지고 있다. 어느 날, 그는 길이가 Xcm인 막대가 가지고 싶어졌다. 지민이는 원래 가지고 있던 막대를 더 작은 막대로 자른다음에, 풀로 붙여서 길이가 Xcm인 막대를 만들려고 한다.\n",
    "\n",
    "막대를 자르는 가장 쉬운 방법은 절반으로 자르는 것이다. 지민이는 아래와 같은 과정을 거쳐서 막대를 자르려고 한다.\n",
    "\n",
    "지민이가 가지고 있는 막대의 길이를 모두 더한다. 처음에는 64cm 막대 하나만 가지고 있다. 이때, 합이 X보다 크다면, 아래와 같은 과정을 반복한다.\n",
    "가지고 있는 막대 중 길이가 가장 짧은 것을 절반으로 자른다.\n",
    "만약, 위에서 자른 막대의 절반 중 하나를 버리고 남아있는 막대의 길이의 합이 X보다 크거나 같다면, 위에서 자른 막대의 절반 중 하나를 버린다.\n",
    "이제, 남아있는 모든 막대를 풀로 붙여서 Xcm를 만든다.\n",
    "X가 주어졌을 때, 위의 과정을 거친다면, 몇 개의 막대를 풀로 붙여서 Xcm를 만들 수 있는지 구하는 프로그램을 작성하시오. \n",
    "\n",
    "입력\n",
    "\n",
    "첫째 줄에 X가 주어진다. X는 64보다 작거나 같은 자연수이다.\n",
    "\n",
    "출력\n",
    "\n",
    "문제의 과정을 거친다면, 몇 개의 막대를 풀로 붙여서 Xcm를 만들 수 있는지 출력한다."
   ]
  },
  {
   "cell_type": "code",
   "execution_count": 21,
   "metadata": {
    "scrolled": true
   },
   "outputs": [
    {
     "name": "stdout",
     "output_type": "stream",
     "text": [
      "3\n",
      "2"
     ]
    }
   ],
   "source": [
    "def stick(list_stick,inputX):\n",
    "    if sum(list_stick) > inputX :\n",
    "        small = min(list_stick)\n",
    "        list_stick.remove(small)\n",
    "        list_stick += [small/2]\n",
    "        \n",
    "    if sum(list_stick) < inputX :\n",
    "        list_stick += [min(list_stick)]\n",
    "        \n",
    "    if sum(list_stick) == inputX :\n",
    "        return list_stick\n",
    "    else :\n",
    "        #print(list_stick)\n",
    "        return stick(list_stick,inputX)\n",
    "    \n",
    "    \n",
    "inputX = int(input())\n",
    "origin = [64]\n",
    "print(len(stick(origin,inputX)),end=\"\")"
   ]
  },
  {
   "cell_type": "markdown",
   "metadata": {},
   "source": [
    "# 1152 단어의개수\n",
    "문제\n",
    "영어 대소문자와 띄어쓰기만으로 이루어진 문자열이 주어진다. 이 문자열에는 몇 개의 단어가 있을까? 이를 구하는 프로그램을 작성하시오. 단, 한 단어가 여러 번 등장하면 등장한 횟수만큼 모두 세어야 한다.\n",
    "\n",
    "입력\n",
    "\n",
    "첫 줄에 영어 대소문자와 띄어쓰기로 이루어진 문자열이 주어진다. 이 문자열의 길이는 1,000,000을 넘지 않는다. 단어는 띄어쓰기 한 개로 구분되며, 공백이 연속해서 나오는 경우는 없다. 또한 문자열의 앞과 뒤에는 공백이 있을 수도 있다.\n",
    "\n",
    "출력\n",
    "\n",
    "첫째 줄에 단어의 개수를 출력한다.\n",
    "\n",
    "\n",
    "예제 입력 1 \n",
    "The Curious Case of Benjamin Button\n",
    "예제 출력 1 \n",
    "6"
   ]
  },
  {
   "cell_type": "code",
   "execution_count": 23,
   "metadata": {},
   "outputs": [
    {
     "name": "stdout",
     "output_type": "stream",
     "text": [
      "The Curious Case of Benjamin Button\n",
      "6\n"
     ]
    }
   ],
   "source": [
    "inputX = input().split()\n",
    "print(len(inputX))"
   ]
  },
  {
   "cell_type": "markdown",
   "metadata": {},
   "source": [
    "# 1259 팰린드롬수\n",
    "\n",
    "문제\n",
    "어떤 단어를 뒤에서부터 읽어도 똑같다면 그 단어를 팰린드롬이라고 한다. 'radar', 'sees'는 팰린드롬이다.\n",
    "\n",
    "수도 팰린드롬으로 취급할 수 있다. 수의 숫자들을 뒤에서부터 읽어도 같다면 그 수는 팰린드롬수다. 121, 12421 등은 팰린드롬수다. 123, 1231은 뒤에서부터 읽으면 다르므로 팰린드롬수가 아니다. 또한 10도 팰린드롬수가 아닌데, 앞에 무의미한 0이 올 수 있다면 010이 되어 팰린드롬수로 취급할 수도 있지만, 특별히 이번 문제에서는 무의미한 0이 앞에 올 수 없다고 하자.\n",
    "\n",
    "입력\n",
    "\n",
    "입력은 여러 개의 테스트 케이스로 이루어져 있으며, 각 줄마다 1 이상 99999 이하의 정수가 주어진다. 입력의 마지막 줄에는 0이 주어지며, 이 줄은 문제에 포함되지 않는다.\n",
    "\n",
    "출력\n",
    "\n",
    "각 줄마다 주어진 수가 팰린드롬수면 'yes', 아니면 'no'를 출력한다.\n",
    "\n",
    "121\n",
    "1231\n",
    "12421\n",
    "0\n",
    "\n",
    "\n",
    "yes\n",
    "no\n",
    "yes\n"
   ]
  },
  {
   "cell_type": "code",
   "execution_count": 59,
   "metadata": {},
   "outputs": [
    {
     "name": "stdout",
     "output_type": "stream",
     "text": [
      "1\n",
      "5\n",
      "3\n",
      "0\n",
      "yes\n",
      "yes\n",
      "yes\n"
     ]
    }
   ],
   "source": [
    "def pelin(inputX):\n",
    "    tempX = str(inputX)\n",
    "    inputX.reverse()\n",
    "    print('yes') if str(tempX)==str(inputX) else print('no')\n",
    "    #print(tempX)\n",
    "    #print(inputX)\n",
    "\n",
    "list_input = []\n",
    "while True:\n",
    "    inp = input()\n",
    "    if inp == '0':\n",
    "        break\n",
    "    else :\n",
    "        list_input += [inp]\n",
    "        \n",
    "for x in list_input :\n",
    "    pelin(list(x))"
   ]
  },
  {
   "cell_type": "markdown",
   "metadata": {},
   "source": [
    "# 1264 모음의 개수\n",
    "문제\n",
    "\n",
    "영문 문장을 입력받아 모음의 개수를 세는 프로그램을 작성하시오. 모음은 'a', 'e', 'i', 'o', 'u'이며 대문자 또는 소문자이다.\n",
    "\n",
    "입력\n",
    "\n",
    "입력은 여러 개의 테스트 케이스로 이루어져 있으며, 각 줄마다 영어 대소문자, ',', '.', '!', '?', 공백으로 이루어진 문장이 주어진다. 각 줄은 최대 255글자로 이루어져 있다.\n",
    "\n",
    "입력의 끝에는 한 줄에 '#' 한 글자만이 주어진다.\n",
    "\n",
    "출력\n",
    "\n",
    "각 줄마다 모음의 개수를 세서 출력한다.\n",
    "\n",
    "예제 입력 1 \n",
    "\n",
    "How are you today?\n",
    "Quite well, thank you, how about yourself?\n",
    "I live at number twenty four.\n",
    "#\n",
    "\n",
    "예제 출력 1 \n",
    "\n",
    "7\n",
    "\n",
    "14\n",
    "\n",
    "9"
   ]
  },
  {
   "cell_type": "code",
   "execution_count": 65,
   "metadata": {},
   "outputs": [
    {
     "name": "stdout",
     "output_type": "stream",
     "text": [
      "How are you today?\n",
      "Quite well, thank you, how about yourself?\n",
      "I live at number twenty four.\n",
      "#\n",
      "7\n",
      "14\n",
      "8\n"
     ]
    }
   ],
   "source": [
    "def howmany(inputX):\n",
    "    result = 0\n",
    "    moum = ['a','e','i','u','o','A','E','I','U','O']\n",
    "    for x in moum:\n",
    "        result += int(inputX.count(x))\n",
    "    return result\n",
    "\n",
    "list_input = []\n",
    "while True :\n",
    "    inputX = input()\n",
    "    if inputX == '#':\n",
    "        break\n",
    "    list_input += [inputX]\n",
    "for x in list_input:\n",
    "    print(howmany(list(x)))\n"
   ]
  },
  {
   "cell_type": "markdown",
   "metadata": {},
   "source": [
    "# 1371 가장 긴 문자\n",
    "문제\n",
    "\n",
    "영어에서는 어떤 글자가 다른 글자보다 많이 쓰인다. 에를 들어, 긴 글에서 약 12.31% 글자는 e이다.\n",
    "\n",
    "어떤 글이 주어졌을 때, 가장 많이 나온 글자를 출력하는 프로그램을 작성하시오.\n",
    "\n",
    "입력\n",
    "\n",
    "첫째 줄부터 글의 문장이 주어진다. 글은 최대 5000글자로 구성되어 있고, 공백, 알파벳 소문자, 엔터로만 이루어져 있다. 그리고 적어도 하나의 알파벳이 있다.\n",
    "\n",
    "출력\n",
    "\n",
    "첫째 줄에 가장 많이 나온 문자를 출력한다. 여러 개일 경우에는 알파벳 순으로 앞서는 것부터 모두 공백없이 출력한다.\n",
    "\n",
    "english is a west germanic\n",
    "language originating in england\n",
    "and is the first language for\n",
    "most people in the united\n",
    "kingdom the united states\n",
    "canada australia new zealand\n",
    "ireland and the anglophone\n",
    "caribbean it is used\n",
    "extensively as a second\n",
    "language and as an official\n",
    "language throughout the world\n",
    "especially in common wealth\n",
    "countries and in many\n",
    "international organizations\n",
    "\n",
    "a"
   ]
  },
  {
   "cell_type": "code",
   "execution_count": null,
   "metadata": {},
   "outputs": [],
   "source": [
    "inputX = \"\"\n",
    "while True :\n",
    "    try :\n",
    "        inputX += input()\n",
    "    except :\n",
    "        break\n",
    "'''\n",
    "언제 끝날지 모르는 무한한 인풋을 받는 방법\n",
    "while True :\n",
    "    try :\n",
    "        input()\n",
    "    except :\n",
    "        break\n",
    "input 직접 입력시 입력값이 끝나면 현재 프로세스 종료 후 엔터\n",
    "'''\n",
    "inputX = list(inputX)\n",
    "inputX.sort()\n",
    "setX = set(inputX)\n",
    "if ' ' in setX:\n",
    "    setX.remove(' ')\n",
    "numX = [(inputX.count(x),x) for x in setX]\n",
    "numX.sort()\n",
    "\n",
    "result1 = numX.pop()\n",
    "result = [result1[1]]\n",
    "while True:\n",
    "    if len(numX) == 0:\n",
    "        break\n",
    "    temp = numX.pop()\n",
    "    if result1[0] == temp[0]:\n",
    "        result += [temp[1]]\n",
    "    else :\n",
    "        break\n",
    "    result.sort()\n",
    "for arg in result:\n",
    "    print(f'{arg}',end='')\n"
   ]
  },
  {
   "cell_type": "markdown",
   "metadata": {},
   "source": [
    "# 1568 새\n",
    "문제\n",
    "\n",
    "N마리의 새가 나무에 앉아있고, 자연수를 배우기 원한다. 새들은 1부터 모든 자연수를 오름차순으로 노래한다. 어떤 숫자 K를 노래할 때, K마리의 새가 나무에서 하늘을 향해 날아간다. 만약, 현재 나무에 앉아있는 새의 수가 지금 불러야 하는 수 보다 작을 때는, 1부터 게임을 다시 시작한다.\n",
    "\n",
    "나무에 앉아 있는 새의 수 N이 주어질 때, 하나의 수를 노래하는데 1이 걸린다고 하면, 모든 새가 날아가기까지 총 몇 초가 걸리는지 출력하는 프로그램을 작성하시오.\n",
    "\n",
    "입력\n",
    "\n",
    "첫째 줄에 새의 수 N이 주어진다. 이 값은 10^9보다 작거나 같다.\n",
    "\n",
    "출력\n",
    "\n",
    "첫째 줄에 정답을 출력한다."
   ]
  },
  {
   "cell_type": "code",
   "execution_count": 21,
   "metadata": {},
   "outputs": [
    {
     "name": "stdout",
     "output_type": "stream",
     "text": [
      "14\n",
      "반복13 , 2\n",
      "반복11 , 3\n",
      "반복8 , 4\n",
      "반복4 , 5\n",
      "재귀4 , 5\n",
      "반복3 , 2\n",
      "반복1 , 3\n",
      "재귀1 , 7\n",
      "7\n"
     ]
    }
   ],
   "source": [
    "def bird(bird_num,sec):\n",
    "    i = 1\n",
    "    while i < bird_num:\n",
    "        bird_num -= i\n",
    "        sec += 1 \n",
    "        i += 1\n",
    "        print(f'반복{bird_num} , {i}')\n",
    "    if i != bird_num :\n",
    "        #bird_num +=(i-1)\n",
    "        print(f'재귀{bird_num} , {sec}')\n",
    "        bird(bird_num, sec)\n",
    "    else :\n",
    "        print(sec)\n",
    "        \n",
    "inputN = int(input())\n",
    "if inputN == 1:\n",
    "    print(1)\n",
    "else :\n",
    "    bird(inputN, 1)"
   ]
  },
  {
   "cell_type": "markdown",
   "metadata": {},
   "source": [
    "# 1731 추론\n",
    "문제\n",
    "\n",
    "등차가 정수인 등차수열 (어떤 수에 차례대로 일정한 수를 더해서 이루어지는 수열) 은 2개의 숫자로 나타낼 수 있다. P는 수열의 첫 번째 수이고, Q는 그 다음수가 되기 위해 바로 전의 수에 더해야 하는 수이다. 예를 들어 P=1, Q=2 이면 그 등차수열은 1, 3, 5, 7, ..... 이 된다.\n",
    "\n",
    "등비가 정수인 등비수열 (어떤 수에서 시작해 차례로 같은 수를 곱하여 만든 수열) 은 등차수열과 비슷하게 2개의 숫자로 나타낼 수 있다. P는 수열의 첫 번째 수이고, Q는 그 다음수가 되기 위해 바로 전의 수에 곱해야 하는 수이다. 예를 들어 P=3, Q=2이면 그 등비수열은 3, 6, 12, ...이 된다.\n",
    "\n",
    "테디는 세상에서 수학을 제일 좋아해서 매일같이 이 수열이 등차수열인지 등비수열인지 정한다음에 다음 수를 구한다.\n",
    "\n",
    "어떤 수열이 주어졌을 때, 그 수열의 규칙이 등차수열인지, 등비수열인지 결정한 후에, 다음에 등장할 수를 구하는 프로그램을 작성하시오.\n",
    "\n",
    "입력\n",
    "4\n",
    "364\n",
    "843\n",
    "1322\n",
    "1801\n",
    "\n",
    "첫째 줄에 수열의 길이 N이 주어진다. 둘째 줄부터 N개의 줄에 수열의 각 원소가 차례대로 주어진다. 주어지는 수열은 등차수열이나 등비수열 중에 하나다. N은 항상 3 이상 50이하이며, 입력되는 수는 10^6 이하의 자연수이다.\n",
    "\n",
    "출력\n",
    "\n",
    "첫째 줄에 수열의 다음 원소를 출력한다. 이 수는 20억보다 작거나 같다."
   ]
  },
  {
   "cell_type": "code",
   "execution_count": 28,
   "metadata": {},
   "outputs": [
    {
     "name": "stdout",
     "output_type": "stream",
     "text": [
      "a\n"
     ]
    },
    {
     "ename": "ValueError",
     "evalue": "invalid literal for int() with base 10: 'a'",
     "output_type": "error",
     "traceback": [
      "\u001b[1;31m---------------------------------------------------------------------------\u001b[0m",
      "\u001b[1;31mValueError\u001b[0m                                Traceback (most recent call last)",
      "\u001b[1;32m<ipython-input-28-326254bd6dab>\u001b[0m in \u001b[0;36m<module>\u001b[1;34m\u001b[0m\n\u001b[0;32m      1\u001b[0m \u001b[1;32mimport\u001b[0m \u001b[0mmath\u001b[0m\u001b[1;33m\u001b[0m\u001b[1;33m\u001b[0m\u001b[0m\n\u001b[1;32m----> 2\u001b[1;33m \u001b[0minputN\u001b[0m \u001b[1;33m=\u001b[0m \u001b[0mint\u001b[0m\u001b[1;33m(\u001b[0m\u001b[0minput\u001b[0m\u001b[1;33m(\u001b[0m\u001b[1;33m)\u001b[0m\u001b[1;33m)\u001b[0m\u001b[1;33m\u001b[0m\u001b[1;33m\u001b[0m\u001b[0m\n\u001b[0m\u001b[0;32m      3\u001b[0m \u001b[0melements\u001b[0m \u001b[1;33m=\u001b[0m \u001b[1;33m[\u001b[0m\u001b[0mint\u001b[0m\u001b[1;33m(\u001b[0m\u001b[0minput\u001b[0m\u001b[1;33m(\u001b[0m\u001b[1;33m)\u001b[0m\u001b[1;33m)\u001b[0m \u001b[1;32mfor\u001b[0m \u001b[0mi\u001b[0m \u001b[1;32min\u001b[0m \u001b[0mrange\u001b[0m \u001b[1;33m(\u001b[0m\u001b[1;36m0\u001b[0m\u001b[1;33m,\u001b[0m\u001b[0minputN\u001b[0m\u001b[1;33m)\u001b[0m\u001b[1;33m]\u001b[0m\u001b[1;33m\u001b[0m\u001b[1;33m\u001b[0m\u001b[0m\n\u001b[0;32m      4\u001b[0m \u001b[1;32mif\u001b[0m \u001b[0melements\u001b[0m\u001b[1;33m[\u001b[0m\u001b[1;36m0\u001b[0m\u001b[1;33m]\u001b[0m\u001b[1;33m-\u001b[0m\u001b[0melements\u001b[0m\u001b[1;33m[\u001b[0m\u001b[1;36m1\u001b[0m\u001b[1;33m]\u001b[0m \u001b[1;33m==\u001b[0m \u001b[0melements\u001b[0m\u001b[1;33m[\u001b[0m\u001b[1;36m1\u001b[0m\u001b[1;33m]\u001b[0m\u001b[1;33m-\u001b[0m\u001b[0melements\u001b[0m\u001b[1;33m[\u001b[0m\u001b[1;36m2\u001b[0m\u001b[1;33m]\u001b[0m \u001b[1;33m:\u001b[0m\u001b[1;33m\u001b[0m\u001b[1;33m\u001b[0m\u001b[0m\n\u001b[0;32m      5\u001b[0m     \u001b[1;31m#등차\u001b[0m\u001b[1;33m\u001b[0m\u001b[1;33m\u001b[0m\u001b[1;33m\u001b[0m\u001b[0m\n",
      "\u001b[1;31mValueError\u001b[0m: invalid literal for int() with base 10: 'a'"
     ]
    }
   ],
   "source": [
    "import math\n",
    "inputN = int(input())\n",
    "elements = [int(input()) for i in range (0,inputN)]\n",
    "if elements[0]-elements[1] == elements[1]-elements[2] :\n",
    "    #등차\n",
    "    print(elements[-1]+(elements[1]-elements[0]))\n",
    "else :\n",
    "    #등비\n",
    "    print(elements[-1]*math.ceil(elements[1]/elements[0]))\n"
   ]
  },
  {
   "cell_type": "markdown",
   "metadata": {},
   "source": [
    "# 1834 나머지와 몫이 같은 수\n",
    "문제\n",
    "\n",
    "N으로 나누었을 때 나머지와 몫이 같은 모든 자연수의 합을 구하는 프로그램을 작성하시오. 예를 들어 N=3일 때, 나머지와 몫이 모두 같은 자연수는 4와 8 두 개가 있으므로, 그 합은 12이다.\n",
    "\n",
    "입력\n",
    "\n",
    "첫째 줄에 2,000,000 이하의 자연수 N이 주어진다.\n",
    "\n",
    "출력\n",
    "\n",
    "첫 줄에 구하고자 하는 수를 출력한다."
   ]
  },
  {
   "cell_type": "code",
   "execution_count": 36,
   "metadata": {},
   "outputs": [
    {
     "name": "stdout",
     "output_type": "stream",
     "text": [
      "3\n",
      "12\n"
     ]
    }
   ],
   "source": [
    "inputN = int(input())\n",
    "result = 0\n",
    "\n",
    "for i in range(1,inputN):\n",
    "    result += inputN*i + i\n",
    "print(result)"
   ]
  },
  {
   "cell_type": "markdown",
   "metadata": {},
   "source": [
    "# 1864 문어숫자\n",
    "해류가 매우 느리고 바닥을 기어다니는 생물이 적은 바다 밑바닥에서만 발견되는 잔물결 무늬의 정체는 오랫동안 해양학자들에게 수수께끼였다. 하지만 최근의 연구 성과는 동물 언어학 분야에 일대 혁명을 불러왔다. 이 무늬의 정체는 바로 문어가 숫자를 적는 방법이라는 것이 해양 생물학자들에 의해 밝혀진 것이다. 학자들은 문어가 무엇을 세는 것인지는 아직 알 수 없지만, 수 표기법을 해독하는 데에는 성공했다.\n",
    "\n",
    "뭍 위에 사는 이들에게는 문어가 쓰는 숫자와 그를 표현하는 잔물결 무늬가 매우 낯설 수밖에 없다. 따라서 연구자들은 다음과 같은 기호로 잔물결 무늬를 적기로 합의했다. 각 기호와 대응하는 숫자는 다음과 같다.\n",
    "\n",
    "-는 0에 대응한다.\n",
    "\n",
    "\\는 1에 대응한다.\n",
    "\n",
    "(는 2에 대응한다.\n",
    "\n",
    "@는 3에 대응한다.\n",
    "\n",
    "?는 4에 대응한다.\n",
    "\n",
    "\\>는 5에 대응한다.\n",
    "\n",
    "&는 6에 대응한다.\n",
    "\n",
    "%는 7에 대응한다.\n",
    "\n",
    "/는 -1에 대응한다.\n",
    "\n",
    "해양 신경학자들은 특히 음수를 나타내는 기호가 있다는 사실에 흥분하면서, 아직 걸음마 단계인 두족류 신경학이 이 발견을 계기로 크게 발전하기를 기대하고 있다.\n",
    "\n",
    "당연히 문어의 수 체계는 8진법에 기반한다. 예를 들면 다음과 같다.\n",
    "\n",
    "(@&는 2 × 8^2 + 3 × 8 + 6 = 158이다.\n",
    "\n",
    "?/--는 4 × 8^3 + −1 × 8^2 + 0 × 8 + 0 = 1984이다.\n",
    "/(\\는 −1 × 82 + 2 × 8 + 1 = −47이다.\n",
    "\n",
    "당신에게 주어진 문제는 문어 숫자를 입력 받아 십진수로 나타내는 것이다.\n",
    "\n",
    "입력\n",
    "\n",
    "한 줄에 하나씩 문어 숫자가 입력으로 주어진다. 각 숫자는 최소 한 개, 최대 여덟 개의 문어 숫자 기호로 이루어져있다. 입력으로 '#'이 들어오면 입력을 종료한다.\n",
    "\n",
    "출력\n",
    "\n",
    "입력 받은 문어 숫자에 대응하는 십진수를 한 줄에 하나씩 출력한다."
   ]
  },
  {
   "cell_type": "code",
   "execution_count": 57,
   "metadata": {},
   "outputs": [
    {
     "name": "stdout",
     "output_type": "stream",
     "text": [
      "/(\\\n",
      "?/--\n",
      "#\n",
      "-47\n",
      "1984\n"
     ]
    }
   ],
   "source": [
    "def transf(muno):\n",
    "    tran_muno = []\n",
    "    for x in muno:\n",
    "        if x == r'-':\n",
    "            tran_muno.append('0')\n",
    "        elif x == '\\\\':\n",
    "            tran_muno.append('1')\n",
    "        elif x == '(':\n",
    "            tran_muno.append('2')\n",
    "        elif x == '@':\n",
    "            tran_muno.append('3')\n",
    "        elif x == '?':\n",
    "            tran_muno.append('4')\n",
    "        elif x == '>':\n",
    "            tran_muno.append('5')\n",
    "        elif x == '&':\n",
    "            tran_muno.append('6')\n",
    "        elif x == '%':\n",
    "            tran_muno.append('7')\n",
    "        elif x == '/':\n",
    "            tran_muno.append('-1')\n",
    "    tran_muno.reverse()\n",
    "    result = 0\n",
    "    for i in range (0,len(tran_muno)):\n",
    "        result += int(tran_muno[i])*(8**i)\n",
    "    print(result)\n",
    "\n",
    "moon_o = []\n",
    "while True:\n",
    "    muno = input()\n",
    "    if muno == '#':\n",
    "        break\n",
    "    moon_o += [muno]\n",
    "for muno in moon_o:\n",
    "    transf(muno)"
   ]
  },
  {
   "cell_type": "markdown",
   "metadata": {},
   "source": [
    "# 2309 일곱난쟁이\n",
    "문제\n",
    "왕비를 피해 일곱 난쟁이들과 함께 평화롭게 생활하고 있던 백설공주에게 위기가 찾아왔다. 일과를 마치고 돌아온 난쟁이가 일곱 명이 아닌 아홉 명이었던 것이다.\n",
    "\n",
    "아홉 명의 난쟁이는 모두 자신이 \"백설 공주와 일곱 난쟁이\"의 주인공이라고 주장했다. 뛰어난 수학적 직관력을 가지고 있던 백설공주는, 다행스럽게도 일곱 난쟁이의 키의 합이 100이 됨을 기억해 냈다.\n",
    "\n",
    "아홉 난쟁이의 키가 주어졌을 때, 백설공주를 도와 일곱 난쟁이를 찾는 프로그램을 작성하시오.\n",
    "\n",
    "입력\n",
    "\n",
    "아홉 개의 줄에 걸쳐 난쟁이들의 키가 주어진다. 주어지는 키는 100을 넘지 않는 자연수이며, 아홉 난쟁이의 키는 모두 다르며, 가능한 정답이 여러 가지인 경우에는 아무거나 출력한다.\n",
    "\n",
    "출력\n",
    "\n",
    "일곱 난쟁이의 키를 오름차순으로 출력한다. 일곱 난쟁이를 찾을 수 없는 경우는 없다."
   ]
  },
  {
   "cell_type": "code",
   "execution_count": 60,
   "metadata": {},
   "outputs": [
    {
     "name": "stdout",
     "output_type": "stream",
     "text": [
      "30\n",
      "30\n",
      "30\n",
      "1\n",
      "2\n",
      "3\n",
      "4\n",
      "9\n",
      "7\n",
      "1\n",
      "2\n",
      "3\n",
      "4\n",
      "30\n",
      "30\n",
      "30\n"
     ]
    }
   ],
   "source": [
    "import random\n",
    "nan = [int(input()) for x in range(0,9)]\n",
    "while True:\n",
    "    temp = random.sample(nan,7)\n",
    "    if sum(temp) == 100:\n",
    "        temp.sort()\n",
    "        for i in temp:\n",
    "            print(i)\n",
    "        break"
   ]
  },
  {
   "cell_type": "markdown",
   "metadata": {},
   "source": [
    "# 2355 시그마\n",
    "문제\n",
    "\n",
    "두 정수 A와 B가 주어졌을 때, 두 정수 사이에 있는 수의 합을 구하는 프로그램을 작성하시오. 사이에 있는 수들은 A와 B도 포함한다.\n",
    "\n",
    "입력\n",
    "\n",
    "첫째 줄에 두 정수 A, B가 주어진다. (-2,147,483,648 ≤ A, B ≤ 2,147,483,647)\n",
    "\n",
    "출력\n",
    "\n",
    "첫째 줄에 답을 출력한다. (-2,147,483,648 ≤ 답 ≤ 2,147,483,647)"
   ]
  },
  {
   "cell_type": "code",
   "execution_count": 73,
   "metadata": {},
   "outputs": [
    {
     "name": "stdout",
     "output_type": "stream",
     "text": [
      "-2 5\n"
     ]
    },
    {
     "data": {
      "text/plain": [
       "12.0"
      ]
     },
     "execution_count": 73,
     "metadata": {},
     "output_type": "execute_result"
    }
   ],
   "source": [
    "\n",
    "inputsN = input().split()\n",
    "inputsN.sort()\n",
    "a = int(inputsN[0])\n",
    "b = int(inputsN[1])\n",
    "'''if b < 0:\n",
    "    pass\n",
    "elif a < 0:\n",
    "    pass\n",
    "else:\n",
    "    pass'''\n",
    "print(int((abs(a - b)+1)*(a + b)/2))"
   ]
  },
  {
   "cell_type": "markdown",
   "metadata": {},
   "source": [
    "# 2386 도비의 영어공부\n",
    "문제\n",
    "\n",
    "꿍은 도비의 자유를 위해 영어를 가르치기로 결심했다. 하지만 도비는 바보라 ABC부터 배워야 한다.\n",
    "\n",
    "그래서 꿍은 영어 문장과 알파벳 하나가 주어지면 그 알파벳이 문장에서 몇 번 나타나는지를 세는 문제들을 내주었다. 하지만 도비는 마법사고 컴공도 마법사다.\n",
    "\n",
    "여러분은 도비를 위해 문제의 답을 알려주는 프로그램을 만들수 있을것이다!\n",
    "\n",
    "입력\n",
    "\n",
    "입력은 몇 개의 줄들로 이루어진다.\n",
    "\n",
    "각 줄에는 하나의 소문자와 영어 문장이 공백으로 구분되어 주어진다.\n",
    "\n",
    "각 문장은 길이가 1에서 250이며 입력의 마지막은 #이다.\n",
    "\n",
    "출력\n",
    "\n",
    "출력의 각 줄은 입력으로 주어진 소문자와 그 소문자 알파벳이 나타난 횟수로 이루어진다. 이때 문장에서 해당 알파벳이 소문자로 나타나던 대문자로 나타나던 모두 세야 한다.\n",
    "\n",
    "g Programming Contest\n",
    "n New Zealand\n",
    "x This is quite a simple problem.\n",
    "#"
   ]
  },
  {
   "cell_type": "code",
   "execution_count": 81,
   "metadata": {},
   "outputs": [
    {
     "name": "stdout",
     "output_type": "stream",
     "text": [
      "g Programming Contest\n",
      "n New Zealand\n",
      "x This is quite a simple problem.\n",
      "#\n",
      "2\n",
      "2\n",
      "0\n"
     ]
    }
   ],
   "source": [
    "#컴파일 에러 왜나는거야 진짜루\n",
    "def study(str_list):\n",
    "    result = -1\n",
    "    result += str_list.count(str_list[0])\n",
    "    result += str_list.count(chr(ord(str_list[0])-32))\n",
    "    print(f'{str_list[0]} {result}')\n",
    "list_input = []\n",
    "while True:\n",
    "    temp = input()\n",
    "    if temp == '#':\n",
    "        break\n",
    "    list_input += [temp]\n",
    "for x in list_input:\n",
    "    study(list(x))"
   ]
  },
  {
   "cell_type": "code",
   "execution_count": 1,
   "metadata": {},
   "outputs": [
    {
     "name": "stdout",
     "output_type": "stream",
     "text": [
      "a\n"
     ]
    },
    {
     "ename": "ValueError",
     "evalue": "invalid literal for int() with base 10: 'a'",
     "output_type": "error",
     "traceback": [
      "\u001b[1;31m---------------------------------------------------------------------------\u001b[0m",
      "\u001b[1;31mValueError\u001b[0m                                Traceback (most recent call last)",
      "\u001b[1;32m<ipython-input-1-30a3126bc26a>\u001b[0m in \u001b[0;36m<module>\u001b[1;34m()\u001b[0m\n\u001b[1;32m----> 1\u001b[1;33m \u001b[0ma\u001b[0m \u001b[1;33m=\u001b[0m \u001b[0mlist\u001b[0m\u001b[1;33m(\u001b[0m\u001b[0mmap\u001b[0m\u001b[1;33m(\u001b[0m\u001b[0mint\u001b[0m\u001b[1;33m,\u001b[0m \u001b[0minput\u001b[0m\u001b[1;33m(\u001b[0m\u001b[1;33m)\u001b[0m\u001b[1;33m.\u001b[0m\u001b[0msplit\u001b[0m\u001b[1;33m(\u001b[0m\u001b[1;33m)\u001b[0m\u001b[1;33m)\u001b[0m\u001b[1;33m)\u001b[0m\u001b[1;33m\u001b[0m\u001b[0m\n\u001b[0m\u001b[0;32m      2\u001b[0m \u001b[0mprint\u001b[0m\u001b[1;33m(\u001b[0m\u001b[0mabs\u001b[0m\u001b[1;33m(\u001b[0m\u001b[0ma\u001b[0m\u001b[1;33m[\u001b[0m\u001b[1;36m0\u001b[0m\u001b[1;33m]\u001b[0m\u001b[1;33m-\u001b[0m\u001b[0ma\u001b[0m\u001b[1;33m[\u001b[0m\u001b[1;36m1\u001b[0m\u001b[1;33m]\u001b[0m\u001b[1;33m)\u001b[0m\u001b[1;33m)\u001b[0m\u001b[1;33m\u001b[0m\u001b[0m\n",
      "\u001b[1;31mValueError\u001b[0m: invalid literal for int() with base 10: 'a'"
     ]
    }
   ],
   "source": [
    "a = list(map(int, input().split()))\n",
    "print(abs(a[0]-a[1]))"
   ]
  },
  {
   "cell_type": "markdown",
   "metadata": {},
   "source": [
    "# 2475 검증수\n",
    "문제\n",
    "\n",
    "컴퓨터를 제조하는 회사인 KOI 전자에서는 제조하는 컴퓨터마다 6자리의 고유번호를 매긴다. 고유번호의 처음 5자리에는 00000부터 99999까지의 수 중 하나가 주어지며 6번째 자리에는 검증수가 들어간다. 검증수는 고유번호의 처음 5자리에 들어가는 5개의 숫자를 각각 제곱한 수의 합을 10으로 나눈 나머지이다.\n",
    "\n",
    "예를 들어 고유번호의 처음 5자리의 숫자들이 04256이면, 각 숫자를 제곱한 수들의 합 0+16+4+25+36 = 81 을 10으로 나눈 나머지인 1이 검증수이다.\n",
    "\n",
    "입력\n",
    "\n",
    "첫째 줄에 고유번호의 처음 5자리의 숫자들이 빈칸을 사이에 두고 하나씩 주어진다.\n",
    "\n",
    "출력\n",
    "\n",
    "첫째 줄에 검증수를 출력한다."
   ]
  },
  {
   "cell_type": "code",
   "execution_count": 6,
   "metadata": {},
   "outputs": [
    {
     "name": "stdout",
     "output_type": "stream",
     "text": [
      "0 4 2 5 6\n",
      "1\n"
     ]
    }
   ],
   "source": [
    "inputN = list(map(int,input().split()))\n",
    "result = sum([x**2 for x in inputN])%10\n",
    "print(result)"
   ]
  },
  {
   "cell_type": "markdown",
   "metadata": {},
   "source": [
    "# 2476 주사위게임\n",
    "문제\n",
    "\n",
    "1에서부터 6까지의 눈을 가진 3개의 주사위를 던져서 다음과 같은 규칙에 따라 상금을 받는 게임이 있다.\n",
    "\n",
    "같은 눈이 3개가 나오면 10,000원+(같은 눈)*1,000원의 상금을 받게 된다. \n",
    "같은 눈이 2개만 나오는 경우에는 1,000원+(같은 눈)*100원의 상금을 받게 된다. \n",
    "모두 다른 눈이 나오는 경우에는 (그 중 가장 큰 눈)*100원의 상금을 받게 된다.  \n",
    "예를 들어, 3개의 눈 3, 3, 6이 주어지면 상금은 1,000+3*100으로 계산되어 1,300원을 받게 된다. 또 3개의 눈이 2, 2, 2로 주어지면 10,000+2*1,000 으로 계산되어 12,000원을 받게 된다. 3개의 눈이 6, 2, 5로 주어지면 그 중 가장 큰 값이 6이므로 6*100으로 계산되어 600원을 상금으로 받게 된다.\n",
    "\n",
    "N(2 ≤ N ≤ 1,000)명이 주사위 게임에 참여하였을 때, 가장 많은 상금을 받은 사람의 상금을 출력하는 프로그램을 작성하시오.\n",
    "\n",
    "입력\n",
    "\n",
    "첫째 줄에는 참여하는 사람 수 N이 주어지고 그 다음 줄부터 N개의 줄에 사람들이 주사위를 던진 3개의 눈이 빈칸을 사이에 두고 각각 주어진다. \n",
    "\n",
    "출력\n",
    "\n",
    "첫째 줄에 가장 많은 상금을 받은 사람의 상금을 출력한다."
   ]
  },
  {
   "cell_type": "code",
   "execution_count": 1,
   "metadata": {},
   "outputs": [
    {
     "name": "stdout",
     "output_type": "stream",
     "text": [
      "1ㅁ\n"
     ]
    },
    {
     "ename": "ValueError",
     "evalue": "invalid literal for int() with base 10: '1ㅁ'",
     "output_type": "error",
     "traceback": [
      "\u001b[1;31m---------------------------------------------------------------------------\u001b[0m",
      "\u001b[1;31mValueError\u001b[0m                                Traceback (most recent call last)",
      "\u001b[1;32m<ipython-input-1-fa973c0466bb>\u001b[0m in \u001b[0;36m<module>\u001b[1;34m\u001b[0m\n\u001b[1;32m----> 1\u001b[1;33m \u001b[0minputN\u001b[0m \u001b[1;33m=\u001b[0m \u001b[0mint\u001b[0m\u001b[1;33m(\u001b[0m\u001b[0minput\u001b[0m\u001b[1;33m(\u001b[0m\u001b[1;33m)\u001b[0m\u001b[1;33m)\u001b[0m\u001b[1;33m\u001b[0m\u001b[1;33m\u001b[0m\u001b[0m\n\u001b[0m\u001b[0;32m      2\u001b[0m \u001b[0mlist_input\u001b[0m \u001b[1;33m=\u001b[0m \u001b[1;33m[\u001b[0m\u001b[0mlist\u001b[0m\u001b[1;33m(\u001b[0m\u001b[0mmap\u001b[0m\u001b[1;33m(\u001b[0m\u001b[0mint\u001b[0m\u001b[1;33m,\u001b[0m \u001b[0minput\u001b[0m\u001b[1;33m(\u001b[0m\u001b[1;33m)\u001b[0m\u001b[1;33m.\u001b[0m\u001b[0msplit\u001b[0m\u001b[1;33m(\u001b[0m\u001b[1;33m)\u001b[0m\u001b[1;33m)\u001b[0m\u001b[1;33m)\u001b[0m\u001b[1;32mfor\u001b[0m \u001b[0mi\u001b[0m \u001b[1;32min\u001b[0m \u001b[0mrange\u001b[0m\u001b[1;33m(\u001b[0m\u001b[1;36m0\u001b[0m\u001b[1;33m,\u001b[0m\u001b[0minputN\u001b[0m\u001b[1;33m)\u001b[0m\u001b[1;33m]\u001b[0m\u001b[1;33m\u001b[0m\u001b[1;33m\u001b[0m\u001b[0m\n\u001b[0;32m      3\u001b[0m \u001b[0mresult\u001b[0m \u001b[1;33m=\u001b[0m \u001b[1;33m[\u001b[0m\u001b[1;33m]\u001b[0m\u001b[1;33m\u001b[0m\u001b[1;33m\u001b[0m\u001b[0m\n\u001b[0;32m      4\u001b[0m \u001b[1;32mfor\u001b[0m \u001b[0mdice\u001b[0m \u001b[1;32min\u001b[0m \u001b[0mlist_input\u001b[0m\u001b[1;33m:\u001b[0m\u001b[1;33m\u001b[0m\u001b[1;33m\u001b[0m\u001b[0m\n\u001b[0;32m      5\u001b[0m     \u001b[1;32mif\u001b[0m \u001b[0mdice\u001b[0m\u001b[1;33m.\u001b[0m\u001b[0mcount\u001b[0m\u001b[1;33m(\u001b[0m\u001b[0mmax\u001b[0m\u001b[1;33m(\u001b[0m\u001b[0mdice\u001b[0m\u001b[1;33m)\u001b[0m\u001b[1;33m)\u001b[0m \u001b[1;33m==\u001b[0m \u001b[1;36m3\u001b[0m\u001b[1;33m:\u001b[0m\u001b[1;33m\u001b[0m\u001b[1;33m\u001b[0m\u001b[0m\n",
      "\u001b[1;31mValueError\u001b[0m: invalid literal for int() with base 10: '1ㅁ'"
     ]
    }
   ],
   "source": [
    "inputN = int(input())\n",
    "list_input = [list(map(int, input().split()))for i in range(0,inputN)]\n",
    "result = []\n",
    "for dice in list_input:\n",
    "    if dice.count(max(dice)) == 3:\n",
    "        result += [10000+max(dice)*1000]\n",
    "    elif dice.count(max(dice)) == 2:\n",
    "        result += [1000+max(dice)*100]\n",
    "    else :\n",
    "        result += [max(dice)*100]\n",
    "print(max(result))"
   ]
  },
  {
   "cell_type": "markdown",
   "metadata": {},
   "source": [
    "# 2484 주사위 네개\n",
    "문제\n",
    "\n",
    "1에서부터 6까지의 눈을 가진 4개의 주사위를 던져서 다음과 같은 규칙에 따라 상금을 받는 게임이 있다. \n",
    "\n",
    "같은 눈이 4개가 나오면 50,000원+(같은 눈)*5,000원의 상금을 받게 된다. \n",
    "같은 눈이 3개만 나오면 10,000원+(3개가 나온 눈)*1,000원의 상금을 받게 된다. \n",
    "같은 눈이 2개씩 두 쌍이 나오는 경우에는 2,000원+(2개가 나온 눈)*500원+(또 다른 2개가 나온 눈)*500원의 상금을 받게 된다.\n",
    "같은 눈이 2개만 나오는 경우에는 1,000원+(같은 눈)*100원의 상금을 받게 된다. \n",
    "모두 다른 눈이 나오는 경우에는 (그 중 가장 큰 눈)*100원의 상금을 받게 된다.  \n",
    "예를 들어, 4개의 눈이 3, 3, 3, 3으로 주어지면 50,000+3*5,000으로 계산되어 65,000원의 상금을 받게 된다. 4개의 눈이 3, 3, 6, 3으로 주어지면 상금은 10,000+3*1,000으로 계산되어 13,000원을 받게 된다. 또 4개의 눈이 2, 2, 6, 6으로 주어지면 2,000+2*500+6*500으로 계산되어 6,000원을 받게 된다. 4개의 눈이 6, 2, 1, 6으로 주어지면 1,000+6*100으로 계산되어 1,600원을 받게 된다. 4개의 눈이 6, 2, 1, 5로 주어지면 그 중 가장 큰 값이 6이므로 6*100으로 계산되어 600원을 상금으로 받게 된다.\n",
    "\n",
    "N(1≤N≤1,000)명이 주사위 게임에 참여하였을 때, 가장 많은 상금을 받은 사람의 상금을 출력하는 프로그램을 작성하시오.\n",
    "\n",
    "입력\n",
    "\n",
    "첫째 줄에는 참여하는 사람 수 N이 주어지고 그 다음 줄부터 N개의 줄에 사람들이 주사위를 던진 4개의 눈이 빈칸을 사이에 두고 각각 주어진다.\n",
    "\n",
    "출력\n",
    "\n",
    "첫째 줄에 가장 많은 상금을 받은 사람의 상금을 출력한다."
   ]
  },
  {
   "cell_type": "code",
   "execution_count": 2,
   "metadata": {},
   "outputs": [
    {
     "name": "stdout",
     "output_type": "stream",
     "text": [
      "4\n",
      "3 3 3 3\n",
      "4 2 1 3\n",
      "5 5 5 3\n",
      "1 2 3 4\n",
      "65000\n"
     ]
    }
   ],
   "source": [
    "inputN = int(input())\n",
    "list_input = [list(map(int, input().split()))for i in range(0,inputN)]\n",
    "result = []\n",
    "for dice in list_input:\n",
    "    if len(set(dice)) == 1:\n",
    "        result += [dice[0]*5000 + 50000]\n",
    "        \n",
    "    elif len(set(dice)) == 2:\n",
    "        temp = list(set(dice))\n",
    "        if dice.count(temp[0]) == 3:\n",
    "            result += [temp[0]*1000 + 10000]\n",
    "        elif dice.count(temp[0]) == 2:\n",
    "            result += [temp[0]*500 + temp[1]*500 +2000]\n",
    "        else :\n",
    "            result += [temp[1]*1000 + 10000]\n",
    "            \n",
    "    elif len(set(dice)) == 3:\n",
    "        for nun in dice:\n",
    "            if dice.count(nun) == 2:\n",
    "                result += [nun*100 + 1000]\n",
    "                break\n",
    "    else :\n",
    "        result += [max(dice)*100]\n",
    "        \n",
    "print(max(result))"
   ]
  },
  {
   "cell_type": "markdown",
   "metadata": {},
   "source": [
    "# 2490 윷놀이\n",
    "문제\n",
    "\n",
    "우리나라 고유의 윷놀이는 네 개의 윷짝을 던져서 배(0)와 등(1)이 나오는 숫자를 세어 도, 개, 걸, 윷, 모를 결정한다. 네 개 윷짝을 던져서 나온 각 윷짝의 배 혹은 등 정보가 주어질 때 도(배 한 개, 등 세 개), 개(배 두 개, 등 두 개), 걸(배 세 개, 등 한 개), 윷(배 네 개), 모(등 네 개) 중 어떤 것인지를 결정하는 프로그램을 작성하라.\n",
    "\n",
    "입력\n",
    "\n",
    "첫째 줄부터 셋째 줄까지 각 줄에 각각 한 번 던진 윷짝들의 상태를 나타내는 네 개의 정수(0 또는 1)가  빈칸을 사이에 두고 주어진다.\n",
    "\n",
    "출력\n",
    "\n",
    "첫째 줄부터 셋째 줄까지 한 줄에 하나씩 결과를  도는 A, 개는 B, 걸은 C, 윷은 D, 모는 E로 출력한다."
   ]
  },
  {
   "cell_type": "code",
   "execution_count": 4,
   "metadata": {},
   "outputs": [
    {
     "name": "stdout",
     "output_type": "stream",
     "text": [
      "1 1 1 1\n",
      "0 0 0 0\n",
      "1 1 0 0\n",
      "E\n",
      "D\n",
      "B\n"
     ]
    }
   ],
   "source": [
    "list_input = [list(map(int, input().split()))for i in range(0,3)]\n",
    "jokbo = dict(enumerate(['E','A','B','C','D']))\n",
    "for yoot in list_input:\n",
    "    print (jokbo[yoot.count(0)])"
   ]
  },
  {
   "cell_type": "markdown",
   "metadata": {},
   "source": [
    "# 2562 최댓값\n",
    "문제\n",
    "\n",
    "9개의 서로 다른 자연수가 주어질 때, 이들 중 최댓값을 찾고 그 최댓값이 몇 번째 수인지를 구하는 프로그램을 작성하시오.\n",
    "\n",
    "예를 들어, 서로 다른 9개의 자연수\n",
    "\n",
    "3, 29, 38, 12, 57, 74, 40, 85, 61\n",
    "\n",
    "이 주어지면, 이들 중 최댓값은 85이고, 이 값은 8번째 수이다.\n",
    "\n",
    "입력\n",
    "\n",
    "첫 째 줄부터 아홉 번째 줄까지 한 줄에 하나의 자연수가 주어진다. 주어지는 자연수는 100 보다 작다.\n",
    "\n",
    "출력\n",
    "\n",
    "첫째 줄에 최댓값을 출력하고, 둘째 줄에 최댓값이 몇 번째 수인지를 출력한다."
   ]
  },
  {
   "cell_type": "code",
   "execution_count": 5,
   "metadata": {},
   "outputs": [
    {
     "name": "stdout",
     "output_type": "stream",
     "text": [
      "1\n",
      "5\n",
      "3\n",
      "4\n",
      "6\n",
      "4\n",
      "5\n",
      "6\n",
      "7\n",
      "7\n",
      "9\n"
     ]
    }
   ],
   "source": [
    "list_input = [int(input()) for i in range(0,9)]\n",
    "print(max(list_input))\n",
    "print(1 + list_input.index(max(list_input)))"
   ]
  },
  {
   "cell_type": "markdown",
   "metadata": {},
   "source": [
    "# 2566 최댓값\n",
    "<그림 1>과 같이 9×9 격자판에 쓰여진 81개의 자연수가 주어질 때, 이들 중 최댓값을 찾고 그 최댓값이 몇 행 몇 열에 위치한 수인지 구하는 프로그램을 작성하시오.\n",
    "\n",
    "예를 들어, 다음과 같이 81개의 수가 주어지면\n",
    "\n",
    "이들 중 최댓값은 90이고, 이 값은 5행 7열에 위치한다.\n",
    "\n",
    "입력\n",
    "\n",
    "첫째 줄부터 아홉 번째 줄까지 한 줄에 아홉 개씩 자연수가 주어진다. 주어지는 자연수는 100보다 작다.\n",
    "\n",
    "출력\n",
    "\n",
    "첫째 줄에 최댓값을 출력하고, 둘째 줄에 최댓값이 위치한 행 번호와 열 번호를 빈칸을 사이에 두고 차례로 출력한다. 최댓값이 두 개 이상인 경우 그 중 한 곳의 위치를 출력한다.\n",
    "\n",
    "3 23 85 34 17 74 25 52 65\n",
    "10 7 39 42 88 52 14 72 63\n",
    "87 42 18 78 53 45 18 84 53\n",
    "34 28 64 85 12 16 75 36 55\n",
    "21 77 45 35 28 75 90 76 1\n",
    "25 87 65 15 28 11 37 28 74\n",
    "65 27 75 41 7 89 78 64 39\n",
    "47 47 70 45 23 65 3 41 44\n",
    "87 13 82 38 31 12 29 29 80"
   ]
  },
  {
   "cell_type": "code",
   "execution_count": 7,
   "metadata": {},
   "outputs": [
    {
     "name": "stdout",
     "output_type": "stream",
     "text": [
      "3 23 85 34 17 74 25 52 65\n",
      "10 7 39 42 88 52 14 72 63\n",
      "87 42 18 78 53 45 18 84 53\n",
      "34 28 64 85 12 16 75 36 55\n",
      "21 77 45 35 28 75 90 76 1\n",
      "25 87 65 15 28 11 37 28 74\n",
      "65 27 75 41 7 89 78 64 39\n",
      "47 47 70 45 23 65 3 41 44\n",
      "87 13 82 38 31 12 29 29 80\n",
      "90\n",
      "4 6\n"
     ]
    }
   ],
   "source": [
    "list_input = [list(map(int, input().split()))for i in range(0,9)]\n",
    "Max = [0,0,0]\n",
    "for h in list_input:\n",
    "    if max(h) > Max[0]:\n",
    "        Max = [max(h),list_input.index(h),h.index(max(h))]\n",
    "print(Max[0])\n",
    "print(Max[1]+1,Max[2]+1)"
   ]
  },
  {
   "cell_type": "markdown",
   "metadata": {},
   "source": [
    "# 2576 홀수\n",
    "7개의 자연수가 주어질 때, 이들 중 홀수인 자연수들을 모두 골라 그 합을 구하고, 고른 홀수들 중 최솟값을 찾는 프로그램을 작성하시오.\n",
    "\n",
    "예를 들어, 7개의 자연수 12, 77, 38, 41, 53, 92, 85가 주어지면 이들 중 홀수는 77, 41, 53, 85이므로 그 합은\n",
    "\n",
    "77 + 41 + 53 + 85 = 256\n",
    "\n",
    "이 되고,\n",
    "\n",
    "41 < 53 < 77 < 85\n",
    "\n",
    "이므로 홀수들 중 최솟값은 41이 된다.\n",
    "\n",
    "입력\n",
    "\n",
    "입력의 첫째 줄부터 일곱 번째 줄까지 한 줄에 하나의 자연수가 주어진다. 주어지는 자연수는 100보다 작다.\n",
    "\n",
    "출력\n",
    "\n",
    "홀수가 존재하지 않는 경우에는 첫째 줄에 -1을 출력한다. 홀수가 존재하는 경우 첫째 줄에 홀수들의 합을 출력하고, 둘째 줄에 홀수들 중 최솟값을 출력한다."
   ]
  },
  {
   "cell_type": "code",
   "execution_count": 11,
   "metadata": {},
   "outputs": [
    {
     "name": "stdout",
     "output_type": "stream",
     "text": [
      "12\n",
      "77\n",
      "38\n",
      "41\n",
      "53\n",
      "92\n",
      "85\n",
      "256\n",
      "41\n"
     ]
    }
   ],
   "source": [
    "list_input = [int(input()) for i in range(0,7)]\n",
    "list_input = [x for x in list_input if x%2 == 1]\n",
    "print (-1) if len(list_input) == 0 else print(f'{sum(list_input)}\\n{min(list_input)}')"
   ]
  },
  {
   "cell_type": "markdown",
   "metadata": {},
   "source": [
    "# 2739 구구단\n",
    "문제\n",
    "\n",
    "N을 입력받은 뒤, 구구단 N단을 출력하는 프로그램을 작성하시오. 출력 형식에 맞춰서 출력하면 된다.\n",
    "\n",
    "입력\n",
    "\n",
    "첫째 줄에 N이 주어진다. N은 1보다 크거나 같고, 9보다 작거나 같다.\n",
    "\n",
    "출력\n",
    "\n",
    "출력형식과 같게 N*1부터 N*9까지 출력한다.\n",
    "\n",
    "2 * 1 = 2"
   ]
  },
  {
   "cell_type": "code",
   "execution_count": 12,
   "metadata": {},
   "outputs": [
    {
     "name": "stdout",
     "output_type": "stream",
     "text": [
      "3\n",
      "3 * 1 = 3\n",
      "3 * 2 = 6\n",
      "3 * 3 = 9\n",
      "3 * 4 = 12\n",
      "3 * 5 = 15\n",
      "3 * 6 = 18\n",
      "3 * 7 = 21\n",
      "3 * 8 = 24\n",
      "3 * 9 = 27\n"
     ]
    }
   ],
   "source": [
    "inputN = int(input())\n",
    "for i in range(1,10):\n",
    "    print(f'{inputN} * {i} = {inputN*i}')"
   ]
  },
  {
   "cell_type": "markdown",
   "metadata": {},
   "source": [
    "# 2743 단어길이재기\n",
    "문제\n",
    "\n",
    "알파벳으로만 이루어진 단어를 입력받아, 그 길이를 출력하는 프로그램을 작성하시오.\n",
    "\n",
    "입력\n",
    "\n",
    "첫째 줄에 영어 소문자와 대문자로만 이루어진 단어가 주어진다. 단어의 길이는 최대 100이다.\n",
    "\n",
    "출력\n",
    "\n",
    "첫째 줄에 입력으로 주어진 단어의 길이를 출력한다."
   ]
  },
  {
   "cell_type": "code",
   "execution_count": 15,
   "metadata": {},
   "outputs": [
    {
     "name": "stdout",
     "output_type": "stream",
     "text": [
      "a\n",
      "1\n"
     ]
    }
   ],
   "source": [
    "inputX = input()\n",
    "print(len(inputX))"
   ]
  },
  {
   "cell_type": "markdown",
   "metadata": {},
   "source": [
    "# 2744 대소문자바꾸기\n",
    "문제\n",
    "\n",
    "영어 소문자와 대문자로 이루어진 단어를 입력받은 뒤, 대문자는 소문자로, 소문자는 대문자로 바꾸어 출력하는 프로그램을 작성하시오.\n",
    "\n",
    "입력\n",
    "\n",
    "첫째 줄에 영어 소문자와 대문자로만 이루어진 단어가 주어진다. 단어의 길이는 최대 100이다.\n",
    "\n",
    "출력\n",
    "\n",
    "첫째 줄에 입력으로 주어진 단어에서 대문자는 소문자로, 소문자는 대문자로 바꾼 단어를 출력한다."
   ]
  },
  {
   "cell_type": "code",
   "execution_count": 28,
   "metadata": {},
   "outputs": [
    {
     "name": "stdout",
     "output_type": "stream",
     "text": [
      "a\n",
      "A\n"
     ]
    }
   ],
   "source": [
    "inputX = list(input())\n",
    "result = \"\"\n",
    "for char in inputX:\n",
    "    if 65<=ord(char)<=90:\n",
    "        result += chr(ord(char)+32)\n",
    "    else:\n",
    "        result += chr(ord(char)-32)\n",
    "print (result)"
   ]
  },
  {
   "cell_type": "code",
   "execution_count": null,
   "metadata": {},
   "outputs": [],
   "source": [
    "'''A+: 4.3, A0: 4.0, A-: 3.7\n",
    "\n",
    "B+: 3.3, B0: 3.0, B-: 2.7\n",
    "\n",
    "C+: 2.3, C0: 2.0, C-: 1.7\n",
    "\n",
    "D+: 1.3, D0: 1.0, D-: 0.7\n",
    "\n",
    "F: 0.0\n",
    "'''\n",
    "\n",
    "inputX = input()\n",
    "stupit = {\n",
    "    'A+': 4.3, \n",
    "    'A0': 4.0, \n",
    "    'A-': 3.7,\n",
    "    'B+': 3.3, \n",
    "    'B0': 3.0, \n",
    "    'B-': 2.7,\n",
    "    'C+': 2.3, \n",
    "    'C0': 2.0, \n",
    "    'C-': 1.7,\n",
    "    'D+': 1.3, \n",
    "    'D0': 1.0, \n",
    "    'D-': 0.7,\n",
    "    'F': 0.0,\n",
    "}\n",
    "print (stupit[inputX])"
   ]
  },
  {
   "cell_type": "markdown",
   "metadata": {},
   "source": [
    "# 2789 유학금지\n",
    "문제\n",
    "아주 멀리 떨어져 있는 작은 나라가 있다. 이 나라에서 가장 공부를 잘하는 학생들은 모두 다른 나라로 유학을 간다. 정부는 최고의 학생들이 자꾸 유학을 가는 이유를 찾으려고 했다. 하지만, 학생들의 이유가 모두 달랐기 때문에 정확한 이유를 찾을 수 없었다. 정부의 고위직은 뛰어난 학생들이 자꾸 유학을 가는 현상을 매우 불쾌해 했다.\n",
    "\n",
    "가장 많은 학생들이 유학을 가는 대학교는 영국의 캠브리지 대학교이다. 정부는 인터넷 검열을 통해서 해외로 나가는 이메일의 내용 중 일부를 삭제하기로 했다. 이메일의 각 단어 중에서 CAMBRIDGE에 포함된 알파벳은 모두 지우기로 했다. 즉, 어떤 이메일에 LOVA란 단어가 있다면, A는 CAMBRIDGE에 포함된 알파벳이기 때문에, 받아보는 사람은 LOV로 받는다.\n",
    "\n",
    "이렇게, 어떤 단어가 주어졌을 때, 검열을 거친 후에는 어떤 단어가 되는지 구하는 프로그램을 작성하시오.\n",
    "\n",
    "입력\n",
    "\n",
    "첫째 줄에 알파벳 대문자로 이루어진 단어가 주어진다. 이 단어는 적어도 3글자이며, 많아야 100글자이다.\n",
    "\n",
    "출력\n",
    "\n",
    "입력으로 주어진 단어를 정부가 검열을 하면 어떻게 변하는지를 출력한다. 즉, 단어에서 CAMBRIDGE에 포함된 알파벳을 모두 지운 뒤 출력한다. 항상 정답의 길이는 0보다 크다."
   ]
  },
  {
   "cell_type": "code",
   "execution_count": 3,
   "metadata": {},
   "outputs": [
    {
     "name": "stdout",
     "output_type": "stream",
     "text": [
      "KLAMNKLCNZXCCCC\n",
      "KLNKLNZX"
     ]
    }
   ],
   "source": [
    "inputX = list(input())\n",
    "bad = list('CAMBRIDGE')\n",
    "result = [x for x in inputX if x not in bad]\n",
    "for x in result:\n",
    "    print(x,end=\"\")"
   ]
  },
  {
   "cell_type": "markdown",
   "metadata": {},
   "source": [
    "# 2798 블랙잭\n",
    "문제\n",
    "카지노에서 제일 인기 있는 게임 블랙잭의 규칙은 상당히 쉽다. 카드의 합이 21을 넘지 않는 한도 내에서, 카드의 합을 최대한 크게 만드는 게임이다. 블랙잭은 카지노마다 다양한 규정이 있다.\n",
    "\n",
    "한국 최고의 블랙잭 고수 김정인은 새로운 블랙잭 규칙을 만들어 상근, 창영이와 게임하려고 한다.\n",
    "\n",
    "김정인 버젼의 블랙잭에서 각 카드에는 양의 정수가 쓰여 있다. 그 다음, 딜러는 N장의 카드를 모두 숫자가 보이도록 바닥에 놓는다. 그런 후에 딜러는 숫자 M을 크게 외친다.\n",
    "\n",
    "이제 플레이어는 제한된 시간 안에 N장의 카드 중에서 3장의 카드를 골라야 한다. 블랙잭 변형 게임이기 때문에, 플레이어가 고른 카드의 합은 M을 넘지 않으면서 M과 최대한 가깝게 만들어야 한다.\n",
    "\n",
    "N장의 카드에 써져 있는 숫자가 주어졌을 때, M을 넘지 않으면서 M에 최대한 가까운 카드 3장의 합을 구해 출력하시오.\n",
    "\n",
    "입력\n",
    "첫째 줄에 카드의 개수 N(3 ≤ N ≤ 100)과 M(10 ≤ M ≤ 300,000)이 주어진다. 둘째 줄에는 카드에 쓰여 있는 수가 주어지며, 이 값은 100,000을 넘지 않는다.\n",
    "\n",
    "합이 M을 넘지 않는 카드 3장을 찾을 수 있는 경우만 입력으로 주어진다.\n",
    "\n",
    "출력\n",
    "첫째 줄에 M을 넘지 않으면서 M에 최대한 가까운 카드 3장의 합을 출력한다."
   ]
  },
  {
   "cell_type": "code",
   "execution_count": 14,
   "metadata": {},
   "outputs": [
    {
     "name": "stdout",
     "output_type": "stream",
     "text": [
      "5 21\n",
      "5 6 7 8 9\n",
      "21\n"
     ]
    }
   ],
   "source": [
    "import random\n",
    "inputNM = list(map(int, input().split()))\n",
    "N, M = inputNM[0], inputNM[1]\n",
    "inputCardNum = list(map(int, input().split()))\n",
    "result = 0\n",
    "for i in range (0,100000):\n",
    "    temp = sum(random.sample(inputCardNum,3))\n",
    "    if M >= temp > result:\n",
    "        result = temp\n",
    "print(result)"
   ]
  },
  {
   "cell_type": "markdown",
   "metadata": {},
   "source": [
    "# 2822 점수계산\n",
    "문제\n",
    "\n",
    "상근이는 퀴즈쇼의 PD이다. 이 퀴즈쇼의 참가자는 총 8개 문제를 푼다. 참가자는 각 문제를 풀고, 그 문제를 풀었을 때 얻는 점수는 문제를 풀기 시작한 시간부터 경과한 시간과 난이도로 결정한다. 문제를 풀지 못한 경우에는 0점을 받는다. 참가자의 총 점수는 가장 높은 점수 5개의 합이다. \n",
    "\n",
    "상근이는 잠시 여자친구와 전화 통화를 하느라 참가자의 점수를 계산하지 않고 있었다. 참가자의 8개 문제 점수가 주어졌을 때, 총 점수를 구하는 프로그램을 작성하시오.\n",
    "\n",
    "입력\n",
    "\n",
    "8개 줄에 걸쳐서 각 문제에 대한 참가자의 점수가 주어진다. 점수는 0보다 크거나 같고, 150보다 작거나 같다. 모든 문제에 대한 점수는 서로 다르다. 입력으로 주어지는 순서대로 1번 문제, 2번 문제, ... 8번 문제이다.\n",
    "\n",
    "출력\n",
    "\n",
    "첫째 줄에 참가자의 총점을 출력한다. 둘째 줄에는 어떤 문제가 최종 점수에 포함되는지를 공백으로 구분하여 출력한다. 출력은 문제 번호가 증가하는 순서이어야 한다."
   ]
  },
  {
   "cell_type": "code",
   "execution_count": 49,
   "metadata": {},
   "outputs": [
    {
     "name": "stdout",
     "output_type": "stream",
     "text": [
      "1\n",
      "2\n",
      "3\n",
      "4\n",
      "5\n",
      "6\n",
      "7\n",
      "8\n",
      "30\n",
      "4 5 6 7 8\n"
     ]
    }
   ],
   "source": [
    "inputN_list = [[int(input()),i] for i in range(1,9)]\n",
    "result = sorted(inputN_list)\n",
    "result.reverse()\n",
    "for i in range (0,3):\n",
    "    result.pop()\n",
    "score = [x[0] for x in result]\n",
    "num = sorted([x[1] for x in result])\n",
    "print(sum(score))\n",
    "print(*num)"
   ]
  },
  {
   "cell_type": "markdown",
   "metadata": {},
   "source": [
    "# 2846 오르막길\n",
    "문제\n",
    "\n",
    "상근이는 자전거를 타고 등교한다. 자전거 길은 오르막길, 내리막길, 평지로 이루어져 있다. 상근이는 개강 첫 날 자전거를 타고 가면서 일정 거리마다 높이를 측정했다. 상근이는 가장 큰 오르막길의 크기를 구하려고 한다.\n",
    "\n",
    "측정한 높이는 길이가 N인 수열로 나타낼 수 있다. 여기서 오르막길은 적어도 2개의 수로 이루어진 높이가 증가하는 부분 수열이다. 오르막길의 크기는 부분 수열의 첫 번째 숫자와 마지막 숫자의 차이이다.\n",
    "\n",
    "예를 들어, 높이가 다음과 같은 길이 있다고 하자. 12 3 5 7 10 6 1 11. 이 길에는 2 개의 오르막길이 있다. 밑 줄로 표시된 부분 수열이 오르막길이다. 첫 번째 오르막길의 크기는 7이고, 두 번째 오르막길의 크기는 10이다. 높이가 12와 6인 곳은 오르막길에 속하지 않는다.\n",
    "\n",
    "가장 큰 오르막길을 구하는 프로그램을 작성하시오.\n",
    "\n",
    "입력\n",
    "\n",
    "첫째 줄에 상근이가 측정한 높이의 수이자 수열의 크기인 N(1 ≤ N ≤ 1000)이 주어진다. 둘째 줄에는 N개의 양의 정수 Pi(1 ≤ Pi ≤ 1000)가 주어진다. 각 숫자는 상근이가 측정한 높이이다.\n",
    "\n",
    "출력\n",
    "\n",
    "첫째 줄에 가장 큰 오르막길의 크기를 출력한다. 만약 오르막길이 없는 경우에는 0을 출력한다.\n",
    "\n",
    "8 \n",
    "\n",
    "12 20 1 3 4 4 11 1\n"
   ]
  },
  {
   "cell_type": "code",
   "execution_count": 54,
   "metadata": {},
   "outputs": [
    {
     "name": "stdout",
     "output_type": "stream",
     "text": [
      "8\n",
      "12 20 1 3 4 4 11 15\n",
      "0\n",
      "0\n",
      "2\n",
      "3\n",
      "0\n",
      "7\n",
      "8\n",
      "11\n"
     ]
    }
   ],
   "source": [
    "inputN = int(input())\n",
    "road = list(map(int, input().split()))\n",
    "orumak = 0\n",
    "max_orumak = 0\n",
    "for i in range(1,len(road)):\n",
    "    if road[i] > road[i-1]:\n",
    "        orumak += road[i] - road[i-1]\n",
    "        if orumak > max_orumak:\n",
    "            max_orumak = orumak\n",
    "    else :\n",
    "        orumak = 0\n",
    "print(max_orumak)"
   ]
  },
  {
   "cell_type": "markdown",
   "metadata": {},
   "source": [
    "# 2857 FBI\n",
    "문제\n",
    "\n",
    "5명의 요원 중 FBI 요원을 찾는 프로그램을 작성하시오.\n",
    "\n",
    "FBI요원은 요원의 첩보원명에 FBI가 들어있다. \n",
    "\n",
    "입력\n",
    "\n",
    "5개 줄에 요원의 첩보원명이 주어진다. 첩보원명은 알파벳 대문자, 숫자 0~9, 대시 (-)로만 이루어져 있으며, 최대 10글자이다.\n",
    "\n",
    "출력\n",
    "\n",
    "첫째 줄에 FBI 요원을 출력한다. 이때, 해당하는 요원이 몇 번째 입력인지를 공백으로 구분하여 출력해야 하며, 오름차순으로 출력해야 한다. 만약 FBI 요원이 없다면 \"HE GOT AWAY!\"를 출력한다."
   ]
  },
  {
   "cell_type": "code",
   "execution_count": 58,
   "metadata": {},
   "outputs": [
    {
     "name": "stdout",
     "output_type": "stream",
     "text": [
      "47-FBI\n",
      "BOND-007\n",
      "RF-FBI18\n",
      "MARICA-13\n",
      "13A-FBILL\n",
      "1\n",
      "3\n",
      "5\n"
     ]
    }
   ],
   "source": [
    "input_list = [input() for x in range(0,5)]\n",
    "i = 1\n",
    "isFBIhere = False\n",
    "for fbi in input_list:\n",
    "    if 'FBI' in fbi:\n",
    "        print (i)\n",
    "        isFBIhere = True\n",
    "    i += 1\n",
    "if not isFBIhere:\n",
    "    print('HE GOT AWAY!')\n"
   ]
  },
  {
   "cell_type": "markdown",
   "metadata": {},
   "source": [
    "# 2947 나무조각\n",
    "문제\n",
    "\n",
    "동혁이는 나무 조각을 5개 가지고 있다. 나무 조각에는 1부터 5까지 숫자 중 하나가 쓰여져 있다. 또, 모든 숫자는 다섯 조각 중 하나에만 쓰여 있다.\n",
    "\n",
    "동혁이는 나무 조각을 다음과 같은 과정을 거쳐서 1, 2, 3, 4, 5 순서로 만들려고 한다.\n",
    "\n",
    "첫 번째 조각의 수가 두 번째 수보다 크다면, 둘의 위치를 서로 바꾼다.\n",
    "두 번째 조각의 수가 세 번째 수보다 크다면, 둘의 위치를 서로 바꾼다.\n",
    "세 번째 조각의 수가 네 번째 수보다 크다면, 둘의 위치를 서로 바꾼다.\n",
    "네 번째 조각의 수가 다섯 번째 수보다 크다면, 둘의 위치를 서로 바꾼다.\n",
    "만약 순서가 1, 2, 3, 4, 5 순서가 아니라면 1 단계로 다시 간다.\n",
    "처음 조각의 순서가 주어졌을 때, 위치를 바꿀 때 마다 조각의 순서를 출력하는 프로그램을 작성하시오.\n",
    "\n",
    "입력\n",
    "\n",
    "첫째 줄에 조각에 쓰여 있는 수가 순서대로 주어진다. 숫자는 1보다 크거나 같고, 5보다 작거나 같으며, 중복되지 않는다. 처음 순서는 1, 2, 3, 4, 5가 아니다.\n",
    "\n",
    "출력\n",
    "\n",
    "두 조각의 순서가 바뀔때 마다 조각의 순서를 출력한다."
   ]
  },
  {
   "cell_type": "code",
   "execution_count": 62,
   "metadata": {},
   "outputs": [
    {
     "name": "stdout",
     "output_type": "stream",
     "text": [
      "5 4 3 2 1\n",
      "4 5 3 2 1\n",
      "4 3 5 2 1\n",
      "4 3 2 5 1\n",
      "4 3 2 1 5\n",
      "3 4 2 1 5\n",
      "3 2 4 1 5\n",
      "3 2 1 4 5\n",
      "2 3 1 4 5\n",
      "2 1 3 4 5\n",
      "1 2 3 4 5\n"
     ]
    }
   ],
   "source": [
    "input_list = [*map(int, input().split())]\n",
    "while True:\n",
    "    for i in range (0,4):\n",
    "        if input_list[i] > input_list[i+1]:\n",
    "            input_list[i],input_list[i+1] = input_list[i+1],input_list[i]\n",
    "            print(*input_list)\n",
    "    if input_list == sorted(input_list):\n",
    "        break"
   ]
  },
  {
   "cell_type": "markdown",
   "metadata": {},
   "source": [
    "# 2953 나는 요리사다\n",
    "문제\n",
    "\n",
    "\"나는 요리사다\"는 다섯 참가자들이 서로의 요리 실력을 뽐내는 티비 프로이다. 각 참가자는 자신있는 음식을 하나씩 만들어오고, 서로 다른 사람의 음식을 점수로 평가해준다. 점수는 1점부터 5점까지 있다.\n",
    "\n",
    "각 참가자가 얻은 점수는 다른 사람이 평가해 준 점수의 합이다. 이 쇼의 우승자는 가장 많은 점수를 얻은 사람이 된다.\n",
    "\n",
    "각 참가자가 얻은 평가 점수가 주어졌을 때, 우승자와 그의 점수를 구하는 프로그램을 작성하시오.\n",
    "\n",
    "입력\n",
    "\n",
    "총 다섯 개 줄에 각 참가자가 얻은 네 개의 평가 점수가 공백으로 구분되어 주어진다. 첫 번째 참가자부터 다섯 번째 참가자까지 순서대로 주어진다. 항상 우승자가 유일한 경우만 입력으로 주어진다.\n",
    "\n",
    "출력\n",
    "\n",
    "첫째 줄에 우승자의 번호와 그가 얻은 점수를 출력한다."
   ]
  },
  {
   "cell_type": "code",
   "execution_count": 66,
   "metadata": {},
   "outputs": [
    {
     "name": "stdout",
     "output_type": "stream",
     "text": [
      "5 4 4 5\n",
      "3 3 3 3\n",
      "2 3 4 5\n",
      "5 5 5 4\n",
      "3 4 5 5\n",
      "3 19\n"
     ]
    }
   ],
   "source": [
    "input_list = [[*map(int, input().split())] for i in range(0,5)]\n",
    "result = [sum(x) for x in input_list]\n",
    "print(result.index(max(result))+1,max(result))"
   ]
  },
  {
   "cell_type": "markdown",
   "metadata": {},
   "source": [
    "# 2966 찍기\n",
    "문제\n",
    "\n",
    "상근이, 창영이, 현진이는 역사와 전통을 자랑하는 Sogang ACM-ICPC Team에 가입하려고 한다. 하지만, 가입하려고 하는 모든 지원자는 C언어 필기시험을 통과해야 한다. 이들은 C언어를 할 줄 모른다. 따라서, 필기시험을 모두 찍으려고 한다.\n",
    "\n",
    "상근이는 A, B, C, A, B, C, A, B, C, A, B, C, ...와 같이 찍어야 통과할 수 있다고 생각한다. \n",
    "\n",
    "하지만, 창영이는 B, A, B, C, B, A, B, C, B, A, B, C, ...와 같이 찍는 방법이 만점의 지름길이라고 생각한다.\n",
    "\n",
    "마지막으로, 현진이는 상근이와 창영이를 비웃으면서 C, C, A, A, B, B, C, C, A, A, B, B, ...와 같이 찍어야 통과한다고 말했다.\n",
    "\n",
    "필기시험의 정답이 주어졌을 때, 상근이, 창영이, 현진이 중에서 가장 많은 문제를 맞힌 사람이 누구인지 구하는 프로그램을 작성하시오.\n",
    "\n",
    "입력\n",
    "\n",
    "첫째 줄에 필기시험의 문제의 수 N이 주어진다. (1 ≤ N ≤ 100)\n",
    "\n",
    "둘째 줄에는 시험의 정답이 주어진다.\n",
    "\n",
    "출력\n",
    "\n",
    "첫째 줄에 가장 많은 문제를 맞춘 사람이 몇 문제를 맞혔는지 출력한다.\n",
    "\n",
    "다음 줄에는 가장 많은 문제를 맞힌 사람의 아이디를 출력한다. 상근이의 아이디는 Adrian, 창영이의 아이디는 Bruno, 현진이의 아이디는 Goran이다. 아이디 여러 개를 출력하는 경우에는 상근이, 창영이, 현진이 순서로 출력하고, 한 줄에 하나씩 출력한다."
   ]
  },
  {
   "cell_type": "code",
   "execution_count": 8,
   "metadata": {},
   "outputs": [
    {
     "name": "stdout",
     "output_type": "stream",
     "text": [
      "9\n",
      "AAAABBBBB\n",
      "4\n",
      "AdrianBrunoGoran"
     ]
    }
   ],
   "source": [
    "inputN = int(input())\n",
    "name = ['Adrian', 'Bruno', 'Goran']\n",
    "sang, chang, hyun = 'ABC','BABC','CCAABB'\n",
    "inputCorrect = input()\n",
    "score = [0,0,0]\n",
    "for i in range(0,len(inputCorrect)):\n",
    "    if inputCorrect[i] == sang[i%3]:\n",
    "        score[0] += 1\n",
    "    if inputCorrect[i] == chang[i%4]:\n",
    "        score[1] += 1\n",
    "    if inputCorrect[i] == hyun[i%6]:\n",
    "        score[2] += 1\n",
    "print(max(score))\n",
    "for i in range(0,3):\n",
    "    if score[i] == max(score):\n",
    "        print(name[i])"
   ]
  },
  {
   "cell_type": "markdown",
   "metadata": {},
   "source": [
    "# 3004 체스판조각\n",
    "문제\n",
    "\n",
    "상근이는 3003번에서 동혁이가 발견한 체스판을 톱으로 자르려고 한다.\n",
    "\n",
    "상근이는 체스판을 최대 N번 자를 수 있으며, 변에 평행하게만 자를 수 있다. 또, 자를 때는 체스판의 그 변의 한쪽 끝에서 다른쪽 끝까지 잘라야 한다. 자른 후에는 조각을 이동할 수 없다.\n",
    "\n",
    "이때, 최대 몇 조각을 낼 수 있는지 구하는 프로그램을 작성하시오.\n",
    "\n",
    "입력\n",
    "\n",
    "첫째 줄에 N이 주어진다. (1 ≤ N ≤ 100)\n",
    "\n",
    "출력\n",
    "\n",
    "첫째 줄에 상근이가 얻을 수 있는 조각의 최댓값을 출력한다."
   ]
  },
  {
   "cell_type": "code",
   "execution_count": 16,
   "metadata": {},
   "outputs": [
    {
     "name": "stdout",
     "output_type": "stream",
     "text": [
      "6\n",
      "16\n"
     ]
    }
   ],
   "source": [
    "inputN = int(input())\n",
    "if inputN%2 == 1:\n",
    "    print((inputN//2+1)*(inputN//2+2))\n",
    "else :\n",
    "    print(int(inputN/2+1)**2)"
   ]
  },
  {
   "cell_type": "markdown",
   "metadata": {},
   "source": [
    "# 3035 스캐너\n",
    "문제\n",
    "\n",
    "상근이는 매일 아침 영자 신문을 학교에 가져와서 읽는다. 하지만, 상근이의 눈은 점점 나빠졌고, 더 이상 아침 신문을 읽을 수 없는 상황에 이르렀다. 상근이는 스캐너를 이용해서 글자를 확대한 다음에 보려고 한다.\n",
    "\n",
    "신문 기사는 글자로 이루어진 R*C 행렬로 나타낼 수 있다. 글자는 알파벳과 숫자, 그리고 마침표로 이루어져 있다.\n",
    "\n",
    "스캐너는 ZR과 ZC를 입력으로 받는다. 이렇게 되면, 스캐너는 1*1크기였던 각 문자를 ZR*ZC크기로 확대해서 출력해 준다.\n",
    "\n",
    "신문 기사와 ZR, ZC가 주어졌을 때, 스캐너의 스캔을 거친 결과를 구하는 프로그램을 작성하시오.\n",
    "\n",
    "입력\n",
    "\n",
    "첫째 줄에 R, C, ZR, ZC가 주어진다. R과 C는 1과 50 사이의 정수이고, ZR과 ZC는 1과 5 사이의 정수이다.\n",
    "\n",
    "다음 R개 줄에는 신문 기사가 주어진다.\n",
    "\n",
    "출력\n",
    "\n",
    "스캐너에 스캔된 결과를 총 R*ZR개 줄에 걸쳐서 C*ZC개 문자씩 출력한다."
   ]
  },
  {
   "cell_type": "code",
   "execution_count": 18,
   "metadata": {},
   "outputs": [
    {
     "name": "stdout",
     "output_type": "stream",
     "text": [
      "3 3 1 2\n",
      "oxo\n",
      "xox\n",
      "oxo\n",
      "ooxxoo\n",
      "xxooxx\n",
      "ooxxoo\n"
     ]
    }
   ],
   "source": [
    "R, C, ZR, ZC = list(map(int,input().split()))\n",
    "news = []\n",
    "for i in range(0,R):\n",
    "    news += [input()]\n",
    "for i in range (0,ZR*R):\n",
    "    for j in range(0, ZC*C):\n",
    "        print(news[i//ZR][j//ZC],end=\"\")\n",
    "    print()"
   ]
  }
 ],
 "metadata": {
  "kernelspec": {
   "display_name": "Python 3",
   "language": "python",
   "name": "python3"
  },
  "language_info": {
   "codemirror_mode": {
    "name": "ipython",
    "version": 3
   },
   "file_extension": ".py",
   "mimetype": "text/x-python",
   "name": "python",
   "nbconvert_exporter": "python",
   "pygments_lexer": "ipython3",
   "version": "3.6.5"
  }
 },
 "nbformat": 4,
 "nbformat_minor": 2
}
