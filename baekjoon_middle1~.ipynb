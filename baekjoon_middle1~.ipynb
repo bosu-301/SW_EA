{
 "cells": [
  {
   "cell_type": "markdown",
   "metadata": {},
   "source": [
    "# 1003 피보나치 함수\n",
    "문제\n",
    "\n",
    "다음 소스는 N번째 피보나치 수를 구하는 C++ 함수이다.\n",
    "\n",
    "```\n",
    "int fibonacci(int n) {\n",
    "    if (n == 0) {\n",
    "        printf(\"0\");\n",
    "        return 0;\n",
    "    } else if (n == 1) {\n",
    "        printf(\"1\");\n",
    "        return 1;\n",
    "    } else {\n",
    "        return fibonacci(n‐1) + fibonacci(n‐2);\n",
    "    }\n",
    "}\n",
    "```\n",
    "fibonacci(3)을 호출하면 다음과 같은 일이 일어난다.\n",
    "\n",
    "fibonacci(3)은 fibonacci(2)와 fibonacci(1) (첫 번째 호출)을 호출한다.\n",
    "fibonacci(2)는 fibonacci(1) (두 번째 호출)과 fibonacci(0)을 호출한다.\n",
    "두 번째 호출한 fibonacci(1)은 1을 출력하고 1을 리턴한다.\n",
    "fibonacci(0)은 0을 출력하고, 0을 리턴한다.\n",
    "fibonacci(2)는 fibonacci(1)과 fibonacci(0)의 결과를 얻고, 1을 리턴한다.\n",
    "첫 번째 호출한 fibonacci(1)은 1을 출력하고, 1을 리턴한다.\n",
    "fibonacci(3)은 fibonacci(2)와 fibonacci(1)의 결과를 얻고, 2를 리턴한다.\n",
    "1은 2번 출력되고, 0은 1번 출력된다. N이 주어졌을 때, fibonacci(N)을 호출했을 때, 0과 1이 각각 몇 번 출력되는지 구하는 프로그램을 작성하시오.\n",
    "\n",
    "입력\n",
    "첫째 줄에 테스트 케이스의 개수 T가 주어진다.\n",
    "\n",
    "각 테스트 케이스는 한 줄로 이루어져 있고, N이 주어진다. N은 40보다 작거나 같은 자연수 또는 0이다.\n",
    "\n",
    "출력\n",
    "각 테스트 케이스마다 0이 출력되는 횟수와 1이 출력되는 횟수를 공백으로 구분해서 출력한다."
   ]
  },
  {
   "cell_type": "code",
   "execution_count": 5,
   "metadata": {},
   "outputs": [
    {
     "name": "stdout",
     "output_type": "stream",
     "text": [
      "3\n",
      "0\n",
      "1\n",
      "3\n",
      "1 0\n",
      "0 1\n",
      "2 1\n"
     ]
    }
   ],
   "source": [
    "fibo = [0 for x in range(0,41)]\n",
    "fibo [0], fibo[1] = 0,1\n",
    "for i in range (2,41):\n",
    "    fibo[i] = fibo[i-1] + fibo [i-2]\n",
    "datas = []\n",
    "inputT = int(input())\n",
    "for i in range (0,inputT):\n",
    "    datas += [int(input())]\n",
    "for data in datas:\n",
    "    if data == 0:\n",
    "        print (1,0)\n",
    "    elif data == 1:\n",
    "        print (0,1)\n",
    "    else:\n",
    "        print (fibo[data-1],fibo[data])"
   ]
  },
  {
   "cell_type": "code",
   "execution_count": 8,
   "metadata": {},
   "outputs": [],
   "source": [
    "a = ['a']\n",
    "a.remove('a')"
   ]
  },
  {
   "cell_type": "markdown",
   "metadata": {},
   "source": [
    "# 1026 보물\n",
    "\n",
    "문제\n",
    "\n",
    "옛날 옛적에 수학이 항상 큰 골칫거리였던 나라가 있었다. 이 나라의 국왕 김지민은 다음과 같은 문제를 내고 큰 상금을 걸었다.\n",
    "\n",
    "길이가 N인 정수 배열 A와 B가 있다. 다음과 같이 함수 S를 정의하자.\n",
    "\n",
    "S = A[0]*B[0] + ... + A[N-1]*B[N-1]\n",
    "\n",
    "S의 값을 가장 작게 만들기 위해 A의 수를 재배열하자. 단, B에 있는 수는 재배열하면 안 된다.\n",
    "\n",
    "S의 최솟값을 출력하는 프로그램을 작성하시오.\n",
    "\n",
    "입력\n",
    "\n",
    "첫째 줄에 N이 주어진다. 둘째 줄에는 A에 있는 N개의 수가 순서대로 주어지고, 셋째 줄에는 B에 있는 수가 순서대로 주어진다. N은 50보다 작거나 같은 자연수이고, A와 B의 각 원소는 100보다 작거나 같은 음이 아닌 정수이다.\n",
    "\n",
    "출력\n",
    "\n",
    "첫째 줄에 S의 최솟값을 출력한다."
   ]
  },
  {
   "cell_type": "code",
   "execution_count": 1,
   "metadata": {},
   "outputs": [
    {
     "name": "stdout",
     "output_type": "stream",
     "text": [
      "5\n",
      "1 1 1 6 0\n",
      "2 7 8 3 1\n",
      "18\n"
     ]
    }
   ],
   "source": [
    "n = int(input())\n",
    "A = list(map(int,input().split()))\n",
    "B = list(map(int,input().split()))\n",
    "S = []\n",
    "for i in range(0,n):\n",
    "    S += [A.pop(A.index(max(A)))*B.pop(B.index(min(B)))]\n",
    "print (sum(S))"
   ]
  },
  {
   "cell_type": "markdown",
   "metadata": {},
   "source": [
    "# 1037 약수\n",
    "문제\n",
    "\n",
    "양수 A가 N의 진짜 약수가 되려면, N이 A의 배수이고, A가 1과 N이 아니어야 한다. 어떤 수 N의 진짜 약수가 모두 주어질 때, N을 구하는 프로그램을 작성하시오.\n",
    "\n",
    "입력\n",
    "\n",
    "첫째 줄에 N의 진짜 약수의 개수가 주어진다. 이 개수는 50보다 작거나 같은 자연수이다. 둘째 줄에는 N의 진짜 약수가 주어진다. 1,000,000보다 작거나 같고, 2보다 크거나 같은 자연수이고, 중복되지 않는다.\n",
    "\n",
    "출력\n",
    "\n",
    "첫째 줄에 N을 출력한다. N은 항상 32비트 부호있는 정수로 표현할 수 있다."
   ]
  },
  {
   "cell_type": "code",
   "execution_count": null,
   "metadata": {},
   "outputs": [],
   "source": [
    "N = int(input())\n",
    "n_list = list(map(int,input().split()))\n",
    "print(min(n_list)*max(n_list))"
   ]
  },
  {
   "cell_type": "markdown",
   "metadata": {},
   "source": [
    "# 1065 한수\n",
    "문제\n",
    "\n",
    "어떤 양의 정수 X의 자리수가 등차수열을 이룬다면, 그 수를 한수라고 한다. 등차수열은 연속된 두 개의 수의 차이가 일정한 수열을 말한다. N이 주어졌을 때, 1보다 크거나 같고, N보다 작거나 같은 한수의 개수를 출력하는 프로그램을 작성하시오. \n",
    "\n",
    "입력\n",
    "\n",
    "첫째 줄에 1,000보다 작거나 같은 자연수 N이 주어진다.\n",
    "\n",
    "출력\n",
    "\n",
    "첫째 줄에 1보다 크거나 같고, N보다 작거나 같은 한수의 개수를 출력한다."
   ]
  },
  {
   "cell_type": "code",
   "execution_count": 18,
   "metadata": {},
   "outputs": [
    {
     "name": "stdout",
     "output_type": "stream",
     "text": [
      "999\n",
      "144\n"
     ]
    }
   ],
   "source": [
    "def hansu(N,H=0):\n",
    "    if len(N)> 2:\n",
    "        if int(N[2]) - int(N[1]) == int(N[1]) - int(N[0]):\n",
    "            H += 1\n",
    "            return hansu(str(int(N)-1),H)\n",
    "        else:\n",
    "            return hansu(str(int(N)-1),H)\n",
    "    else:\n",
    "        H +=int(N)\n",
    "        return H\n",
    "N = input()\n",
    "print(hansu(N))"
   ]
  },
  {
   "cell_type": "markdown",
   "metadata": {},
   "source": [
    "# 1085 직사각형에서 탈출\n",
    "문제\n",
    "\n",
    "한수는 지금 (x, y)에 있다. 직사각형의 왼쪽 아래 꼭짓점은 (0, 0)에 있고, 오른쪽 위 꼭짓점은 (w, h)에 있다. 직사각형의 경계선까지 가는 거리의 최솟값을 구하는 프로그램을 작성하시오.\n",
    "\n",
    "입력\n",
    "\n",
    "첫째 줄에 x y w h가 주어진다. w와 h는 1,000보다 작거나 같은 자연수이고, x는 1보다 크거나 같고, w-1보다 작거나 같은 자연수이고, y는 1보다 크거나 같고, h-1보다 작거나 같은 자연수이다.\n",
    "\n",
    "출력\n",
    "\n",
    "첫째 줄에 문제의 정답을 출력한다."
   ]
  },
  {
   "cell_type": "code",
   "execution_count": 21,
   "metadata": {},
   "outputs": [
    {
     "name": "stdout",
     "output_type": "stream",
     "text": [
      "1 5 10 10\n",
      "1\n"
     ]
    }
   ],
   "source": [
    "x, y, w, h =list(map(int,input().split()))\n",
    "GO = [x, y, w-x, h-y]\n",
    "print(min(GO))"
   ]
  },
  {
   "cell_type": "markdown",
   "metadata": {},
   "source": [
    "# 1100 하얀 칸\n",
    "문제\n",
    "\n",
    "체스판은 8*8크기이고, 검정 칸과 하얀 칸이 번갈아가면서 색칠되어 있다. 가장 왼쪽 위칸 (0,0)은 하얀색이다. 체스판의 상태가 주어졌을 때, 하얀 칸 위에 말이 몇 개 있는지 출력하는 프로그램을 작성하시오.\n",
    "\n",
    "입력\n",
    "\n",
    "첫째 줄부터 8개의 줄에 체스판의 상태가 주어진다. ‘.’은 빈 칸이고, ‘F’는 위에 말이 있는 칸이다.\n",
    "\n",
    "출력\n",
    "\n",
    "첫째 줄에 문제의 정답을 출력한다."
   ]
  },
  {
   "cell_type": "code",
   "execution_count": null,
   "metadata": {},
   "outputs": [],
   "source": [
    "chess = []\n",
    "for i in range(0,8):\n",
    "    chess += [input()]\n",
    "result = 0\n",
    "for i in range(0,8):\n",
    "    for j in range(0,8):\n",
    "        if abs(i-j)%2 == 0:\n",
    "            if chess[i][j] == 'F':\n",
    "                result += 1\n",
    "print(result)"
   ]
  },
  {
   "cell_type": "markdown",
   "metadata": {},
   "source": [
    "# 1110 더하기 사이클\n",
    "문제\n",
    "\n",
    "0보다 크거나 같고, 99보다 작거나 같은 정수가 주어질 때 다음과 같은 연산을 할 수 있다. 먼저 주어진 수가 10보다 작다면 앞에 0을 붙여 두 자리 수로 만들고, 각 자리의 숫자를 더한다. 그 다음, 주어진 수의 가장 오른쪽 자리 수와 앞에서 구한 합의 가장 오른쪽 자리 수를 이어 붙이면 새로운 수를 만들 수 있다. 다음 예를 보자.\n",
    "\n",
    "26부터 시작한다. 2+6 = 8이다. 새로운 수는 68이다. 6+8 = 14이다. 새로운 수는 84이다. 8+4 = 12이다. 새로운 수는 42이다. 4+2 = 6이다. 새로운 수는 26이다.\n",
    "\n",
    "위의 예는 4번만에 원래 수로 돌아올 수 있다. 따라서 26의 사이클의 길이는 4이다.\n",
    "\n",
    "N이 주어졌을 때, N의 사이클의 길이를 구하는 프로그램을 작성하시오.\n",
    "\n",
    "입력\n",
    "\n",
    "첫째 줄에 N이 주어진다. N은 0보다 크거나 같고, 99보다 작거나 같은 정수이다.\n",
    "\n",
    "출력\n",
    "\n",
    "첫째 줄에 N의 사이클 길이를 출력한다."
   ]
  },
  {
   "cell_type": "code",
   "execution_count": 16,
   "metadata": {},
   "outputs": [
    {
     "name": "stdout",
     "output_type": "stream",
     "text": [
      "60\n",
      "20\n"
     ]
    }
   ],
   "source": [
    "def plus(N, c, n):\n",
    "    if int(n) <10:\n",
    "        n = n[-1] + n[-1]\n",
    "    else:\n",
    "        new_n = str(int(n[0]) + int(n[1]))\n",
    "        if int(new_n) < 10:\n",
    "            n = n[1]+new_n\n",
    "        else :\n",
    "            n = n[1]+new_n[1]\n",
    "    #print(n,c)\n",
    "    if not int(N) == int(n):\n",
    "        return (plus(N, c + 1, n))\n",
    "    return c\n",
    "\n",
    "N = input()\n",
    "print(plus(N,1,N))"
   ]
  },
  {
   "cell_type": "markdown",
   "metadata": {},
   "source": [
    "# 1157 단어공부\n",
    "문제\n",
    "\n",
    "알파벳 대소문자로 된 단어가 주어지면, 이 단어에서 가장 많이 사용된 알파벳이 무엇인지 알아내는 프로그램을 작성하시오. 단, 대문자와 소문자를 구분하지 않는다.\n",
    "\n",
    "입력\n",
    "\n",
    "첫째 줄에 알파벳 대소문자로 이루어진 단어가 주어진다. 주어지는 단어의 길이는 1,000,000을 넘지 않는다.\n",
    "\n",
    "출력\n",
    "\n",
    "첫째 줄에 이 단어에서 가장 많이 사용된 알파벳을 대문자로 출력한다. 단, 가장 많이 사용된 알파벳이 여러 개 존재하는 경우에는 ?를 출력한다."
   ]
  },
  {
   "cell_type": "code",
   "execution_count": 6,
   "metadata": {},
   "outputs": [
    {
     "name": "stdout",
     "output_type": "stream",
     "text": [
      "Baaa\n",
      "A\n"
     ]
    }
   ],
   "source": [
    "inputX = input()\n",
    "inputX = inputX.upper()\n",
    "dic = {}\n",
    "for x in inputX:\n",
    "    if x in dic.keys():\n",
    "        dic[x] += 1\n",
    "    else :\n",
    "        dic[x] = 1\n",
    "max_num = max(dic.values())\n",
    "result = [x for x,y in dic.items() if y == max_num]\n",
    "if len(result)>1:\n",
    "    print('?')\n",
    "else :\n",
    "    print(*result)"
   ]
  },
  {
   "cell_type": "markdown",
   "metadata": {},
   "source": [
    "# 1159 농구 경기\n",
    "문제\n",
    "\n",
    "상근이는 농구의 세계에서 점차 영향력을 넓혀가고 있다. 처음에 그는 농구 경기를 좋아하는 사람이었다. 농구에 대한 열정은 그를 막을 수 없었고, 결국 상근이는 농구장을 청소하는 일을 시작했다. 상근이도 농구장을 청소하면서 감독이 되기 위해 가져야할 능력을 공부해나갔다. 서당개 3년이면 풍월을 읊듯이 상근이는 점점 감독으로 한 걸음 다가가고 있었다. 어느 날 그에게 지방의 한 프로농구팀을 감독할 기회가 생기게 되었다. 그는 엄청난 지도력을 보여주며 프로 리그에서 우승을 했고, 이제 국가대표팀의 감독이 되었다.\n",
    "\n",
    "내일은 일본과 국가대표 친선 경기가 있는 날이다. 상근이는 내일 경기에 나설 선발 명단을 작성해야 한다.\n",
    "\n",
    "국가대표팀의 감독이 된 이후에 상근이는 매우 게을러졌다. 그는 선수의 이름을 기억하지 못하고, 각 선수의 능력도 알지 못한다. 따라서, 누가 선발인지 기억하기 쉽게 하기 위해 성의 첫 글자가 같은 선수 5명을 선발하려고 한다. 만약, 성의 첫 글자가 같은 선수가 5명보다 적다면, 상근이는 내일 있을 친선 경기를 기권하려고 한다.\n",
    "\n",
    "상근이는 내일 경기를 위해 뽑을 수 있는 성의 첫 글자를 모두 구해보려고 한다.\n",
    "\n",
    "입력\n",
    "\n",
    "첫째 줄에 선수의 수 N (1 ≤ N ≤ 150)이 주어진다. 다음 N개 줄에는 각 선수의 성이 주어진다. (성은 알파벳 소문자로만 이루어져 있고, 최대 30글자이다)\n",
    "\n",
    "출력\n",
    "\n",
    "상근이가 선수 다섯 명을 선발할 수 없는 경우에는 \"PREDAJA\" (따옴표 없이)를 출력한다. PREDAJA는 크로아티아어로 항복을 의미한다. 선발할 수 있는 경우에는 가능한 성의 첫 글자를 사전순으로 공백없이 모두 출력한다."
   ]
  },
  {
   "cell_type": "code",
   "execution_count": 3,
   "metadata": {},
   "outputs": [
    {
     "name": "stdout",
     "output_type": "stream",
     "text": [
      "\n"
     ]
    },
    {
     "ename": "ValueError",
     "evalue": "invalid literal for int() with base 10: ''",
     "output_type": "error",
     "traceback": [
      "\u001b[1;31m---------------------------------------------------------------------------\u001b[0m",
      "\u001b[1;31mValueError\u001b[0m                                Traceback (most recent call last)",
      "\u001b[1;32m<ipython-input-3-4b50cf8eab3c>\u001b[0m in \u001b[0;36m<module>\u001b[1;34m\u001b[0m\n\u001b[1;32m----> 1\u001b[1;33m \u001b[0minputN\u001b[0m \u001b[1;33m=\u001b[0m \u001b[0mint\u001b[0m\u001b[1;33m(\u001b[0m\u001b[0minput\u001b[0m\u001b[1;33m(\u001b[0m\u001b[1;33m)\u001b[0m\u001b[1;33m)\u001b[0m\u001b[1;33m\u001b[0m\u001b[1;33m\u001b[0m\u001b[0m\n\u001b[0m\u001b[0;32m      2\u001b[0m \u001b[0mdatas\u001b[0m \u001b[1;33m=\u001b[0m \u001b[1;33m[\u001b[0m\u001b[1;33m]\u001b[0m\u001b[1;33m\u001b[0m\u001b[1;33m\u001b[0m\u001b[0m\n\u001b[0;32m      3\u001b[0m \u001b[1;32mfor\u001b[0m \u001b[0mi\u001b[0m \u001b[1;32min\u001b[0m \u001b[0mrange\u001b[0m \u001b[1;33m(\u001b[0m\u001b[0minputN\u001b[0m\u001b[1;33m)\u001b[0m\u001b[1;33m:\u001b[0m\u001b[1;33m\u001b[0m\u001b[1;33m\u001b[0m\u001b[0m\n\u001b[0;32m      4\u001b[0m     \u001b[0mdatas\u001b[0m \u001b[1;33m+=\u001b[0m \u001b[1;33m[\u001b[0m\u001b[0minput\u001b[0m\u001b[1;33m(\u001b[0m\u001b[1;33m)\u001b[0m\u001b[1;33m]\u001b[0m\u001b[1;33m\u001b[0m\u001b[1;33m\u001b[0m\u001b[0m\n\u001b[0;32m      5\u001b[0m \u001b[0mtas\u001b[0m  \u001b[1;33m=\u001b[0m \u001b[1;33m[\u001b[0m\u001b[0mdata\u001b[0m\u001b[1;33m[\u001b[0m\u001b[1;36m0\u001b[0m\u001b[1;33m]\u001b[0m \u001b[1;32mfor\u001b[0m \u001b[0mdata\u001b[0m \u001b[1;32min\u001b[0m \u001b[0mdatas\u001b[0m\u001b[1;33m]\u001b[0m\u001b[1;33m\u001b[0m\u001b[1;33m\u001b[0m\u001b[0m\n",
      "\u001b[1;31mValueError\u001b[0m: invalid literal for int() with base 10: ''"
     ]
    }
   ],
   "source": [
    "inputN = int(input())\n",
    "datas = []\n",
    "for i in range (inputN):\n",
    "    datas += [input()]\n",
    "tas  = [data[0] for data in datas]\n",
    "result = [x for x in set(tas) if tas.count(x) >= 5]\n",
    "if result == []:\n",
    "    print ('PREDAJA')\n",
    "else :\n",
    "    result.sort()\n",
    "    print(''.join(result))"
   ]
  },
  {
   "cell_type": "markdown",
   "metadata": {},
   "source": [
    "# 1193 분수 찾기\n",
    "\n",
    "```문제\n",
    "\n",
    "무한히 큰 배열에 다음과 같이 분수들이 적혀있다.\n",
    "\n",
    "1/1\t1/2\t1/3\t1/4\t1/5\t…\n",
    "2/1\t2/2\t2/3\t2/4\t…\t…\n",
    "3/1\t3/2\t3/3\t…\t…\t…\n",
    "4/1\t4/2\t…\t…\t…\t…\n",
    "5/1\t…\t…\t…\t…\t…\n",
    "…\t…\t…\t…\t…\t…\n",
    "이와 같이 나열된 분수들을 1/1 -> 1/2 -> 2/1 -> 3/1 -> 2/2 -> … 과 같은 지그재그 순서로 차례대로 1번, 2번, 3번, 4번, 5번, … 분수라고 하자.\n",
    "\n",
    "X가 주어졌을 때, X번째 분수를 구하는 프로그램을 작성하시오.\n",
    "\n",
    "입력\n",
    "\n",
    "첫째 줄에 X(1 ≤ X ≤ 10,000,000)가 주어진다.\n",
    "\n",
    "출력\n",
    "\n",
    "첫째 줄에 분수를 출력한다.```"
   ]
  },
  {
   "cell_type": "code",
   "execution_count": 2,
   "metadata": {},
   "outputs": [
    {
     "name": "stdout",
     "output_type": "stream",
     "text": [
      "2/4"
     ]
    }
   ],
   "source": [
    "X = int(input())\n",
    "n=1\n",
    "while n*(n+1)/2<X:\n",
    "    n += 1\n",
    "new = n*(n+1)/2 - X +1\n",
    "n += 1\n",
    "if n%2 == 0:\n",
    "    print(f'{int(new)}/{int(n-new)}',end='')\n",
    "else :\n",
    "    print(f'{int(n-new)}/{int(new)}',end='')"
   ]
  },
  {
   "cell_type": "markdown",
   "metadata": {},
   "source": [
    "# 1225 이상한 곱셈\n",
    "문제\n",
    "A*B를 계산하다 지겨워진 형택이는 A*B를 새로운 방법으로 정의하려고 한다.\n",
    "\n",
    "A에서 한 자리를 뽑고 * B에서 임의로 한 자리를 뽑아 곱한다.\n",
    "\n",
    "의 가능한 모든 조합 (A가 n자리, B가 m자리 수라면 총 가능한 조합은 n*m개)을 더한 수로 정의하려고 한다.\n",
    "\n",
    "예를 들어 121*34는\n",
    "\n",
    "1*3 + 1*4 + 2*3 + 2*4 + 1*3 + 1*4 = 28\n",
    "\n",
    "이 된다. 이러한 형택이의 곱셈 결과를 구하는 프로그램을 작성하시오.\n",
    "\n",
    "입력\n",
    "첫째 줄에 A와 B가 주어진다. 주어지는 두 수는 모두 10,000자리를 넘지 않는다.\n",
    "\n",
    "출력\n",
    "첫째 줄에 형택이의 곱셈 결과를 출력한다."
   ]
  },
  {
   "cell_type": "code",
   "execution_count": 8,
   "metadata": {},
   "outputs": [
    {
     "name": "stdout",
     "output_type": "stream",
     "text": [
      "111111111111111111111111111111111111111111111111111111111111111111 111111111111111111111111111111111111111111111111111111111111111111111\n",
      "4554\n"
     ]
    }
   ],
   "source": [
    "A, B = input().split()\n",
    "total = 0\n",
    "for a in A:\n",
    "    for b in B:\n",
    "        total += int(a)*int(b)\n",
    "print(total)"
   ]
  },
  {
   "cell_type": "markdown",
   "metadata": {},
   "source": [
    "# 1233 주사위\n",
    "문제\n",
    "지민이는 주사위 던지기 게임을 좋아하여 어느 날 옆에 있는 동호를 설득하여 주사위 던지기 게임을 하자고 하였다. 총 3개의 주사위가 있다. 그리고 이 주사위는 각각 S1(2 ≤ S1 ≤ 20), S2(2 ≤ S2 ≤ 20), S3(2 ≤ S3 ≤ 40)개의 면이 있다. (실제로는 주사위가 6개의 면이 있는 것이 정상이지만 특별한 주사위라 생각하자.)\n",
    "\n",
    "문제는 세 개의 주사위를 동시에 던졌을 때 가장 높은 빈도로 나오는 세 주사위의 합을 구하는 것이다.\n",
    "\n",
    "입력\n",
    "입력 파일의 첫째 줄에 정수 S1, S2, S3가 주어진다.\n",
    "\n",
    "출력\n",
    "출력 파일의 첫째 줄에 가장 높은 빈도로 나오는 세 주사위 합을 구하는 것이다. 단 답이 여러개라면 가장 합이 작은 것을 출력한다."
   ]
  },
  {
   "cell_type": "code",
   "execution_count": 9,
   "metadata": {},
   "outputs": [
    {
     "name": "stdout",
     "output_type": "stream",
     "text": [
      "3 2 3\n",
      "[0, 3, 2, 5, 3, 6, 5, 8]\n"
     ]
    }
   ],
   "source": [
    "S = list(map(int,input().split()))\n",
    "arr = []\n",
    "for i in range(1<<3):\n",
    "    temp = []\n",
    "    for j in range(3+1):\n",
    "        if i &(1<<j):\n",
    "            temp += [S[j]]\n",
    "    arr += [sum(temp)]\n",
    "print (arr)"
   ]
  },
  {
   "cell_type": "markdown",
   "metadata": {},
   "source": [
    "# 1292 쉽게푸는문제\n",
    "문제\n",
    "동호는 내년에 초등학교를 입학한다. 그래서 동호 어머니는 수학 선행 학습을 위해 쉽게 푸는 문제를 동호에게 주었다.\n",
    "\n",
    "이 문제는 다음과 같다. 1을 한 번, 2를 두 번, 3을 세 번, 이런 식으로 1 2 2 3 3 3 4 4 4 4 5 .. 이러한 수열을 만들고 어느 일정한 구간을 주면 그 구간의 합을 구하는 것이다.\n",
    "\n",
    "하지만 동호는 현재 더 어려운 문제를 푸느라 바쁘기에 우리가 동호를 도와주자.\n",
    "\n",
    "입력\n",
    "첫째 줄에 구간의 시작과 끝을 나타내는 정수 A, B(1≤A≤B≤1,000)가 주어진다. 즉, 수열에서 A번째 숫자부터 B번째 숫자까지 합을 구하면 된다.\n",
    "\n",
    "출력\n",
    "첫 줄에 구간에 속하는 숫자의 합을 출력한다."
   ]
  },
  {
   "cell_type": "code",
   "execution_count": null,
   "metadata": {},
   "outputs": [],
   "source": []
  },
  {
   "cell_type": "markdown",
   "metadata": {},
   "source": [
    "# 14502 연구소\n",
    "문제\n",
    "인체에 치명적인 바이러스를 연구하던 연구소에서 바이러스가 유출되었다. 다행히 바이러스는 아직 퍼지지 않았고, 바이러스의 확산을 막기 위해서 연구소에 벽을 세우려고 한다.\n",
    "\n",
    "연구소는 크기가 N×M인 직사각형으로 나타낼 수 있으며, 직사각형은 1×1 크기의 정사각형으로 나누어져 있다. 연구소는 빈 칸, 벽으로 이루어져 있으며, 벽은 칸 하나를 가득 차지한다. \n",
    "\n",
    "일부 칸은 바이러스가 존재하며, 이 바이러스는 상하좌우로 인접한 빈 칸으로 모두 퍼져나갈 수 있다. 새로 세울 수 있는 벽의 개수는 3개이며, 꼭 3개를 세워야 한다.\n",
    "\n",
    "예를 들어, 아래와 같이 연구소가 생긴 경우를 살펴보자.\n",
    "```\n",
    "2 0 0 0 1 1 0\n",
    "0 0 1 0 1 2 0\n",
    "0 1 1 0 1 0 0\n",
    "0 1 0 0 0 0 0\n",
    "0 0 0 0 0 1 1\n",
    "0 1 0 0 0 0 0\n",
    "0 1 0 0 0 0 0\n",
    "```\n",
    "이때, 0은 빈 칸, 1은 벽, 2는 바이러스가 있는 곳이다. 아무런 벽을 세우지 않는다면, 바이러스는 모든 빈 칸으로 퍼져나갈 수 있다.\n",
    "\n",
    "2행 1열, 1행 2열, 4행 6열에 벽을 세운다면 지도의 모양은 아래와 같아지게 된다.\n",
    "```\n",
    "2 1 0 0 1 1 0\n",
    "1 0 1 0 1 2 0\n",
    "0 1 1 0 1 0 0\n",
    "0 1 0 0 0 1 0\n",
    "0 0 0 0 0 1 1\n",
    "0 1 0 0 0 0 0\n",
    "0 1 0 0 0 0 0\n",
    "```\n",
    "바이러스가 퍼진 뒤의 모습은 아래와 같아진다.\n",
    "```\n",
    "2 1 0 0 1 1 2\n",
    "1 0 1 0 1 2 2\n",
    "0 1 1 0 1 2 2\n",
    "0 1 0 0 0 1 2\n",
    "0 0 0 0 0 1 1\n",
    "0 1 0 0 0 0 0\n",
    "0 1 0 0 0 0 0\n",
    "```\n",
    "벽을 3개 세운 뒤, 바이러스가 퍼질 수 없는 곳을 안전 영역이라고 한다. 위의 지도에서 안전 영역의 크기는 27이다.\n",
    "\n",
    "연구소의 지도가 주어졌을 때 얻을 수 있는 안전 영역 크기의 최댓값을 구하는 프로그램을 작성하시오.\n",
    "\n",
    "입력\n",
    "첫째 줄에 지도의 세로 크기 N과 가로 크기 M이 주어진다. (3 ≤ N, M ≤ 8)\n",
    "\n",
    "둘째 줄부터 N개의 줄에 지도의 모양이 주어진다. 0은 빈 칸, 1은 벽, 2는 바이러스가 있는 위치이다. 2의 개수는 2보다 크거나 같고, 10보다 작거나 같은 자연수이다.\n",
    "\n",
    "빈 칸의 개수는 3개 이상이다.\n",
    "\n",
    "출력\n",
    "첫째 줄에 얻을 수 있는 안전 영역의 최대 크기를 출력한다.\n",
    "\n",
    "예제 입력 1 \n",
    "```\n",
    "7 7\n",
    "2 0 0 0 1 1 0\n",
    "0 0 1 0 1 2 0\n",
    "0 1 1 0 1 0 0\n",
    "0 1 0 0 0 0 0\n",
    "0 0 0 0 0 1 1\n",
    "0 1 0 0 0 0 0\n",
    "0 1 0 0 0 0 0\n",
    "```\n",
    "예제 출력 1 \n",
    "27\n",
    "예제 입력 2 \n",
    "```\n",
    "4 6\n",
    "0 0 0 0 0 0\n",
    "1 0 0 0 0 2\n",
    "1 1 1 0 0 2\n",
    "0 0 0 0 0 2\n",
    "```\n",
    "예제 출력 2 \n",
    "9\n",
    "예제 입력 3 \n",
    "```\n",
    "8 8\n",
    "2 0 0 0 0 0 0 2\n",
    "2 0 0 0 0 0 0 2\n",
    "2 0 0 0 0 0 0 2\n",
    "2 0 0 0 0 0 0 2\n",
    "2 0 0 0 0 0 0 2\n",
    "0 0 0 0 0 0 0 0\n",
    "0 0 0 0 0 0 0 0\n",
    "0 0 0 0 0 0 0 0\n",
    "```\n",
    "예제 출력 3 \n",
    "3\n",
    "출처"
   ]
  },
  {
   "cell_type": "code",
   "execution_count": 11,
   "metadata": {},
   "outputs": [],
   "source": [
    "\n",
    "def virus_extend(resc):\n",
    "    dx = [0,0,-1,1]\n",
    "    dy = [-1,1,0,0]\n",
    "    trg = 1\n",
    "    while True:\n",
    "        for x in range (len(resc)):\n",
    "            for y in range (len(resc)):\n",
    "\n",
    "\n",
    "                if resc[x][y] == 2:\n",
    "                    for I in range(4):\t#현재 위치의 상하좌우를 효율적으로 체크하는 코드\n",
    "                        testX = x+dx[I]\n",
    "                        testY = y+dy[I]\n",
    "                        if 0<=testX<len(resc) and 0<=testY<len(resc):\n",
    "                            if resc[testX][testY] == 0:\n",
    "                                resc[testX][testY] = 2\n",
    "                                trg = 0\n",
    "                if trg == 0:\n",
    "                    break\n",
    "            if trg == 0:\n",
    "                break\n",
    "        if trg == 1:\n",
    "            num_safe = 0\n",
    "            for x in range (len(resc)):\n",
    "                for y in range (len(resc)):\n",
    "                    if resc[x][y] ==0:\n",
    "                        num_safe += 1\n",
    "            return num_safe\n",
    "        trg = 1\n",
    "    "
   ]
  },
  {
   "cell_type": "code",
   "execution_count": 12,
   "metadata": {},
   "outputs": [],
   "source": [
    "def make_wall(resc,N,M):\n",
    "    resc_l = []\n",
    "    for x in resc:\n",
    "        resc_l += x\n",
    "    a = len(resc_l)\n",
    "    for x in range (a-2):\n",
    "        for y in range (x+1,a-1):\n",
    "            for z in range(y+1,a):\n",
    "                \n",
    "                if resc_l[x] == 0:\n",
    "                    resc_l[x] = 1\n",
    "                if resc_l[y] == 0:\n",
    "                    resc_l[y] = 1\n",
    "                if resc_l[z] == 0:\n",
    "                    resc_l[z] = 1\n",
    "                for i in range(N):\n",
    "                    resc[i] = resc_l[i*M:i*M+M]\n",
    "    return virus_extend(resc)"
   ]
  },
  {
   "cell_type": "code",
   "execution_count": null,
   "metadata": {},
   "outputs": [],
   "source": [
    "N, M = list(map(int,input().split()))\n",
    "resc = [list(map(int,input().split())) for i in range(N)]\n",
    "\n",
    "\n",
    "print()\n",
    "print(make_wall(resc,N,M))"
   ]
  }
 ],
 "metadata": {
  "kernelspec": {
   "display_name": "Python 3",
   "language": "python",
   "name": "python3"
  },
  "language_info": {
   "codemirror_mode": {
    "name": "ipython",
    "version": 3
   },
   "file_extension": ".py",
   "mimetype": "text/x-python",
   "name": "python",
   "nbconvert_exporter": "python",
   "pygments_lexer": "ipython3",
   "version": "3.7.4"
  }
 },
 "nbformat": 4,
 "nbformat_minor": 2
}
