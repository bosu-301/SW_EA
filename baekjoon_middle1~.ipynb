{
 "cells": [
  {
   "cell_type": "markdown",
   "metadata": {},
   "source": [
    "# 1003 피보나치 함수\n",
    "문제\n",
    "\n",
    "다음 소스는 N번째 피보나치 수를 구하는 C++ 함수이다.\n",
    "\n",
    "```\n",
    "int fibonacci(int n) {\n",
    "    if (n == 0) {\n",
    "        printf(\"0\");\n",
    "        return 0;\n",
    "    } else if (n == 1) {\n",
    "        printf(\"1\");\n",
    "        return 1;\n",
    "    } else {\n",
    "        return fibonacci(n‐1) + fibonacci(n‐2);\n",
    "    }\n",
    "}\n",
    "```\n",
    "fibonacci(3)을 호출하면 다음과 같은 일이 일어난다.\n",
    "\n",
    "fibonacci(3)은 fibonacci(2)와 fibonacci(1) (첫 번째 호출)을 호출한다.\n",
    "fibonacci(2)는 fibonacci(1) (두 번째 호출)과 fibonacci(0)을 호출한다.\n",
    "두 번째 호출한 fibonacci(1)은 1을 출력하고 1을 리턴한다.\n",
    "fibonacci(0)은 0을 출력하고, 0을 리턴한다.\n",
    "fibonacci(2)는 fibonacci(1)과 fibonacci(0)의 결과를 얻고, 1을 리턴한다.\n",
    "첫 번째 호출한 fibonacci(1)은 1을 출력하고, 1을 리턴한다.\n",
    "fibonacci(3)은 fibonacci(2)와 fibonacci(1)의 결과를 얻고, 2를 리턴한다.\n",
    "1은 2번 출력되고, 0은 1번 출력된다. N이 주어졌을 때, fibonacci(N)을 호출했을 때, 0과 1이 각각 몇 번 출력되는지 구하는 프로그램을 작성하시오.\n",
    "\n",
    "입력\n",
    "첫째 줄에 테스트 케이스의 개수 T가 주어진다.\n",
    "\n",
    "각 테스트 케이스는 한 줄로 이루어져 있고, N이 주어진다. N은 40보다 작거나 같은 자연수 또는 0이다.\n",
    "\n",
    "출력\n",
    "각 테스트 케이스마다 0이 출력되는 횟수와 1이 출력되는 횟수를 공백으로 구분해서 출력한다."
   ]
  },
  {
   "cell_type": "code",
   "execution_count": 5,
   "metadata": {},
   "outputs": [
    {
     "name": "stdout",
     "output_type": "stream",
     "text": [
      "3\n",
      "0\n",
      "1\n",
      "3\n",
      "1 0\n",
      "0 1\n",
      "2 1\n"
     ]
    }
   ],
   "source": [
    "fibo = [0 for x in range(0,41)]\n",
    "fibo [0], fibo[1] = 0,1\n",
    "for i in range (2,41):\n",
    "    fibo[i] = fibo[i-1] + fibo [i-2]\n",
    "datas = []\n",
    "inputT = int(input())\n",
    "for i in range (0,inputT):\n",
    "    datas += [int(input())]\n",
    "for data in datas:\n",
    "    if data == 0:\n",
    "        print (1,0)\n",
    "    elif data == 1:\n",
    "        print (0,1)\n",
    "    else:\n",
    "        print (fibo[data-1],fibo[data])"
   ]
  },
  {
   "cell_type": "code",
   "execution_count": 8,
   "metadata": {},
   "outputs": [],
   "source": [
    "a = ['a']\n",
    "a.remove('a')"
   ]
  },
  {
   "cell_type": "code",
   "execution_count": null,
   "metadata": {},
   "outputs": [],
   "source": []
  }
 ],
 "metadata": {
  "kernelspec": {
   "display_name": "Python 3",
   "language": "python",
   "name": "python3"
  }
 },
 "nbformat": 4,
 "nbformat_minor": 2
}
