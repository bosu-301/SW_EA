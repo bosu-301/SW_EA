{
 "cells": [
  {
   "cell_type": "markdown",
   "metadata": {},
   "source": [
    "# 1094 막대기\n",
    "\n",
    "문제\n",
    "지민이는 길이가 64cm인 막대를 가지고 있다. 어느 날, 그는 길이가 Xcm인 막대가 가지고 싶어졌다. 지민이는 원래 가지고 있던 막대를 더 작은 막대로 자른다음에, 풀로 붙여서 길이가 Xcm인 막대를 만들려고 한다.\n",
    "\n",
    "막대를 자르는 가장 쉬운 방법은 절반으로 자르는 것이다. 지민이는 아래와 같은 과정을 거쳐서 막대를 자르려고 한다.\n",
    "\n",
    "지민이가 가지고 있는 막대의 길이를 모두 더한다. 처음에는 64cm 막대 하나만 가지고 있다. 이때, 합이 X보다 크다면, 아래와 같은 과정을 반복한다.\n",
    "가지고 있는 막대 중 길이가 가장 짧은 것을 절반으로 자른다.\n",
    "만약, 위에서 자른 막대의 절반 중 하나를 버리고 남아있는 막대의 길이의 합이 X보다 크거나 같다면, 위에서 자른 막대의 절반 중 하나를 버린다.\n",
    "이제, 남아있는 모든 막대를 풀로 붙여서 Xcm를 만든다.\n",
    "X가 주어졌을 때, 위의 과정을 거친다면, 몇 개의 막대를 풀로 붙여서 Xcm를 만들 수 있는지 구하는 프로그램을 작성하시오. \n",
    "\n",
    "입력\n",
    "\n",
    "첫째 줄에 X가 주어진다. X는 64보다 작거나 같은 자연수이다.\n",
    "\n",
    "출력\n",
    "\n",
    "문제의 과정을 거친다면, 몇 개의 막대를 풀로 붙여서 Xcm를 만들 수 있는지 출력한다."
   ]
  },
  {
   "cell_type": "code",
   "execution_count": 21,
   "metadata": {
    "scrolled": true
   },
   "outputs": [
    {
     "name": "stdout",
     "output_type": "stream",
     "text": [
      "3\n",
      "2"
     ]
    }
   ],
   "source": [
    "def stick(list_stick,inputX):\n",
    "    if sum(list_stick) > inputX :\n",
    "        small = min(list_stick)\n",
    "        list_stick.remove(small)\n",
    "        list_stick += [small/2]\n",
    "        \n",
    "    if sum(list_stick) < inputX :\n",
    "        list_stick += [min(list_stick)]\n",
    "        \n",
    "    if sum(list_stick) == inputX :\n",
    "        return list_stick\n",
    "    else :\n",
    "        #print(list_stick)\n",
    "        return stick(list_stick,inputX)\n",
    "    \n",
    "    \n",
    "inputX = int(input())\n",
    "origin = [64]\n",
    "print(len(stick(origin,inputX)),end=\"\")"
   ]
  },
  {
   "cell_type": "markdown",
   "metadata": {},
   "source": [
    "# 1152 단어의개수\n",
    "문제\n",
    "영어 대소문자와 띄어쓰기만으로 이루어진 문자열이 주어진다. 이 문자열에는 몇 개의 단어가 있을까? 이를 구하는 프로그램을 작성하시오. 단, 한 단어가 여러 번 등장하면 등장한 횟수만큼 모두 세어야 한다.\n",
    "\n",
    "입력\n",
    "\n",
    "첫 줄에 영어 대소문자와 띄어쓰기로 이루어진 문자열이 주어진다. 이 문자열의 길이는 1,000,000을 넘지 않는다. 단어는 띄어쓰기 한 개로 구분되며, 공백이 연속해서 나오는 경우는 없다. 또한 문자열의 앞과 뒤에는 공백이 있을 수도 있다.\n",
    "\n",
    "출력\n",
    "\n",
    "첫째 줄에 단어의 개수를 출력한다.\n",
    "\n",
    "\n",
    "예제 입력 1 \n",
    "The Curious Case of Benjamin Button\n",
    "예제 출력 1 \n",
    "6"
   ]
  },
  {
   "cell_type": "code",
   "execution_count": 23,
   "metadata": {},
   "outputs": [
    {
     "name": "stdout",
     "output_type": "stream",
     "text": [
      "The Curious Case of Benjamin Button\n",
      "6\n"
     ]
    }
   ],
   "source": [
    "inputX = input().split()\n",
    "print(len(inputX))"
   ]
  },
  {
   "cell_type": "markdown",
   "metadata": {},
   "source": [
    "# 1259 팰린드롬수\n",
    "\n",
    "문제\n",
    "어떤 단어를 뒤에서부터 읽어도 똑같다면 그 단어를 팰린드롬이라고 한다. 'radar', 'sees'는 팰린드롬이다.\n",
    "\n",
    "수도 팰린드롬으로 취급할 수 있다. 수의 숫자들을 뒤에서부터 읽어도 같다면 그 수는 팰린드롬수다. 121, 12421 등은 팰린드롬수다. 123, 1231은 뒤에서부터 읽으면 다르므로 팰린드롬수가 아니다. 또한 10도 팰린드롬수가 아닌데, 앞에 무의미한 0이 올 수 있다면 010이 되어 팰린드롬수로 취급할 수도 있지만, 특별히 이번 문제에서는 무의미한 0이 앞에 올 수 없다고 하자.\n",
    "\n",
    "입력\n",
    "\n",
    "입력은 여러 개의 테스트 케이스로 이루어져 있으며, 각 줄마다 1 이상 99999 이하의 정수가 주어진다. 입력의 마지막 줄에는 0이 주어지며, 이 줄은 문제에 포함되지 않는다.\n",
    "\n",
    "출력\n",
    "\n",
    "각 줄마다 주어진 수가 팰린드롬수면 'yes', 아니면 'no'를 출력한다.\n",
    "\n",
    "121\n",
    "1231\n",
    "12421\n",
    "0\n",
    "\n",
    "\n",
    "yes\n",
    "no\n",
    "yes\n"
   ]
  },
  {
   "cell_type": "code",
   "execution_count": 59,
   "metadata": {},
   "outputs": [
    {
     "name": "stdout",
     "output_type": "stream",
     "text": [
      "1\n",
      "5\n",
      "3\n",
      "0\n",
      "yes\n",
      "yes\n",
      "yes\n"
     ]
    }
   ],
   "source": [
    "def pelin(inputX):\n",
    "    tempX = str(inputX)\n",
    "    inputX.reverse()\n",
    "    print('yes') if str(tempX)==str(inputX) else print('no')\n",
    "    #print(tempX)\n",
    "    #print(inputX)\n",
    "\n",
    "list_input = []\n",
    "while True:\n",
    "    inp = input()\n",
    "    if inp == '0':\n",
    "        break\n",
    "    else :\n",
    "        list_input += [inp]\n",
    "        \n",
    "for x in list_input :\n",
    "    pelin(list(x))"
   ]
  },
  {
   "cell_type": "markdown",
   "metadata": {},
   "source": [
    "# 1264 모음의 개수\n",
    "문제\n",
    "\n",
    "영문 문장을 입력받아 모음의 개수를 세는 프로그램을 작성하시오. 모음은 'a', 'e', 'i', 'o', 'u'이며 대문자 또는 소문자이다.\n",
    "\n",
    "입력\n",
    "\n",
    "입력은 여러 개의 테스트 케이스로 이루어져 있으며, 각 줄마다 영어 대소문자, ',', '.', '!', '?', 공백으로 이루어진 문장이 주어진다. 각 줄은 최대 255글자로 이루어져 있다.\n",
    "\n",
    "입력의 끝에는 한 줄에 '#' 한 글자만이 주어진다.\n",
    "\n",
    "출력\n",
    "\n",
    "각 줄마다 모음의 개수를 세서 출력한다.\n",
    "\n",
    "예제 입력 1 \n",
    "\n",
    "How are you today?\n",
    "Quite well, thank you, how about yourself?\n",
    "I live at number twenty four.\n",
    "#\n",
    "\n",
    "예제 출력 1 \n",
    "\n",
    "7\n",
    "\n",
    "14\n",
    "\n",
    "9"
   ]
  },
  {
   "cell_type": "code",
   "execution_count": 65,
   "metadata": {},
   "outputs": [
    {
     "name": "stdout",
     "output_type": "stream",
     "text": [
      "How are you today?\n",
      "Quite well, thank you, how about yourself?\n",
      "I live at number twenty four.\n",
      "#\n",
      "7\n",
      "14\n",
      "8\n"
     ]
    }
   ],
   "source": [
    "def howmany(inputX):\n",
    "    result = 0\n",
    "    moum = ['a','e','i','u','o','A','E','I','U','O']\n",
    "    for x in moum:\n",
    "        result += int(inputX.count(x))\n",
    "    return result\n",
    "\n",
    "list_input = []\n",
    "while True :\n",
    "    inputX = input()\n",
    "    if inputX == '#':\n",
    "        break\n",
    "    list_input += [inputX]\n",
    "for x in list_input:\n",
    "    print(howmany(list(x)))\n"
   ]
  },
  {
   "cell_type": "markdown",
   "metadata": {},
   "source": [
    "# 1371 가장 긴 문자\n",
    "문제\n",
    "\n",
    "영어에서는 어떤 글자가 다른 글자보다 많이 쓰인다. 에를 들어, 긴 글에서 약 12.31% 글자는 e이다.\n",
    "\n",
    "어떤 글이 주어졌을 때, 가장 많이 나온 글자를 출력하는 프로그램을 작성하시오.\n",
    "\n",
    "입력\n",
    "\n",
    "첫째 줄부터 글의 문장이 주어진다. 글은 최대 5000글자로 구성되어 있고, 공백, 알파벳 소문자, 엔터로만 이루어져 있다. 그리고 적어도 하나의 알파벳이 있다.\n",
    "\n",
    "출력\n",
    "\n",
    "첫째 줄에 가장 많이 나온 문자를 출력한다. 여러 개일 경우에는 알파벳 순으로 앞서는 것부터 모두 공백없이 출력한다.\n",
    "\n",
    "english is a west germanic\n",
    "language originating in england\n",
    "and is the first language for\n",
    "most people in the united\n",
    "kingdom the united states\n",
    "canada australia new zealand\n",
    "ireland and the anglophone\n",
    "caribbean it is used\n",
    "extensively as a second\n",
    "language and as an official\n",
    "language throughout the world\n",
    "especially in common wealth\n",
    "countries and in many\n",
    "international organizations\n",
    "\n",
    "a"
   ]
  },
  {
   "cell_type": "code",
   "execution_count": null,
   "metadata": {},
   "outputs": [],
   "source": [
    "inputX = \"\"\n",
    "while True :\n",
    "    try :\n",
    "        inputX += input()\n",
    "    except :\n",
    "        break\n",
    "'''\n",
    "언제 끝날지 모르는 무한한 인풋을 받는 방법\n",
    "while True :\n",
    "    try :\n",
    "        input()\n",
    "    except :\n",
    "        break\n",
    "input 직접 입력시 입력값이 끝나면 현재 프로세스 종료 후 엔터\n",
    "'''\n",
    "inputX = list(inputX)\n",
    "inputX.sort()\n",
    "setX = set(inputX)\n",
    "if ' ' in setX:\n",
    "    setX.remove(' ')\n",
    "numX = [(inputX.count(x),x) for x in setX]\n",
    "numX.sort()\n",
    "\n",
    "result1 = numX.pop()\n",
    "result = [result1[1]]\n",
    "while True:\n",
    "    if len(numX) == 0:\n",
    "        break\n",
    "    temp = numX.pop()\n",
    "    if result1[0] == temp[0]:\n",
    "        result += [temp[1]]\n",
    "    else :\n",
    "        break\n",
    "    result.sort()\n",
    "for arg in result:\n",
    "    print(f'{arg}',end='')\n"
   ]
  },
  {
   "cell_type": "code",
   "execution_count": null,
   "metadata": {},
   "outputs": [],
   "source": []
  }
 ],
 "metadata": {
  "kernelspec": {
   "display_name": "Python 3",
   "language": "python",
   "name": "python3"
  },
  "language_info": {
   "codemirror_mode": {
    "name": "ipython",
    "version": 3
   },
   "file_extension": ".py",
   "mimetype": "text/x-python",
   "name": "python",
   "nbconvert_exporter": "python",
   "pygments_lexer": "ipython3",
   "version": "3.7.4"
  }
 },
 "nbformat": 4,
 "nbformat_minor": 2
}
