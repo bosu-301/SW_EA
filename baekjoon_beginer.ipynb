{
 "cells": [
  {
   "cell_type": "markdown",
   "metadata": {},
   "source": [
    "# 1094 막대기\n",
    "\n",
    "문제\n",
    "지민이는 길이가 64cm인 막대를 가지고 있다. 어느 날, 그는 길이가 Xcm인 막대가 가지고 싶어졌다. 지민이는 원래 가지고 있던 막대를 더 작은 막대로 자른다음에, 풀로 붙여서 길이가 Xcm인 막대를 만들려고 한다.\n",
    "\n",
    "막대를 자르는 가장 쉬운 방법은 절반으로 자르는 것이다. 지민이는 아래와 같은 과정을 거쳐서 막대를 자르려고 한다.\n",
    "\n",
    "지민이가 가지고 있는 막대의 길이를 모두 더한다. 처음에는 64cm 막대 하나만 가지고 있다. 이때, 합이 X보다 크다면, 아래와 같은 과정을 반복한다.\n",
    "가지고 있는 막대 중 길이가 가장 짧은 것을 절반으로 자른다.\n",
    "만약, 위에서 자른 막대의 절반 중 하나를 버리고 남아있는 막대의 길이의 합이 X보다 크거나 같다면, 위에서 자른 막대의 절반 중 하나를 버린다.\n",
    "이제, 남아있는 모든 막대를 풀로 붙여서 Xcm를 만든다.\n",
    "X가 주어졌을 때, 위의 과정을 거친다면, 몇 개의 막대를 풀로 붙여서 Xcm를 만들 수 있는지 구하는 프로그램을 작성하시오. \n",
    "\n",
    "입력\n",
    "\n",
    "첫째 줄에 X가 주어진다. X는 64보다 작거나 같은 자연수이다.\n",
    "\n",
    "출력\n",
    "\n",
    "문제의 과정을 거친다면, 몇 개의 막대를 풀로 붙여서 Xcm를 만들 수 있는지 출력한다."
   ]
  },
  {
   "cell_type": "code",
   "execution_count": 21,
   "metadata": {
    "scrolled": true
   },
   "outputs": [
    {
     "name": "stdout",
     "output_type": "stream",
     "text": [
      "3\n",
      "2"
     ]
    }
   ],
   "source": [
    "def stick(list_stick,inputX):\n",
    "    if sum(list_stick) > inputX :\n",
    "        small = min(list_stick)\n",
    "        list_stick.remove(small)\n",
    "        list_stick += [small/2]\n",
    "        \n",
    "    if sum(list_stick) < inputX :\n",
    "        list_stick += [min(list_stick)]\n",
    "        \n",
    "    if sum(list_stick) == inputX :\n",
    "        return list_stick\n",
    "    else :\n",
    "        #print(list_stick)\n",
    "        return stick(list_stick,inputX)\n",
    "    \n",
    "    \n",
    "inputX = int(input())\n",
    "origin = [64]\n",
    "print(len(stick(origin,inputX)),end=\"\")"
   ]
  },
  {
   "cell_type": "markdown",
   "metadata": {},
   "source": [
    "# 1152 단어의개수\n",
    "문제\n",
    "영어 대소문자와 띄어쓰기만으로 이루어진 문자열이 주어진다. 이 문자열에는 몇 개의 단어가 있을까? 이를 구하는 프로그램을 작성하시오. 단, 한 단어가 여러 번 등장하면 등장한 횟수만큼 모두 세어야 한다.\n",
    "\n",
    "입력\n",
    "\n",
    "첫 줄에 영어 대소문자와 띄어쓰기로 이루어진 문자열이 주어진다. 이 문자열의 길이는 1,000,000을 넘지 않는다. 단어는 띄어쓰기 한 개로 구분되며, 공백이 연속해서 나오는 경우는 없다. 또한 문자열의 앞과 뒤에는 공백이 있을 수도 있다.\n",
    "\n",
    "출력\n",
    "\n",
    "첫째 줄에 단어의 개수를 출력한다.\n",
    "\n",
    "\n",
    "예제 입력 1 \n",
    "The Curious Case of Benjamin Button\n",
    "예제 출력 1 \n",
    "6"
   ]
  },
  {
   "cell_type": "code",
   "execution_count": 23,
   "metadata": {},
   "outputs": [
    {
     "name": "stdout",
     "output_type": "stream",
     "text": [
      "The Curious Case of Benjamin Button\n",
      "6\n"
     ]
    }
   ],
   "source": [
    "inputX = input().split()\n",
    "print(len(inputX))"
   ]
  },
  {
   "cell_type": "markdown",
   "metadata": {},
   "source": [
    "# 1259 팰린드롬수\n",
    "\n",
    "문제\n",
    "어떤 단어를 뒤에서부터 읽어도 똑같다면 그 단어를 팰린드롬이라고 한다. 'radar', 'sees'는 팰린드롬이다.\n",
    "\n",
    "수도 팰린드롬으로 취급할 수 있다. 수의 숫자들을 뒤에서부터 읽어도 같다면 그 수는 팰린드롬수다. 121, 12421 등은 팰린드롬수다. 123, 1231은 뒤에서부터 읽으면 다르므로 팰린드롬수가 아니다. 또한 10도 팰린드롬수가 아닌데, 앞에 무의미한 0이 올 수 있다면 010이 되어 팰린드롬수로 취급할 수도 있지만, 특별히 이번 문제에서는 무의미한 0이 앞에 올 수 없다고 하자.\n",
    "\n",
    "입력\n",
    "\n",
    "입력은 여러 개의 테스트 케이스로 이루어져 있으며, 각 줄마다 1 이상 99999 이하의 정수가 주어진다. 입력의 마지막 줄에는 0이 주어지며, 이 줄은 문제에 포함되지 않는다.\n",
    "\n",
    "출력\n",
    "\n",
    "각 줄마다 주어진 수가 팰린드롬수면 'yes', 아니면 'no'를 출력한다.\n",
    "\n",
    "121\n",
    "1231\n",
    "12421\n",
    "0\n",
    "\n",
    "\n",
    "yes\n",
    "no\n",
    "yes\n"
   ]
  },
  {
   "cell_type": "code",
   "execution_count": 59,
   "metadata": {},
   "outputs": [
    {
     "name": "stdout",
     "output_type": "stream",
     "text": [
      "1\n",
      "5\n",
      "3\n",
      "0\n",
      "yes\n",
      "yes\n",
      "yes\n"
     ]
    }
   ],
   "source": [
    "def pelin(inputX):\n",
    "    tempX = str(inputX)\n",
    "    inputX.reverse()\n",
    "    print('yes') if str(tempX)==str(inputX) else print('no')\n",
    "    #print(tempX)\n",
    "    #print(inputX)\n",
    "\n",
    "list_input = []\n",
    "while True:\n",
    "    inp = input()\n",
    "    if inp == '0':\n",
    "        break\n",
    "    else :\n",
    "        list_input += [inp]\n",
    "        \n",
    "for x in list_input :\n",
    "    pelin(list(x))"
   ]
  },
  {
   "cell_type": "markdown",
   "metadata": {},
   "source": [
    "# 1264 모음의 개수\n",
    "문제\n",
    "\n",
    "영문 문장을 입력받아 모음의 개수를 세는 프로그램을 작성하시오. 모음은 'a', 'e', 'i', 'o', 'u'이며 대문자 또는 소문자이다.\n",
    "\n",
    "입력\n",
    "\n",
    "입력은 여러 개의 테스트 케이스로 이루어져 있으며, 각 줄마다 영어 대소문자, ',', '.', '!', '?', 공백으로 이루어진 문장이 주어진다. 각 줄은 최대 255글자로 이루어져 있다.\n",
    "\n",
    "입력의 끝에는 한 줄에 '#' 한 글자만이 주어진다.\n",
    "\n",
    "출력\n",
    "\n",
    "각 줄마다 모음의 개수를 세서 출력한다.\n",
    "\n",
    "예제 입력 1 \n",
    "\n",
    "How are you today?\n",
    "Quite well, thank you, how about yourself?\n",
    "I live at number twenty four.\n",
    "#\n",
    "\n",
    "예제 출력 1 \n",
    "\n",
    "7\n",
    "\n",
    "14\n",
    "\n",
    "9"
   ]
  },
  {
   "cell_type": "code",
   "execution_count": 65,
   "metadata": {},
   "outputs": [
    {
     "name": "stdout",
     "output_type": "stream",
     "text": [
      "How are you today?\n",
      "Quite well, thank you, how about yourself?\n",
      "I live at number twenty four.\n",
      "#\n",
      "7\n",
      "14\n",
      "8\n"
     ]
    }
   ],
   "source": [
    "def howmany(inputX):\n",
    "    result = 0\n",
    "    moum = ['a','e','i','u','o','A','E','I','U','O']\n",
    "    for x in moum:\n",
    "        result += int(inputX.count(x))\n",
    "    return result\n",
    "\n",
    "list_input = []\n",
    "while True :\n",
    "    inputX = input()\n",
    "    if inputX == '#':\n",
    "        break\n",
    "    list_input += [inputX]\n",
    "for x in list_input:\n",
    "    print(howmany(list(x)))\n"
   ]
  },
  {
   "cell_type": "markdown",
   "metadata": {},
   "source": [
    "# 1371 가장 긴 문자\n",
    "문제\n",
    "\n",
    "영어에서는 어떤 글자가 다른 글자보다 많이 쓰인다. 에를 들어, 긴 글에서 약 12.31% 글자는 e이다.\n",
    "\n",
    "어떤 글이 주어졌을 때, 가장 많이 나온 글자를 출력하는 프로그램을 작성하시오.\n",
    "\n",
    "입력\n",
    "\n",
    "첫째 줄부터 글의 문장이 주어진다. 글은 최대 5000글자로 구성되어 있고, 공백, 알파벳 소문자, 엔터로만 이루어져 있다. 그리고 적어도 하나의 알파벳이 있다.\n",
    "\n",
    "출력\n",
    "\n",
    "첫째 줄에 가장 많이 나온 문자를 출력한다. 여러 개일 경우에는 알파벳 순으로 앞서는 것부터 모두 공백없이 출력한다.\n",
    "\n",
    "english is a west germanic\n",
    "language originating in england\n",
    "and is the first language for\n",
    "most people in the united\n",
    "kingdom the united states\n",
    "canada australia new zealand\n",
    "ireland and the anglophone\n",
    "caribbean it is used\n",
    "extensively as a second\n",
    "language and as an official\n",
    "language throughout the world\n",
    "especially in common wealth\n",
    "countries and in many\n",
    "international organizations\n",
    "\n",
    "a"
   ]
  },
  {
   "cell_type": "code",
   "execution_count": null,
   "metadata": {},
   "outputs": [],
   "source": [
    "inputX = \"\"\n",
    "while True :\n",
    "    try :\n",
    "        inputX += input()\n",
    "    except :\n",
    "        break\n",
    "'''\n",
    "언제 끝날지 모르는 무한한 인풋을 받는 방법\n",
    "while True :\n",
    "    try :\n",
    "        input()\n",
    "    except :\n",
    "        break\n",
    "input 직접 입력시 입력값이 끝나면 현재 프로세스 종료 후 엔터\n",
    "'''\n",
    "inputX = list(inputX)\n",
    "inputX.sort()\n",
    "setX = set(inputX)\n",
    "if ' ' in setX:\n",
    "    setX.remove(' ')\n",
    "numX = [(inputX.count(x),x) for x in setX]\n",
    "numX.sort()\n",
    "\n",
    "result1 = numX.pop()\n",
    "result = [result1[1]]\n",
    "while True:\n",
    "    if len(numX) == 0:\n",
    "        break\n",
    "    temp = numX.pop()\n",
    "    if result1[0] == temp[0]:\n",
    "        result += [temp[1]]\n",
    "    else :\n",
    "        break\n",
    "    result.sort()\n",
    "for arg in result:\n",
    "    print(f'{arg}',end='')\n"
   ]
  },
  {
   "cell_type": "markdown",
   "metadata": {},
   "source": [
    "# 1568 새\n",
    "문제\n",
    "\n",
    "N마리의 새가 나무에 앉아있고, 자연수를 배우기 원한다. 새들은 1부터 모든 자연수를 오름차순으로 노래한다. 어떤 숫자 K를 노래할 때, K마리의 새가 나무에서 하늘을 향해 날아간다. 만약, 현재 나무에 앉아있는 새의 수가 지금 불러야 하는 수 보다 작을 때는, 1부터 게임을 다시 시작한다.\n",
    "\n",
    "나무에 앉아 있는 새의 수 N이 주어질 때, 하나의 수를 노래하는데 1이 걸린다고 하면, 모든 새가 날아가기까지 총 몇 초가 걸리는지 출력하는 프로그램을 작성하시오.\n",
    "\n",
    "입력\n",
    "\n",
    "첫째 줄에 새의 수 N이 주어진다. 이 값은 10^9보다 작거나 같다.\n",
    "\n",
    "출력\n",
    "\n",
    "첫째 줄에 정답을 출력한다."
   ]
  },
  {
   "cell_type": "code",
   "execution_count": 21,
   "metadata": {},
   "outputs": [
    {
     "name": "stdout",
     "output_type": "stream",
     "text": [
      "14\n",
      "반복13 , 2\n",
      "반복11 , 3\n",
      "반복8 , 4\n",
      "반복4 , 5\n",
      "재귀4 , 5\n",
      "반복3 , 2\n",
      "반복1 , 3\n",
      "재귀1 , 7\n",
      "7\n"
     ]
    }
   ],
   "source": [
    "def bird(bird_num,sec):\n",
    "    i = 1\n",
    "    while i < bird_num:\n",
    "        bird_num -= i\n",
    "        sec += 1 \n",
    "        i += 1\n",
    "        print(f'반복{bird_num} , {i}')\n",
    "    if i != bird_num :\n",
    "        #bird_num +=(i-1)\n",
    "        print(f'재귀{bird_num} , {sec}')\n",
    "        bird(bird_num, sec)\n",
    "    else :\n",
    "        print(sec)\n",
    "        \n",
    "inputN = int(input())\n",
    "if inputN == 1:\n",
    "    print(1)\n",
    "else :\n",
    "    bird(inputN, 1)"
   ]
  },
  {
   "cell_type": "markdown",
   "metadata": {},
   "source": [
    "# 1731 추론\n",
    "문제\n",
    "\n",
    "등차가 정수인 등차수열 (어떤 수에 차례대로 일정한 수를 더해서 이루어지는 수열) 은 2개의 숫자로 나타낼 수 있다. P는 수열의 첫 번째 수이고, Q는 그 다음수가 되기 위해 바로 전의 수에 더해야 하는 수이다. 예를 들어 P=1, Q=2 이면 그 등차수열은 1, 3, 5, 7, ..... 이 된다.\n",
    "\n",
    "등비가 정수인 등비수열 (어떤 수에서 시작해 차례로 같은 수를 곱하여 만든 수열) 은 등차수열과 비슷하게 2개의 숫자로 나타낼 수 있다. P는 수열의 첫 번째 수이고, Q는 그 다음수가 되기 위해 바로 전의 수에 곱해야 하는 수이다. 예를 들어 P=3, Q=2이면 그 등비수열은 3, 6, 12, ...이 된다.\n",
    "\n",
    "테디는 세상에서 수학을 제일 좋아해서 매일같이 이 수열이 등차수열인지 등비수열인지 정한다음에 다음 수를 구한다.\n",
    "\n",
    "어떤 수열이 주어졌을 때, 그 수열의 규칙이 등차수열인지, 등비수열인지 결정한 후에, 다음에 등장할 수를 구하는 프로그램을 작성하시오.\n",
    "\n",
    "입력\n",
    "4\n",
    "364\n",
    "843\n",
    "1322\n",
    "1801\n",
    "\n",
    "첫째 줄에 수열의 길이 N이 주어진다. 둘째 줄부터 N개의 줄에 수열의 각 원소가 차례대로 주어진다. 주어지는 수열은 등차수열이나 등비수열 중에 하나다. N은 항상 3 이상 50이하이며, 입력되는 수는 10^6 이하의 자연수이다.\n",
    "\n",
    "출력\n",
    "\n",
    "첫째 줄에 수열의 다음 원소를 출력한다. 이 수는 20억보다 작거나 같다."
   ]
  },
  {
   "cell_type": "code",
   "execution_count": 28,
   "metadata": {},
   "outputs": [
    {
     "name": "stdout",
     "output_type": "stream",
     "text": [
      "a\n"
     ]
    },
    {
     "ename": "ValueError",
     "evalue": "invalid literal for int() with base 10: 'a'",
     "output_type": "error",
     "traceback": [
      "\u001b[1;31m---------------------------------------------------------------------------\u001b[0m",
      "\u001b[1;31mValueError\u001b[0m                                Traceback (most recent call last)",
      "\u001b[1;32m<ipython-input-28-326254bd6dab>\u001b[0m in \u001b[0;36m<module>\u001b[1;34m\u001b[0m\n\u001b[0;32m      1\u001b[0m \u001b[1;32mimport\u001b[0m \u001b[0mmath\u001b[0m\u001b[1;33m\u001b[0m\u001b[1;33m\u001b[0m\u001b[0m\n\u001b[1;32m----> 2\u001b[1;33m \u001b[0minputN\u001b[0m \u001b[1;33m=\u001b[0m \u001b[0mint\u001b[0m\u001b[1;33m(\u001b[0m\u001b[0minput\u001b[0m\u001b[1;33m(\u001b[0m\u001b[1;33m)\u001b[0m\u001b[1;33m)\u001b[0m\u001b[1;33m\u001b[0m\u001b[1;33m\u001b[0m\u001b[0m\n\u001b[0m\u001b[0;32m      3\u001b[0m \u001b[0melements\u001b[0m \u001b[1;33m=\u001b[0m \u001b[1;33m[\u001b[0m\u001b[0mint\u001b[0m\u001b[1;33m(\u001b[0m\u001b[0minput\u001b[0m\u001b[1;33m(\u001b[0m\u001b[1;33m)\u001b[0m\u001b[1;33m)\u001b[0m \u001b[1;32mfor\u001b[0m \u001b[0mi\u001b[0m \u001b[1;32min\u001b[0m \u001b[0mrange\u001b[0m \u001b[1;33m(\u001b[0m\u001b[1;36m0\u001b[0m\u001b[1;33m,\u001b[0m\u001b[0minputN\u001b[0m\u001b[1;33m)\u001b[0m\u001b[1;33m]\u001b[0m\u001b[1;33m\u001b[0m\u001b[1;33m\u001b[0m\u001b[0m\n\u001b[0;32m      4\u001b[0m \u001b[1;32mif\u001b[0m \u001b[0melements\u001b[0m\u001b[1;33m[\u001b[0m\u001b[1;36m0\u001b[0m\u001b[1;33m]\u001b[0m\u001b[1;33m-\u001b[0m\u001b[0melements\u001b[0m\u001b[1;33m[\u001b[0m\u001b[1;36m1\u001b[0m\u001b[1;33m]\u001b[0m \u001b[1;33m==\u001b[0m \u001b[0melements\u001b[0m\u001b[1;33m[\u001b[0m\u001b[1;36m1\u001b[0m\u001b[1;33m]\u001b[0m\u001b[1;33m-\u001b[0m\u001b[0melements\u001b[0m\u001b[1;33m[\u001b[0m\u001b[1;36m2\u001b[0m\u001b[1;33m]\u001b[0m \u001b[1;33m:\u001b[0m\u001b[1;33m\u001b[0m\u001b[1;33m\u001b[0m\u001b[0m\n\u001b[0;32m      5\u001b[0m     \u001b[1;31m#등차\u001b[0m\u001b[1;33m\u001b[0m\u001b[1;33m\u001b[0m\u001b[1;33m\u001b[0m\u001b[0m\n",
      "\u001b[1;31mValueError\u001b[0m: invalid literal for int() with base 10: 'a'"
     ]
    }
   ],
   "source": [
    "import math\n",
    "inputN = int(input())\n",
    "elements = [int(input()) for i in range (0,inputN)]\n",
    "if elements[0]-elements[1] == elements[1]-elements[2] :\n",
    "    #등차\n",
    "    print(elements[-1]+(elements[1]-elements[0]))\n",
    "else :\n",
    "    #등비\n",
    "    print(elements[-1]*math.ceil(elements[1]/elements[0]))\n"
   ]
  },
  {
   "cell_type": "markdown",
   "metadata": {},
   "source": [
    "# 1834 나머지와 몫이 같은 수\n",
    "문제\n",
    "\n",
    "N으로 나누었을 때 나머지와 몫이 같은 모든 자연수의 합을 구하는 프로그램을 작성하시오. 예를 들어 N=3일 때, 나머지와 몫이 모두 같은 자연수는 4와 8 두 개가 있으므로, 그 합은 12이다.\n",
    "\n",
    "입력\n",
    "\n",
    "첫째 줄에 2,000,000 이하의 자연수 N이 주어진다.\n",
    "\n",
    "출력\n",
    "\n",
    "첫 줄에 구하고자 하는 수를 출력한다."
   ]
  },
  {
   "cell_type": "code",
   "execution_count": 36,
   "metadata": {},
   "outputs": [
    {
     "name": "stdout",
     "output_type": "stream",
     "text": [
      "3\n",
      "12\n"
     ]
    }
   ],
   "source": [
    "inputN = int(input())\n",
    "result = 0\n",
    "\n",
    "for i in range(1,inputN):\n",
    "    result += inputN*i + i\n",
    "print(result)"
   ]
  },
  {
   "cell_type": "markdown",
   "metadata": {},
   "source": [
    "# 1864 문어숫자\n",
    "해류가 매우 느리고 바닥을 기어다니는 생물이 적은 바다 밑바닥에서만 발견되는 잔물결 무늬의 정체는 오랫동안 해양학자들에게 수수께끼였다. 하지만 최근의 연구 성과는 동물 언어학 분야에 일대 혁명을 불러왔다. 이 무늬의 정체는 바로 문어가 숫자를 적는 방법이라는 것이 해양 생물학자들에 의해 밝혀진 것이다. 학자들은 문어가 무엇을 세는 것인지는 아직 알 수 없지만, 수 표기법을 해독하는 데에는 성공했다.\n",
    "\n",
    "뭍 위에 사는 이들에게는 문어가 쓰는 숫자와 그를 표현하는 잔물결 무늬가 매우 낯설 수밖에 없다. 따라서 연구자들은 다음과 같은 기호로 잔물결 무늬를 적기로 합의했다. 각 기호와 대응하는 숫자는 다음과 같다.\n",
    "\n",
    "-는 0에 대응한다.\n",
    "\n",
    "\\는 1에 대응한다.\n",
    "\n",
    "(는 2에 대응한다.\n",
    "\n",
    "@는 3에 대응한다.\n",
    "\n",
    "?는 4에 대응한다.\n",
    "\n",
    "\\>는 5에 대응한다.\n",
    "\n",
    "&는 6에 대응한다.\n",
    "\n",
    "%는 7에 대응한다.\n",
    "\n",
    "/는 -1에 대응한다.\n",
    "\n",
    "해양 신경학자들은 특히 음수를 나타내는 기호가 있다는 사실에 흥분하면서, 아직 걸음마 단계인 두족류 신경학이 이 발견을 계기로 크게 발전하기를 기대하고 있다.\n",
    "\n",
    "당연히 문어의 수 체계는 8진법에 기반한다. 예를 들면 다음과 같다.\n",
    "\n",
    "(@&는 2 × 8^2 + 3 × 8 + 6 = 158이다.\n",
    "\n",
    "?/--는 4 × 8^3 + −1 × 8^2 + 0 × 8 + 0 = 1984이다.\n",
    "/(\\는 −1 × 82 + 2 × 8 + 1 = −47이다.\n",
    "\n",
    "당신에게 주어진 문제는 문어 숫자를 입력 받아 십진수로 나타내는 것이다.\n",
    "\n",
    "입력\n",
    "\n",
    "한 줄에 하나씩 문어 숫자가 입력으로 주어진다. 각 숫자는 최소 한 개, 최대 여덟 개의 문어 숫자 기호로 이루어져있다. 입력으로 '#'이 들어오면 입력을 종료한다.\n",
    "\n",
    "출력\n",
    "\n",
    "입력 받은 문어 숫자에 대응하는 십진수를 한 줄에 하나씩 출력한다."
   ]
  },
  {
   "cell_type": "code",
   "execution_count": 57,
   "metadata": {},
   "outputs": [
    {
     "name": "stdout",
     "output_type": "stream",
     "text": [
      "/(\\\n",
      "?/--\n",
      "#\n",
      "-47\n",
      "1984\n"
     ]
    }
   ],
   "source": [
    "def transf(muno):\n",
    "    tran_muno = []\n",
    "    for x in muno:\n",
    "        if x == r'-':\n",
    "            tran_muno.append('0')\n",
    "        elif x == '\\\\':\n",
    "            tran_muno.append('1')\n",
    "        elif x == '(':\n",
    "            tran_muno.append('2')\n",
    "        elif x == '@':\n",
    "            tran_muno.append('3')\n",
    "        elif x == '?':\n",
    "            tran_muno.append('4')\n",
    "        elif x == '>':\n",
    "            tran_muno.append('5')\n",
    "        elif x == '&':\n",
    "            tran_muno.append('6')\n",
    "        elif x == '%':\n",
    "            tran_muno.append('7')\n",
    "        elif x == '/':\n",
    "            tran_muno.append('-1')\n",
    "    tran_muno.reverse()\n",
    "    result = 0\n",
    "    for i in range (0,len(tran_muno)):\n",
    "        result += int(tran_muno[i])*(8**i)\n",
    "    print(result)\n",
    "\n",
    "moon_o = []\n",
    "while True:\n",
    "    muno = input()\n",
    "    if muno == '#':\n",
    "        break\n",
    "    moon_o += [muno]\n",
    "for muno in moon_o:\n",
    "    transf(muno)"
   ]
  },
  {
   "cell_type": "markdown",
   "metadata": {},
   "source": [
    "# 2309 일곱난쟁이\n",
    "문제\n",
    "왕비를 피해 일곱 난쟁이들과 함께 평화롭게 생활하고 있던 백설공주에게 위기가 찾아왔다. 일과를 마치고 돌아온 난쟁이가 일곱 명이 아닌 아홉 명이었던 것이다.\n",
    "\n",
    "아홉 명의 난쟁이는 모두 자신이 \"백설 공주와 일곱 난쟁이\"의 주인공이라고 주장했다. 뛰어난 수학적 직관력을 가지고 있던 백설공주는, 다행스럽게도 일곱 난쟁이의 키의 합이 100이 됨을 기억해 냈다.\n",
    "\n",
    "아홉 난쟁이의 키가 주어졌을 때, 백설공주를 도와 일곱 난쟁이를 찾는 프로그램을 작성하시오.\n",
    "\n",
    "입력\n",
    "\n",
    "아홉 개의 줄에 걸쳐 난쟁이들의 키가 주어진다. 주어지는 키는 100을 넘지 않는 자연수이며, 아홉 난쟁이의 키는 모두 다르며, 가능한 정답이 여러 가지인 경우에는 아무거나 출력한다.\n",
    "\n",
    "출력\n",
    "\n",
    "일곱 난쟁이의 키를 오름차순으로 출력한다. 일곱 난쟁이를 찾을 수 없는 경우는 없다."
   ]
  },
  {
   "cell_type": "code",
   "execution_count": 60,
   "metadata": {},
   "outputs": [
    {
     "name": "stdout",
     "output_type": "stream",
     "text": [
      "30\n",
      "30\n",
      "30\n",
      "1\n",
      "2\n",
      "3\n",
      "4\n",
      "9\n",
      "7\n",
      "1\n",
      "2\n",
      "3\n",
      "4\n",
      "30\n",
      "30\n",
      "30\n"
     ]
    }
   ],
   "source": [
    "import random\n",
    "nan = [int(input()) for x in range(0,9)]\n",
    "while True:\n",
    "    temp = random.sample(nan,7)\n",
    "    if sum(temp) == 100:\n",
    "        temp.sort()\n",
    "        for i in temp:\n",
    "            print(i)\n",
    "        break"
   ]
  },
  {
   "cell_type": "markdown",
   "metadata": {},
   "source": [
    "# 2355 시그마\n",
    "문제\n",
    "\n",
    "두 정수 A와 B가 주어졌을 때, 두 정수 사이에 있는 수의 합을 구하는 프로그램을 작성하시오. 사이에 있는 수들은 A와 B도 포함한다.\n",
    "\n",
    "입력\n",
    "\n",
    "첫째 줄에 두 정수 A, B가 주어진다. (-2,147,483,648 ≤ A, B ≤ 2,147,483,647)\n",
    "\n",
    "출력\n",
    "\n",
    "첫째 줄에 답을 출력한다. (-2,147,483,648 ≤ 답 ≤ 2,147,483,647)"
   ]
  },
  {
   "cell_type": "code",
   "execution_count": 73,
   "metadata": {},
   "outputs": [
    {
     "name": "stdout",
     "output_type": "stream",
     "text": [
      "-2 5\n"
     ]
    },
    {
     "data": {
      "text/plain": [
       "12.0"
      ]
     },
     "execution_count": 73,
     "metadata": {},
     "output_type": "execute_result"
    }
   ],
   "source": [
    "\n",
    "inputsN = input().split()\n",
    "inputsN.sort()\n",
    "a = int(inputsN[0])\n",
    "b = int(inputsN[1])\n",
    "'''if b < 0:\n",
    "    pass\n",
    "elif a < 0:\n",
    "    pass\n",
    "else:\n",
    "    pass'''\n",
    "print(int((abs(a - b)+1)*(a + b)/2))"
   ]
  },
  {
   "cell_type": "markdown",
   "metadata": {},
   "source": [
    "# 2386 도비의 영어공부\n",
    "문제\n",
    "\n",
    "꿍은 도비의 자유를 위해 영어를 가르치기로 결심했다. 하지만 도비는 바보라 ABC부터 배워야 한다.\n",
    "\n",
    "그래서 꿍은 영어 문장과 알파벳 하나가 주어지면 그 알파벳이 문장에서 몇 번 나타나는지를 세는 문제들을 내주었다. 하지만 도비는 마법사고 컴공도 마법사다.\n",
    "\n",
    "여러분은 도비를 위해 문제의 답을 알려주는 프로그램을 만들수 있을것이다!\n",
    "\n",
    "입력\n",
    "\n",
    "입력은 몇 개의 줄들로 이루어진다.\n",
    "\n",
    "각 줄에는 하나의 소문자와 영어 문장이 공백으로 구분되어 주어진다.\n",
    "\n",
    "각 문장은 길이가 1에서 250이며 입력의 마지막은 #이다.\n",
    "\n",
    "출력\n",
    "\n",
    "출력의 각 줄은 입력으로 주어진 소문자와 그 소문자 알파벳이 나타난 횟수로 이루어진다. 이때 문장에서 해당 알파벳이 소문자로 나타나던 대문자로 나타나던 모두 세야 한다.\n",
    "\n",
    "g Programming Contest\n",
    "n New Zealand\n",
    "x This is quite a simple problem.\n",
    "#"
   ]
  },
  {
   "cell_type": "code",
   "execution_count": 81,
   "metadata": {},
   "outputs": [
    {
     "name": "stdout",
     "output_type": "stream",
     "text": [
      "g Programming Contest\n",
      "n New Zealand\n",
      "x This is quite a simple problem.\n",
      "#\n",
      "2\n",
      "2\n",
      "0\n"
     ]
    }
   ],
   "source": [
    "#컴파일 에러 왜나는거야 진짜루\n",
    "def study(str_list):\n",
    "    result = -1\n",
    "    result += str_list.count(str_list[0])\n",
    "    result += str_list.count(chr(ord(str_list[0])-32))\n",
    "    print(f'{str_list[0]} {result}')\n",
    "list_input = []\n",
    "while True:\n",
    "    temp = input()\n",
    "    if temp == '#':\n",
    "        break\n",
    "    list_input += [temp]\n",
    "for x in list_input:\n",
    "    study(list(x))"
   ]
  },
  {
   "cell_type": "code",
   "execution_count": 1,
   "metadata": {},
   "outputs": [
    {
     "name": "stdout",
     "output_type": "stream",
     "text": [
      "a\n"
     ]
    },
    {
     "ename": "ValueError",
     "evalue": "invalid literal for int() with base 10: 'a'",
     "output_type": "error",
     "traceback": [
      "\u001b[1;31m---------------------------------------------------------------------------\u001b[0m",
      "\u001b[1;31mValueError\u001b[0m                                Traceback (most recent call last)",
      "\u001b[1;32m<ipython-input-1-30a3126bc26a>\u001b[0m in \u001b[0;36m<module>\u001b[1;34m()\u001b[0m\n\u001b[1;32m----> 1\u001b[1;33m \u001b[0ma\u001b[0m \u001b[1;33m=\u001b[0m \u001b[0mlist\u001b[0m\u001b[1;33m(\u001b[0m\u001b[0mmap\u001b[0m\u001b[1;33m(\u001b[0m\u001b[0mint\u001b[0m\u001b[1;33m,\u001b[0m \u001b[0minput\u001b[0m\u001b[1;33m(\u001b[0m\u001b[1;33m)\u001b[0m\u001b[1;33m.\u001b[0m\u001b[0msplit\u001b[0m\u001b[1;33m(\u001b[0m\u001b[1;33m)\u001b[0m\u001b[1;33m)\u001b[0m\u001b[1;33m)\u001b[0m\u001b[1;33m\u001b[0m\u001b[0m\n\u001b[0m\u001b[0;32m      2\u001b[0m \u001b[0mprint\u001b[0m\u001b[1;33m(\u001b[0m\u001b[0mabs\u001b[0m\u001b[1;33m(\u001b[0m\u001b[0ma\u001b[0m\u001b[1;33m[\u001b[0m\u001b[1;36m0\u001b[0m\u001b[1;33m]\u001b[0m\u001b[1;33m-\u001b[0m\u001b[0ma\u001b[0m\u001b[1;33m[\u001b[0m\u001b[1;36m1\u001b[0m\u001b[1;33m]\u001b[0m\u001b[1;33m)\u001b[0m\u001b[1;33m)\u001b[0m\u001b[1;33m\u001b[0m\u001b[0m\n",
      "\u001b[1;31mValueError\u001b[0m: invalid literal for int() with base 10: 'a'"
     ]
    }
   ],
   "source": [
    "a = list(map(int, input().split()))\n",
    "print(abs(a[0]-a[1]))"
   ]
  },
  {
   "cell_type": "markdown",
   "metadata": {},
   "source": [
    "# 2475 검증수\n",
    "문제\n",
    "\n",
    "컴퓨터를 제조하는 회사인 KOI 전자에서는 제조하는 컴퓨터마다 6자리의 고유번호를 매긴다. 고유번호의 처음 5자리에는 00000부터 99999까지의 수 중 하나가 주어지며 6번째 자리에는 검증수가 들어간다. 검증수는 고유번호의 처음 5자리에 들어가는 5개의 숫자를 각각 제곱한 수의 합을 10으로 나눈 나머지이다.\n",
    "\n",
    "예를 들어 고유번호의 처음 5자리의 숫자들이 04256이면, 각 숫자를 제곱한 수들의 합 0+16+4+25+36 = 81 을 10으로 나눈 나머지인 1이 검증수이다.\n",
    "\n",
    "입력\n",
    "\n",
    "첫째 줄에 고유번호의 처음 5자리의 숫자들이 빈칸을 사이에 두고 하나씩 주어진다.\n",
    "\n",
    "출력\n",
    "\n",
    "첫째 줄에 검증수를 출력한다."
   ]
  },
  {
   "cell_type": "code",
   "execution_count": 6,
   "metadata": {},
   "outputs": [
    {
     "name": "stdout",
     "output_type": "stream",
     "text": [
      "0 4 2 5 6\n",
      "1\n"
     ]
    }
   ],
   "source": [
    "inputN = list(map(int,input().split()))\n",
    "result = sum([x**2 for x in inputN])%10\n",
    "print(result)"
   ]
  },
  {
   "cell_type": "markdown",
   "metadata": {},
   "source": [
    "# 2476 주사위게임\n",
    "문제\n",
    "\n",
    "1에서부터 6까지의 눈을 가진 3개의 주사위를 던져서 다음과 같은 규칙에 따라 상금을 받는 게임이 있다.\n",
    "\n",
    "같은 눈이 3개가 나오면 10,000원+(같은 눈)*1,000원의 상금을 받게 된다. \n",
    "같은 눈이 2개만 나오는 경우에는 1,000원+(같은 눈)*100원의 상금을 받게 된다. \n",
    "모두 다른 눈이 나오는 경우에는 (그 중 가장 큰 눈)*100원의 상금을 받게 된다.  \n",
    "예를 들어, 3개의 눈 3, 3, 6이 주어지면 상금은 1,000+3*100으로 계산되어 1,300원을 받게 된다. 또 3개의 눈이 2, 2, 2로 주어지면 10,000+2*1,000 으로 계산되어 12,000원을 받게 된다. 3개의 눈이 6, 2, 5로 주어지면 그 중 가장 큰 값이 6이므로 6*100으로 계산되어 600원을 상금으로 받게 된다.\n",
    "\n",
    "N(2 ≤ N ≤ 1,000)명이 주사위 게임에 참여하였을 때, 가장 많은 상금을 받은 사람의 상금을 출력하는 프로그램을 작성하시오.\n",
    "\n",
    "입력\n",
    "\n",
    "첫째 줄에는 참여하는 사람 수 N이 주어지고 그 다음 줄부터 N개의 줄에 사람들이 주사위를 던진 3개의 눈이 빈칸을 사이에 두고 각각 주어진다. \n",
    "\n",
    "출력\n",
    "\n",
    "첫째 줄에 가장 많은 상금을 받은 사람의 상금을 출력한다."
   ]
  },
  {
   "cell_type": "code",
   "execution_count": 9,
   "metadata": {},
   "outputs": [
    {
     "name": "stdout",
     "output_type": "stream",
     "text": [
      "3\n",
      "3 3 6\n",
      "2 2 2\n",
      "6 2 5\n",
      "12000\n"
     ]
    }
   ],
   "source": [
    "inputN = int(input())\n",
    "list_input = [list(map(int, input().split()))for i in range(0,inputN)]\n",
    "result = []\n",
    "for dice in list_input:\n",
    "    if dice.count(max(dice)) == 3:\n",
    "        result += [10000+max(dice)*1000]\n",
    "    elif dice.count(max(dice)) == 2:\n",
    "        result += [1000+max(dice)*100]\n",
    "    else :\n",
    "        result += [max(dice)*100]\n",
    "print(max(result))"
   ]
  }
 ],
 "metadata": {
  "kernelspec": {
   "display_name": "Python 3",
   "language": "python",
   "name": "python3"
  },
  "language_info": {
   "codemirror_mode": {
    "name": "ipython",
    "version": 3
   },
   "file_extension": ".py",
   "mimetype": "text/x-python",
   "name": "python",
   "nbconvert_exporter": "python",
   "pygments_lexer": "ipython3",
   "version": "3.6.5"
  }
 },
 "nbformat": 4,
 "nbformat_minor": 2
}
