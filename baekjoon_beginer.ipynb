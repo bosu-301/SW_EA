{
 "cells": [
  {
   "cell_type": "markdown",
   "metadata": {},
   "source": [
    "# 3040 백설공주와 일곱난장이\n",
    "문제\n",
    "\n",
    "매일 매일 일곱 난쟁이는 광산으로 일을 하러 간다. 난쟁이가 일을 하는 동안 백설공주는 그들을 위해 저녁 식사를 준비한다. 백설공주는 의자 일곱개, 접시 일곱개, 나이프 일곱개를 준비한다.\n",
    "\n",
    "어느 날 광산에서 아홉 난쟁이가 돌아왔다. (왜 그리고 어떻게 아홉 난쟁이가 돌아왔는지는 아무도 모른다) 아홉 난쟁이는 각각 자신이 백설공주의 일곱 난쟁이라고 우기고 있다.\n",
    "\n",
    "백설공주는 이런 일이 생길 것을 대비해서, 난쟁이가 쓰고 다니는 모자에 100보다 작은 양의 정수를 적어 놓았다. 사실 백설 공주는 공주가 되기 전에 매우 유명한 수학자였다. 따라서, 일곱 난쟁이의 모자에 쓰여 있는 숫자의 합이 100이 되도록 적어 놓았다.\n",
    "\n",
    "아홉 난쟁이의 모자에 쓰여 있는 수가 주어졌을 때, 일곱 난쟁이를 찾는 프로그램을 작성하시오. (아홉 개의 수 중 합이 100이 되는 일곱 개의 수를 찾으시오)\n",
    "\n",
    "입력\n",
    "\n",
    "총 아홉개 줄에 1보다 크거나 같고 99보다 작거나 같은 자연수가 주어진다. 모든 숫자는 서로 다르다. 또, 항상 답이 유일한 경우만 입력으로 주어진다.\n",
    "\n",
    "출력\n",
    "\n",
    "일곱 난쟁이가 쓴 모자에 쓰여 있는 수를 한 줄에 하나씩 출력한다.\n",
    "7\n",
    "8\n",
    "10\n",
    "13\n",
    "15\n",
    "19\n",
    "20\n",
    "23\n",
    "25"
   ]
  },
  {
   "cell_type": "code",
   "execution_count": 10,
   "metadata": {},
   "outputs": [
    {
     "name": "stdout",
     "output_type": "stream",
     "text": [
      "7\n",
      "8\n",
      "10\n",
      "13\n",
      "15\n",
      "19\n",
      "20\n",
      "23\n",
      "25\n",
      "7\n",
      "8\n",
      "10\n",
      "13\n",
      "19\n",
      "20\n",
      "23\n"
     ]
    }
   ],
   "source": [
    "nan = []\n",
    "for i in range(0,9):\n",
    "    nan += [int(input())]\n",
    "key = sum(nan) - 100\n",
    "result = []\n",
    "for x in nan:\n",
    "    try:\n",
    "        a = nan.index(key-x)\n",
    "        if a != nan.index(x):\n",
    "            result += [a,nan.index(x)]\n",
    "    except:\n",
    "        pass\n",
    "for i in range(0,9):\n",
    "    if i != result[0] and i != result[1]:\n",
    "        print(nan[i])"
   ]
  },
  {
   "cell_type": "markdown",
   "metadata": {},
   "source": [
    "# 3046 R2\n",
    "문제\n",
    "\n",
    "두 숫자 R1과 R2가 있을 때, 두 수의 평균 S는 (R1+R2)/2와 같다. 상근이는 정인이 생일 선물로 두 숫자 R1과 R2를 주려고 한다. 생일 파티에서 상근이는 정인이에게 이 두 숫자를 말해주고, 정인이는 이 숫자를 받아 적는다. 그리고 나서 기쁜 마음으로 1년동안 이 숫자를 외우면서 산다.\n",
    "\n",
    "상근이는 R1과 R2를 엄청난 고민 끝에 정했다. 작년에는 R1과 R2를 까먹어서 아무 숫자나 정해서 주었기 때문에, 올해는 까먹지 않기 위해서 평균 S도 같이 기억하려고 한다.\n",
    "\n",
    "오늘은 정인이 생일이다. 5분 후에 상근이는 생일 선물로 두 숫자 R1과 R2를 말해주어야 하지만, 안타깝게도 R2를 까먹고 말았다. 하지만 R1과 S는 기억하고 있다!\n",
    "\n",
    "상근이를 도와 R2가 몇 인지 구하는 프로그램을 작성하시오.\n",
    "\n",
    "입력\n",
    "\n",
    "첫째 줄에 두 정수 R1과 S가 주어진다. 두 수는 -1000보다 크거나 같고, 1000보다 작거나 같다.\n",
    "\n",
    "출력\n",
    "\n",
    "첫째 줄에 R2를 출력한다."
   ]
  },
  {
   "cell_type": "code",
   "execution_count": 11,
   "metadata": {},
   "outputs": [
    {
     "name": "stdout",
     "output_type": "stream",
     "text": [
      "11 15\n",
      "19\n"
     ]
    }
   ],
   "source": [
    "R1, S = list(map(int,input().split()))\n",
    "R2 = 2*S - R1\n",
    "print(R2)"
   ]
  },
  {
   "cell_type": "markdown",
   "metadata": {},
   "source": [
    "# 3047 ABC\n",
    "문제\n",
    "\n",
    "세 수 A, B, C가 주어진다. A는 B보다 작고, B는 C보다 작다.\n",
    "\n",
    "세 수 A, B, C가 주어졌을 때, 입력에서 주어진 순서대로 출력하는 프로그램을 작성하시오.\n",
    "\n",
    "입력\n",
    "\n",
    "첫째 줄에 세 수 A, B, C가 주어진다. 하지만, 순서는 A, B, C가 아닐 수도 있다. 세 수는 100보다 작거나 같은 자연수이다. 둘째 줄에는 A, B, C로 이루어진 세 글자가 주어지며, 이 순서대로 출력하면 된다.\n",
    "\n",
    "출력\n",
    "\n",
    "주어진 세 수를 주어진 출력 순서대로 출력하면 된다."
   ]
  },
  {
   "cell_type": "code",
   "execution_count": 13,
   "metadata": {},
   "outputs": [
    {
     "name": "stdout",
     "output_type": "stream",
     "text": [
      "1 5 3\n",
      "ABC\n",
      "1\n",
      "3\n",
      "5\n"
     ]
    }
   ],
   "source": [
    "num = list(map(int, input().split()))\n",
    "num.sort()\n",
    "order = input()\n",
    "for char in order:\n",
    "    print(num[ord(char)-65], end= \" \")\n"
   ]
  },
  {
   "cell_type": "markdown",
   "metadata": {},
   "source": [
    "# 4447 좋은놈 나쁜놈\n",
    "문제\n",
    "\n",
    "비키니시티에 초능력을 가진 수퍼 히어로들로 바글바글하다. 스폰지밥과 패트릭은 주어진 문자열로 좋은놈과 나쁜놈을 골라내려 한다.\n",
    "\n",
    "스폰지밥: 우와, 문자열에서 강한 힘이 느껴지는데! 근데 좋은 놈인지 나쁜 놈인지 알 길이 없네.\n",
    "\n",
    "패트릭: 아니, 쉬운 것 같은데? 그냥 이름에서 'g'의 개수와 'b'의 개수만 세면 돼. 'g'가 더 많으면 좋은 놈. 'b'가 더 많으면 나쁜 놈. 위대하\n",
    "신 히어로 중의 히어로 'Algorithm Crunching Man' 을 떠올려 봐. 'g'가 2개 있고 'b'는 없지.\n",
    "\n",
    "스폰지밥: 오, 그렇구만. 그럼 'Green Lantern' 은 좋은 놈이고 'Boba Fett' 은 나쁜 놈이네?\n",
    "\n",
    "패트릭: 크~ 정답! 근데 'Boba Fett'이 누구야?\n",
    "\n",
    "스폰지밥: 됐고, 'Superman'은 어떨까?\n",
    "\n",
    "패트릭: ...그 분은 'g'랑 'b'가 같으니 중립이네.\n",
    "\n",
    "스폰지밥: 아~ 'g'랑 'b'가 없어도 같다고 보는구나. 역시 넌 천재! 이번엔 그럼 'Batman'은 어때? 난 좋은거 같던데.\n",
    "\n",
    "패트릭: 너 다크나이트 본 적 없지?\n",
    "\n",
    "스폰지밥: 아 알았어 그럼 'Green Goblin'은? 무서운 악당이던데.\n",
    "\n",
    "패트릭: 그건 'Green Goblin'에 대한 실례야. 그는 그의 과거로부터 고통받고 있다구. 사람이 말이야 내면을 봐야지. 말 안해도 알지?\n",
    "\n",
    "스폰지밥: 하아..패트릭.. 너 좀 대단한 듯. 근데 잠깐만, 너 설마 게살버거 제조법을 훔치려 했던 'Plankton' 을 중립이라 말하고 싶은 건 아니겠지?\n",
    "\n",
    "패트릭: 어차피 성공한 적도 없잖아.\n",
    "\n",
    "스폰지밥: 흠, 그렇긴 해. 볼수록 착하고 사실 친구가 필요한 것 뿐 이었어. 중립 맞네.\n",
    "\n",
    "패트릭: 좋아. 이제 하나하나 이름들을 살펴 볼까?\n",
    "\n",
    "스폰지밥: 야 패트릭, 우리가 이걸 귀찮게 하루종일 세고 앉아있어야 겠냐? (눈치를 준다.)\n",
    "\n",
    "패트릭: (...아!)  여태껏 우리 얘기를 엿들은 인간에게 시켜보자. 일을 잘 끝내면 게살버거 하나 사주지.\n",
    "\n",
    "스폰지밥: 역시 패트릭! 우리 우정 변치 말자!\n",
    "스폰지밥과 패트릭을 도와 히어로들이 착한지 나쁜지를 알아보자. \n",
    "\n",
    "입력\n",
    "첫 줄에 테스트케이스 n(n > 0)이 주어진다.\n",
    "\n",
    "그 다음 줄부터 n개에 걸쳐 이름들이 주어지며 적어도 1개의 문자를 포함하고 25자를 넘지 않는다.\n",
    "\n",
    "이름은 대소문자와 공백만 주어진다. 공백은 여러 개의 단어를 가진 이름을 구분짓기 위해 사용된다.\n",
    "\n",
    "출력\n",
    "각 줄마다 히어로의 이름과 하나의 공백을 사이로 \"is\" 를 출력한다.\n",
    "\n",
    "그리고 이름의 'g'와 'b'의 개수에 따라 “GOOD”, “A BADDY”, “NEUTRAL”  중에 적절한 것을 골라 출력한다.\n",
    "Algorithm Crunching Man is GOOD"
   ]
  },
  {
   "cell_type": "code",
   "execution_count": null,
   "metadata": {},
   "outputs": [],
   "source": [
    "inputN = int(input())\n",
    "hero = [input() for i in range(0,inputN)]\n",
    "for x in hero:\n",
    "    B = x.count('b') + x.count('B')\n",
    "    G = x.count('g') + x.count('G')\n",
    "    if B == G:\n",
    "        print(f'{x} is NEUTRAL')\n",
    "    elif B>G:\n",
    "        print(f'{x} is A BADDY')\n",
    "    else:\n",
    "        print(f'{x} is GOOD')"
   ]
  },
  {
   "cell_type": "markdown",
   "metadata": {},
   "source": [
    "# 4458 첫 글자를 대문자로\n",
    "입력\n",
    "첫째 줄에 줄의 수 N이 주어진다. 다음 N개의 줄에는 문장이 주어진다. 각 문장에 들어있는 글자의 수는 30을 넘지 않는다. 모든 줄의 첫 번째 글자는 알파벳이다.\n",
    "\n",
    "출력\n",
    "각 줄의 첫글자를 대문자로 바꾼뒤 출력한다.\n"
   ]
  },
  {
   "cell_type": "code",
   "execution_count": 36,
   "metadata": {},
   "outputs": [
    {
     "name": "stdout",
     "output_type": "stream",
     "text": [
      "1\n",
      "iwlej ilj\n",
      "Iwlej ilj\n"
     ]
    }
   ],
   "source": [
    "inputN = int(input())\n",
    "data = []\n",
    "for x in range(0,inputN):\n",
    "    data += [list(input())]\n",
    "for i in range(0,len(data)):\n",
    "    data[i][0] = data[i][0].upper()\n",
    "for x in data:\n",
    "    print (''.join(x))"
   ]
  },
  {
   "cell_type": "markdown",
   "metadata": {},
   "source": [
    "# 4470 줄번호\n",
    "문제\n",
    "\n",
    "텍스트에서 줄을 입력받은 뒤, 줄 번호를 출력하는 프로그램을 작성하시오.\n",
    "\n",
    "입력\n",
    "첫째 줄에 줄의 수 N이 주어진다. 둘째 줄부터 N개의 줄에 각 줄의 내용이 주어진다. 각 줄에 있는 글자의 개수는 50글자를 넘지 않는다.\n",
    "\n",
    "출력\n",
    "각 문장의 앞에 줄 번호를 추가한 뒤 출력한다. 줄 번호는 1번부터 시작한다. 줄번호를 추가하는 형식은 출력 예제를 참고하면 된다."
   ]
  },
  {
   "cell_type": "code",
   "execution_count": 39,
   "metadata": {},
   "outputs": [
    {
     "name": "stdout",
     "output_type": "stream",
     "text": [
      "0\n"
     ]
    }
   ],
   "source": [
    "inputN = int(input())\n",
    "data = [input() for i in range(0, inputN)]\n",
    "for i in range(0,inputN):\n",
    "    print(f'{i+1}. {data[i]}')"
   ]
  },
  {
   "cell_type": "markdown",
   "metadata": {},
   "source": [
    "# 4493 가위바위보?\n",
    "문제\n",
    "가위 바위 보는 두 명이서 하는 게임이다. 보통 미리 정해놓은 수 만큼 게임을 하고, 많은 게임을 이긴 사람이 최종 승자가 된다.\n",
    "\n",
    "가위 바위 보를 한 횟수와 매번 두 명이 무엇을 냈는지가 주어졌을 때, 최종 승자를 출력하는 프로그램을 작성하시오.\n",
    "\n",
    "바위는 가위를 이긴다.\n",
    "가위는 보를 이긴다.\n",
    "보는 바위를 이긴다.\n",
    "\n",
    "입력\n",
    "\n",
    "첫째 줄에는 테스트 케이스의 개수 t(0 < t < 1000)가 주어진다. 각 테스트 케이스의 첫째 줄에는 가위 바위 보를 한 횟수 n(0 < n < 100)이 주어진다. 다음 n개의 줄에는 R, P, S가 공백으로 구분되어 주어진다. R, P, S는 순서대로 바위, 보, 가위이고 첫 번째 문자는 Player 1의 선택, 두 번째 문자는 Player 2의 선택이다.\n",
    "\n",
    "출력\n",
    "\n",
    "각 테스트 케이스에 대해서 승자를 출력한다. (Player 1 또는 Player 2) 만약, 비겼을 경우에는 TIE를 출력한다."
   ]
  },
  {
   "cell_type": "code",
   "execution_count": null,
   "metadata": {},
   "outputs": [],
   "source": [
    "inputT = int(input())\n"
   ]
  }
 ],
 "metadata": {
  "kernelspec": {
   "display_name": "Python 3",
   "language": "python",
   "name": "python3"
  },
  "language_info": {
   "codemirror_mode": {
    "name": "ipython",
    "version": 3
   },
   "file_extension": ".py",
   "mimetype": "text/x-python",
   "name": "python",
   "nbconvert_exporter": "python",
   "pygments_lexer": "ipython3",
   "version": "3.6.5"
  }
 },
 "nbformat": 4,
 "nbformat_minor": 2
}
