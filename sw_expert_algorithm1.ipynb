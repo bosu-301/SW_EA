{
 "cells": [
  {
   "cell_type": "markdown",
   "metadata": {},
   "source": [
    "# 9280. 진용이네 주차타워\n",
    "d3"
   ]
  },
  {
   "cell_type": "markdown",
   "metadata": {},
   "source": [
    "'''\n",
    "부지런한 진용이는 정문 앞에서 유료 주차장 운영하고 있다. 이 주차장은 1 부터 n 까지 번호가 매겨진 n 개의 주차 공간을 가지고 있다.\n",
    "매일 아침 모든 주차 공간이 비어 있는 상태에서 영업을 시작하며, 다음과 같은 방식으로 운영된다.\n",
    "\n",
    " \n",
    "\n",
    "차가 주차장에 도착하면, 진용이는 비어있는 주차 공간이 있는지 검사한다.\n",
    " \n",
    "비어있는 공간이 없다면, 빈 공간이 생길 때까지 차량을 입구에서 기다리게 한다.\n",
    " \n",
    "빈 주차 공간이 있으면 진용이는 곧바로 주차를 시키며, 주차 가능한 공간 중 번호가 가장 작은 주차 공간에 주차하도록 한다.\n",
    " \n",
    "만약 주차를 기다리는 차량이 여러 대라면, 입구의 대기장소에서 자기 차례를 기다려야 한다. 운전자들은 예의가 바르기 때문에 새치기를 하지 않는다.\n",
    " \n",
    "\n",
    "주차요금은 차량의 무게와 주차 공간마다 따로 책정된 단위 무게당 금액을 곱한 가격이다. 진용이네 주차장에서는 종일 이용권만을 판매하기 때문에 이용시간은 고려하지 않는다.\n",
    " \n",
    "\n",
    "진용이는 오늘 주차장을 이용할 m 대의 차량들이 들어오고 나가는 순서를 알고 있다.\n",
    "진용이의 주차장이 오늘 하루 벌어들일 총 수입을 계산하는 프로그램을 작성하라.\n",
    " \n",
    "\n",
    "[입력]\n",
    "\n",
    " \n",
    "\n",
    "첫 번째 줄에 테스트 케이스의 수 TC 가 주어진다.\n",
    "이후 TC 개의 테스트 케이스가 새 줄로 구분되어 주어진다.\n",
    "각 테스트 케이스는 다음과 같이 구성되어 있다.\n",
    "\n",
    " \n",
    "\n",
    "첫 번째 줄에 자연수  n 과  m 이 주어진다. (1 ≤ n  ≤ 100, 1 ≤ m  ≤ 2000)\n",
    "n 개의 줄에 i 번째 주차 공간의 단위 무게당 요금 Ri 가 정수로 주어진다. (1 ≤ Ri  ≤ 100)\n",
    "m 개의 줄에 차량 i 의 무게 Wi 가 정수로 주어진다. 차량번호 i 와 차량의 도착 순서는 아무런 관계가 없다. (1 ≤ Wi  ≤ 10000)\n",
    "이후  2m 개의 줄에 차량들의 주차장 출입 순서가 하나의 정수  x 로 주어진다.\n",
    "주어진 정수 x 가 양수면, x 번 차가 주차장에 들어옴을 뜻한다.\n",
    "x 가 음수면, -x 번 차가 주차장을 나감을 뜻한다.\n",
    " \n",
    "\n",
    "주차장에 들어오지 않은 차량이 주차장에서 나가는 경우는 주어지지 않는다.\n",
    "1 번부터 m 번까지 모든 차량은 정확하게 한 번씩 주차장에 들어오고, 한 번씩 주차장에서 나간다.\n",
    "또한 입구에서 대기 중인 차량이 주차를 하지 못하고 그냥 돌아가는 경우는 없다.\n",
    "\n",
    " \n",
    "\n",
    "[출력]\n",
    "\n",
    "각 테스트 케이스마다 ‘#t ’(t 는 테스트케이스 번호를 의미하며 1부터 시작한다)를 출력하고, 진용이가 오늘 하룻동안 벌어들일 수입을 출력하라.\n",
    "'''"
   ]
  },
  {
   "cell_type": "markdown",
   "metadata": {},
   "source": [
    "입력\n",
    "2\n",
    "3 4\n",
    "2\n",
    "3\n",
    "5\n",
    "2\n",
    "1\n",
    "3\n",
    "8\n",
    "3\n",
    "2\n",
    "-3\n",
    "1\n",
    "4\n",
    "-4\n",
    "-2\n",
    "-1\n",
    "2 4\n",
    "5\n",
    "2\n",
    "100\n",
    "500\n",
    "1000\n",
    "2000\n",
    "3\n",
    "1\n",
    "2\n",
    "4\n",
    "-1\n",
    "-3\n",
    "-2\n",
    "-4\n",
    "sample_input.txt\n",
    "\n",
    "\n",
    "출력\n",
    "#1 53\n",
    "#2 16200\t// 첫 번째 테스트 케이스 결과\n",
    "// 두 번째 테스트 케이스 결과\n",
    "sample_output.txt"
   ]
  },
  {
   "cell_type": "code",
   "execution_count": 30,
   "metadata": {},
   "outputs": [
    {
     "name": "stdout",
     "output_type": "stream",
     "text": [
      "2\n",
      "3 4\n",
      "2\n",
      "3\n",
      "5\n",
      "2\n",
      "1\n",
      "3\n",
      "8\n",
      "3\n",
      "2\n",
      "-3\n",
      "1\n",
      "4\n",
      "-4\n",
      "-2\n",
      "-1\n",
      "34\n"
     ]
    }
   ],
   "source": [
    "def parking ():\n",
    "    earn = 0\n",
    "    n, m = input().split(' ')\n",
    "    n ,m = int(n), int(m)\n",
    "    Ri = [int(input()) for i in range(0,n)]\n",
    "    Wi = [int(input()) for i in range(0,m)]\n",
    "    empty = [i for i in range(0,n)]\n",
    "    car_parknum = {}\n",
    "    waitting = []\n",
    "    \n",
    "    for i in range(0, 2*m):\n",
    "        car = input()\n",
    "        int_car = int(car)\n",
    "        if car[0] == '-':\n",
    "\n",
    "            delp = car_parknum[car[1:]]\n",
    "            del car_parknum[car[1:]]\n",
    "            empty.append(delp)\n",
    "            empty.sort()\n",
    "        else:\n",
    "            if len(empty) == 0 :\n",
    "                waitting.insert[0,car]\n",
    "            else :\n",
    "                if len(waitting) != 0 :\n",
    "                    waitting.insert(0,car)\n",
    "                    car = waitting.pop()\n",
    "                    int_car = int(car)\n",
    "                p = empty[0]\n",
    "                car_parknum[car] = p\n",
    "                del(empty[0])\n",
    "                earn += Ri[p]*int_car\n",
    "    return earn\n",
    "\n",
    "tc = int(input())\n",
    "for i in range (0,tc):\n",
    "    print(\"#%d %d\"%(i+1, parking()))\n"
   ]
  },
  {
   "cell_type": "markdown",
   "metadata": {},
   "source": [
    "# 7675. 통역사 성경이\n",
    "d3"
   ]
  },
  {
   "cell_type": "markdown",
   "metadata": {},
   "source": [
    "성경이는 대통령 직속 통역관이다.\n",
    "\n",
    "대통령은 사람 이름을 외우는 것을 굉장히 중요시 한다.\n",
    "\n",
    "따라서 외국 대사와의 대화에서 나오는 모든 이름을 외워달라고 성경이에게 부탁했다.\n",
    "\n",
    "외국 대사는 총 N개의 문장을 말했다.\n",
    "\n",
    "각 문장의 마지막 단어는 세 가지 구두점 ‘.’, ‘?’, ‘!’ 중 하나를 마지막에 포함한다.\n",
    "\n",
    "문장은 대소문자 알파벳와 숫자로 이루어진 단어들이 공백을 사이에 두고 구성되어 있으며, 예외적으로 마지막 단어는 구두점으로 끝나게 된다.\n",
    "\n",
    "이름은 대문자 알파벳으로 시작하며 나머지는 소문자 알파벳인 단어들이다.\n",
    "\n",
    "예외적으로, 단어의 마지막이 구두점일 경우에도 이름이며, 대문자 한글자도 이름이다.\n",
    "\n",
    "성경이는 대통령을 위해서 외국 대사와의 대화를 문서로 받아서 이름이 몇 번 나오는 지를 알려줘야 한다.\n",
    "\n",
    "N개의 문장을 받아서 문장 별로 이름의 개수를 구하여라.\n",
    "\n",
    "\n",
    "[입력]\n",
    "\n",
    "첫 번째 줄에 테스트 케이스의 수 T(1 ≤ T ≤ 11)가 주어진다.\n",
    "\n",
    "각 테스트 케이스의 첫 번째 줄에는 문장의 개수 N(1 ≤ N ≤ 5)이 주어진다.\n",
    "\n",
    "두 번째 줄에는 N개의 문장이 주어지며, 총 문자의 개수는 1,000개 이하이다.\n",
    "\n",
    "\n",
    "[출력]\n",
    "\n",
    "각 테스트 케이스마다 ‘#x’(x는 테스트케이스 번호를 의미하며 1부터 시작한다)를 출력하고,\n",
    "\n",
    "N개의 수를 공백 하나로 구분하여 출력해야 하며, 각수는 각 문장에 속한 이름의 개수여야 한다."
   ]
  },
  {
   "cell_type": "code",
   "execution_count": 31,
   "metadata": {},
   "outputs": [
    {
     "data": {
      "text/plain": [
       "'\\n2\\n2\\nAnnyung Hasae Yo! LoL!\\n3\\nmy name is Hye Soo. my id is\\nRhs0266. what your id Bro?\\n\\n\\n#1 3 0\\n#2 2 0 1\\n'"
      ]
     },
     "execution_count": 31,
     "metadata": {},
     "output_type": "execute_result"
    }
   ],
   "source": [
    "'''\n",
    "2\n",
    "2\n",
    "Annyung Hasae Yo! LoL!\n",
    "3\n",
    "my name is Hye Soo. my id is\n",
    "Rhs0266. what your id Bro?\n",
    "\n",
    "\n",
    "#1 3 0\n",
    "#2 2 0 1\n",
    "'''"
   ]
  },
  {
   "cell_type": "code",
   "execution_count": 1,
   "metadata": {},
   "outputs": [
    {
     "name": "stdout",
     "output_type": "stream",
     "text": [
      "2\n",
      "2\n",
      "Annyung Hasae Yo! LoL!\n",
      "Annyung\n",
      "Hasae\n",
      "['Y', 'o']\n",
      "#3 3 03\n",
      "my name is Hye Soo. my id is Rhs0266. what your id Bro?\n",
      "Hye\n",
      "['S', 'o', 'o']\n",
      "['B', 'r', 'o']\n",
      "#3 2 0 1"
     ]
    }
   ],
   "source": [
    "def trans():\n",
    "    N = int(input())\n",
    "    word = input().split()\n",
    "    result = [0 for x in range(0,N)]\n",
    "    n = 0\n",
    "    for i in word :\n",
    "        if 65 <= ord(i[0]) <= 90 :\n",
    "            if len(i) == 1:\n",
    "                result[n] += 1\n",
    "            elif i[-1] == '?' or i[-1] == '!' or i[-1] == '.':\n",
    "                i = list(i)\n",
    "                i.pop()\n",
    "                triger = 1\n",
    "                for x in i[1:] :\n",
    "                    if not(97<= ord(x)<= 122 or 0<= ord(x)<=9):\n",
    "                        triger = 0\n",
    "                if triger:\n",
    "                    result[n] += 1\n",
    "                n += 1\n",
    "            else :\n",
    "                triger = 1\n",
    "                for x in i[1:] :\n",
    "                    if not (97<= ord(x)<= 122 or 0<= ord(x)<=9):\n",
    "                        triger = 0\n",
    "                if triger:\n",
    "                    result[n] += 1\n",
    "\n",
    "        elif i[-1] == '?' or i[-1] == '!' or i[-1] == '.':\n",
    "            n += 1\n",
    "    return result\n",
    "\n",
    "T = int(input())\n",
    "for test_case in range(1, T + 1):\n",
    "    result = trans()\n",
    "    print(f'#{test_case}',end ='')\n",
    "    for i in result:\n",
    "        print(f' {i}',end='')\n",
    "    print()\n"
   ]
  },
  {
   "cell_type": "markdown",
   "metadata": {},
   "source": [
    "# 6692. 다솔이의 월급 상자\n",
    "d3"
   ]
  },
  {
   "cell_type": "markdown",
   "metadata": {},
   "source": [
    "다솔이가 다니는 회사는 이번 달부터 월급을 상자에 담아 주기로 했다.\n",
    "\n",
    "이 상자에는 의 확률로 만원이 들어 있다.\n",
    "\n",
    "다솔이가 받을 수 있는 월급의 평균은 얼마인지 구해보자.\n",
    "\n",
    "\n",
    "[입력]\n",
    "\n",
    "첫 번째 줄에 테스트 케이스의 수 가 주어진다.\n",
    "\n",
    "각 테스트 케이스의 첫 번째 줄에는 하나의 정수 이 주어진다.\n",
    "\n",
    "다음 N개의 줄의 번째 줄에는 하나의 실수 과 하나의 정수 가 공백으로 구분되어 주어진다.\n",
    "\n",
    "는 소수점 이하 여섯 자리까지의 수를 가질 수 있다. 의 총합은 1이다.\n",
    "\n",
    "\n",
    "1\n",
    "\n",
    "2\n",
    "\n",
    "0.3 100\n",
    "\n",
    "0.7 1\t// 테스트 케이스 개수\n",
    "\n",
    "// 첫 번째 테스트 케이스, N=2\n",
    "// p1 = 0.3, x1 = 100\n",
    "// p2 = 0.7, x2 = 1\n",
    "\n",
    "\n",
    "[출력]\n",
    "\n",
    "각 테스트 케이스마다 ‘#x’(x는 테스트케이스 번호를 의미하며 1부터 시작한다)를 출력하고 한 칸을 띄운 후, 한 줄에 다솔이가 얻을 수 있는 월급의 평균을 출력한다.\n",
    "\n",
    "정답과의 절대오차 혹은 상대 오차가 이하이면 정답으로 인정된다.\n",
    "\n",
    "#1 30.700000\t//첫 번째 테스트 케이스 결과"
   ]
  },
  {
   "cell_type": "code",
   "execution_count": 8,
   "metadata": {},
   "outputs": [
    {
     "name": "stdout",
     "output_type": "stream",
     "text": [
      "1\n",
      "2\n",
      "0.3 100\n",
      "0.7 1\n",
      "#1 30.7\n"
     ]
    }
   ],
   "source": [
    "def box():\n",
    "    N = int(input())\n",
    "    result = 0\n",
    "    for i in range(0,N):\n",
    "        per_money = input().split()\n",
    "        result += float(per_money[0])*float(per_money[1])\n",
    "    return result\n",
    "        \n",
    "\n",
    "T = int(input())\n",
    "# 여러개의 테스트 케이스가 주어지므로, 각각을 처리합니다.\n",
    "for test_case in range(1, T + 1):\n",
    "    print(f'#{test_case} {box():.10}')\n"
   ]
  },
  {
   "cell_type": "markdown",
   "metadata": {},
   "source": [
    "# 6485. 삼성시의 버스 노선\n",
    "d3\n",
    "\n",
    "## 나중에 다시해보자"
   ]
  },
  {
   "cell_type": "markdown",
   "metadata": {},
   "source": [
    "삼성시에 있는 5,000개의 버스 정류장은 관리의 편의를 위해 1에서 5,000까지 번호가 붙어 있다.\n",
    "\n",
    "그리고 버스 노선은 N개가 있는데, i번째 버스 노선은 번호가 Ai이상이고,\n",
    "\n",
    "Bi이하인 모든 정류장만을 다니는 버스 노선이다.\n",
    "\n",
    "P개의 버스 정류장에 대해 각 정류장에 몇 개의 버스 노선이 다니는지 구하는 프로그램을 작성하라.\n",
    "\n",
    "\n",
    "[입력]\n",
    "\n",
    "첫 번째 줄에 테스트 케이스의 수 T가 주어진다.\n",
    "\n",
    "각 테스트 케이스의 첫 번째 줄에는 하나의 정수 N ( 1 ≤ N ≤ 500 )이 주어진다.\n",
    "\n",
    "다음 N개의 줄의 i번째 줄에는 두 정수 Ai, Bi ( 1 ≤ Ai ≤ Bi ≤ 5,000 )가 공백 하나로 구분되어 주어진다.\n",
    "\n",
    "다음 줄에는 하나의 정수 P ( 1 ≤ P ≤ 500 )가 주어진다.\n",
    "\n",
    "다음 P개의 줄의 j번째 줄에는 하나의 정수 Cj ( 1 ≤ Cj ≤ 5,000 ) 가 주어진다.\n",
    "\n",
    "\n",
    "[출력]\n",
    "\n",
    "각 테스트 케이스마다 ‘#x’(x는 테스트케이스 번호를 의미하며 1부터 시작한다)를 출력하고 한 칸을 띄운 후,\n",
    "\n",
    "한 줄에 P개의 정수를 공백 하나로 구분하여 출력한다.\n",
    "\n",
    "j번째 정수는 Cj번 버스 정류장을 지나는 버스 노선의 개수여야 한다."
   ]
  },
  {
   "cell_type": "code",
   "execution_count": 9,
   "metadata": {},
   "outputs": [
    {
     "data": {
      "text/plain": [
       "'\\n1\\n2\\n1 3\\n2 5\\n5\\n1\\n2\\n3\\n4\\n5\\n\\n//테스트 케이스 개수\\n//첫 번째 테스트 케이스, N=2\\n// A1 = 1, B1 = 3\\n// A2 = 2, B2 = 5\\n// P = 5\\n// 이하 C1 = 1, C2 = 2, C3 = 3, C4 = 4, C5 = 5\\n\\n출력\\n#1 1 2 2 1 1\\t//첫 번째 테스트 케이스 결과\\n'"
      ]
     },
     "execution_count": 9,
     "metadata": {},
     "output_type": "execute_result"
    }
   ],
   "source": [
    "'''\n",
    "1\n",
    "2\n",
    "1 3\n",
    "2 5\n",
    "5\n",
    "1\n",
    "2\n",
    "3\n",
    "4\n",
    "5\n",
    "\n",
    "//테스트 케이스 개수\n",
    "//첫 번째 테스트 케이스, N=2\n",
    "// A1 = 1, B1 = 3\n",
    "// A2 = 2, B2 = 5\n",
    "// P = 5\n",
    "// 이하 C1 = 1, C2 = 2, C3 = 3, C4 = 4, C5 = 5\n",
    "\n",
    "출력\n",
    "#1 1 2 2 1 1\t//첫 번째 테스트 케이스 결과\n",
    "'''"
   ]
  },
  {
   "cell_type": "code",
   "execution_count": 3,
   "metadata": {},
   "outputs": [
    {
     "name": "stdout",
     "output_type": "stream",
     "text": [
      "あ\n"
     ]
    },
    {
     "ename": "ValueError",
     "evalue": "invalid literal for int() with base 10: 'あ'",
     "output_type": "error",
     "traceback": [
      "\u001b[1;31m---------------------------------------------------------------------------\u001b[0m",
      "\u001b[1;31mValueError\u001b[0m                                Traceback (most recent call last)",
      "\u001b[1;32m<ipython-input-3-1b1114a3bd16>\u001b[0m in \u001b[0;36m<module>\u001b[1;34m()\u001b[0m\n\u001b[0;32m     14\u001b[0m \u001b[1;33m\u001b[0m\u001b[0m\n\u001b[0;32m     15\u001b[0m \u001b[1;33m\u001b[0m\u001b[0m\n\u001b[1;32m---> 16\u001b[1;33m \u001b[0mT\u001b[0m \u001b[1;33m=\u001b[0m \u001b[0mint\u001b[0m\u001b[1;33m(\u001b[0m\u001b[0minput\u001b[0m\u001b[1;33m(\u001b[0m\u001b[1;33m)\u001b[0m\u001b[1;33m)\u001b[0m\u001b[1;33m\u001b[0m\u001b[0m\n\u001b[0m\u001b[0;32m     17\u001b[0m \u001b[1;31m# 여러개의 테스트 케이스가 주어지므로, 각각을 처리합니다.\u001b[0m\u001b[1;33m\u001b[0m\u001b[1;33m\u001b[0m\u001b[0m\n\u001b[0;32m     18\u001b[0m \u001b[1;32mfor\u001b[0m \u001b[0mtest_case\u001b[0m \u001b[1;32min\u001b[0m \u001b[0mrange\u001b[0m\u001b[1;33m(\u001b[0m\u001b[1;36m1\u001b[0m\u001b[1;33m,\u001b[0m \u001b[0mT\u001b[0m \u001b[1;33m+\u001b[0m \u001b[1;36m1\u001b[0m\u001b[1;33m)\u001b[0m\u001b[1;33m:\u001b[0m\u001b[1;33m\u001b[0m\u001b[0m\n",
      "\u001b[1;31mValueError\u001b[0m: invalid literal for int() with base 10: 'あ'"
     ]
    }
   ],
   "source": [
    "def bus():\n",
    "    N = int(input())\n",
    "    bus_num = [input().split() for i in range(0,N)]\n",
    "    P = int(input())\n",
    "    stop_num = []\n",
    "    temp = []\n",
    "    for i in range(0,P):\n",
    "        stop_num += [int(input()),0]\n",
    "    for x in bus_num:\n",
    "        for i in range(int(x[0])-stop_num[0][0],int(x[1])-stop_num[0][0]+1):\n",
    "            stop_num[i][1] += 1\n",
    "    return stop_num\n",
    "    \n",
    "\n",
    "\n",
    "T = int(input())\n",
    "# 여러개의 테스트 케이스가 주어지므로, 각각을 처리합니다.\n",
    "for test_case in range(1, T + 1):\n",
    "    result = bus()\n",
    "    print (f'#{test_case}',end=\"\")\n",
    "    for i in range(0,len(result)):\n",
    "        print (f' {result[i]}', end='')"
   ]
  },
  {
   "cell_type": "markdown",
   "metadata": {},
   "source": [
    "# 6190. 정곤이의 단조 증가하는 수 D3\n",
    "\n",
    "### 자꾸 시간초과 나온다 ㅠㅠ"
   ]
  },
  {
   "cell_type": "markdown",
   "metadata": {},
   "source": [
    "정곤이는 자신이 엄청난 수학자임을 증명하기 위해, 어떤 규칙 만족하는 수를 찾아보기로 했다.\n",
    "\n",
    "그 규칙은 단조 증가하는 수인데, 각 숫자의 자릿수가 단순하게 증가하는 수를 말한다.\n",
    "\n",
    "어떤 k자리 수 X = d1d2…dk 가 d1 ≤ d2 ≤ … ≤ dk 를 만족하면 단조 증가하는 수이다.\n",
    "\n",
    "예를 들어 111566, 233359는 단조 증가하는 수이고, 12343, 999888은 단조 증가하는 수가 아니다.\n",
    "\n",
    "양의 정수 N 개 A1, …, AN이 주어진다.\n",
    "\n",
    " 1 ≤ i < j ≤ N 인 두 i, j에 대해, Ai x Aj값이 단조 증가하는 수인 것들을 구하고 그 중의 최댓값을 출력하는 프로그램을 작성하라.\n",
    "\n",
    "\n",
    "[입력]\n",
    "\n",
    "첫 번째 줄에 테스트 케이스의 수 T가 주어진다.\n",
    "\n",
    "각 테스트 케이스의 첫 번째 줄에는 하나의 정수 N(1 ≤N ≤ 1,000) 이 주어진다.\n",
    "\n",
    "두 번째 줄에는 N개의 정수 A1, …, AN(1 ≤ Ai ≤ 30,000) 이 공백 하나로 구분되어 주어진다.\n",
    "\n",
    "\n",
    "[출력]\n",
    "\n",
    "각 테스트 케이스마다 단조 증가하는 수인 Ai x Aj중에서 그 최댓값을 출력한다.\n",
    "\n",
    "만약 Ai x Aj중에서 단조 증가하는 수가 없다면 -1을 출력한다."
   ]
  },
  {
   "cell_type": "code",
   "execution_count": null,
   "metadata": {},
   "outputs": [],
   "source": [
    "입력\n",
    "1\n",
    "4\n",
    "2 4 7 10\n",
    "\n",
    "\n",
    "출력\n",
    "#1 28"
   ]
  },
  {
   "cell_type": "code",
   "execution_count": 27,
   "metadata": {},
   "outputs": [
    {
     "name": "stdout",
     "output_type": "stream",
     "text": [
      "1\n",
      "4\n",
      "2 4 7 10\n",
      "[70, 40, 28, 20, 14, 8]\n",
      "#1 28\n"
     ]
    }
   ],
   "source": [
    "\n",
    "def isDanzo(arg):\n",
    "    arg = list(arg)\n",
    "    result = True\n",
    "    temp = 0\n",
    "    for i in list(arg):\n",
    "        if int(i)<temp:\n",
    "            result = False\n",
    "        else:\n",
    "            temp = int(i)\n",
    "    return result\n",
    "    \n",
    "def danzo():\n",
    "    N = int(input())\n",
    "    integer = [int(x) for x in input().split()]\n",
    "#    integer.sort()\n",
    "#    integer.reverse()\n",
    "#    le = len(integer)\n",
    "    # print(integer)\n",
    "    new_int=[]\n",
    "    for i in integer :\n",
    "        new_int += [x*i for x in integer if x != i]\n",
    "    new_int = list(set(new_int))\n",
    "    new_int.sort()\n",
    "    new_int.reverse()\n",
    "    for x in new_int:\n",
    "        if isDanzo(str(x)):\n",
    "            return x\n",
    "\n",
    "T = int(input())\n",
    "for test_case in range(1, T + 1):\n",
    "    print(f'#{test_case} {danzo()}')"
   ]
  }
 ],
 "metadata": {
  "kernelspec": {
   "display_name": "Python 3",
   "language": "python",
   "name": "python3"
  },
  "language_info": {
   "codemirror_mode": {
    "name": "ipython",
    "version": 3
   },
   "file_extension": ".py",
   "mimetype": "text/x-python",
   "name": "python",
   "nbconvert_exporter": "python",
   "pygments_lexer": "ipython3",
   "version": "3.7.4"
  }
 },
 "nbformat": 4,
 "nbformat_minor": 2
}
