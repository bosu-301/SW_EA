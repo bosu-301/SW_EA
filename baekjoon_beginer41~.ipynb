{
 "cells": [
  {
   "cell_type": "markdown",
   "metadata": {},
   "source": [
    "# 3040 백설공주와 일곱난장이\n",
    "문제\n",
    "\n",
    "매일 매일 일곱 난쟁이는 광산으로 일을 하러 간다. 난쟁이가 일을 하는 동안 백설공주는 그들을 위해 저녁 식사를 준비한다. 백설공주는 의자 일곱개, 접시 일곱개, 나이프 일곱개를 준비한다.\n",
    "\n",
    "어느 날 광산에서 아홉 난쟁이가 돌아왔다. (왜 그리고 어떻게 아홉 난쟁이가 돌아왔는지는 아무도 모른다) 아홉 난쟁이는 각각 자신이 백설공주의 일곱 난쟁이라고 우기고 있다.\n",
    "\n",
    "백설공주는 이런 일이 생길 것을 대비해서, 난쟁이가 쓰고 다니는 모자에 100보다 작은 양의 정수를 적어 놓았다. 사실 백설 공주는 공주가 되기 전에 매우 유명한 수학자였다. 따라서, 일곱 난쟁이의 모자에 쓰여 있는 숫자의 합이 100이 되도록 적어 놓았다.\n",
    "\n",
    "아홉 난쟁이의 모자에 쓰여 있는 수가 주어졌을 때, 일곱 난쟁이를 찾는 프로그램을 작성하시오. (아홉 개의 수 중 합이 100이 되는 일곱 개의 수를 찾으시오)\n",
    "\n",
    "입력\n",
    "\n",
    "총 아홉개 줄에 1보다 크거나 같고 99보다 작거나 같은 자연수가 주어진다. 모든 숫자는 서로 다르다. 또, 항상 답이 유일한 경우만 입력으로 주어진다.\n",
    "\n",
    "출력\n",
    "\n",
    "일곱 난쟁이가 쓴 모자에 쓰여 있는 수를 한 줄에 하나씩 출력한다.\n",
    "7\n",
    "8\n",
    "10\n",
    "13\n",
    "15\n",
    "19\n",
    "20\n",
    "23\n",
    "25"
   ]
  },
  {
   "cell_type": "code",
   "execution_count": 10,
   "metadata": {},
   "outputs": [
    {
     "name": "stdout",
     "output_type": "stream",
     "text": [
      "7\n",
      "8\n",
      "10\n",
      "13\n",
      "15\n",
      "19\n",
      "20\n",
      "23\n",
      "25\n",
      "7\n",
      "8\n",
      "10\n",
      "13\n",
      "19\n",
      "20\n",
      "23\n"
     ]
    }
   ],
   "source": [
    "nan = []\n",
    "for i in range(0,9):\n",
    "    nan += [int(input())]\n",
    "key = sum(nan) - 100\n",
    "result = []\n",
    "for x in nan:\n",
    "    try:\n",
    "        a = nan.index(key-x)\n",
    "        if a != nan.index(x):\n",
    "            result += [a,nan.index(x)]\n",
    "    except:\n",
    "        pass\n",
    "for i in range(0,9):\n",
    "    if i != result[0] and i != result[1]:\n",
    "        print(nan[i])"
   ]
  },
  {
   "cell_type": "markdown",
   "metadata": {},
   "source": [
    "# 3046 R2\n",
    "문제\n",
    "\n",
    "두 숫자 R1과 R2가 있을 때, 두 수의 평균 S는 (R1+R2)/2와 같다. 상근이는 정인이 생일 선물로 두 숫자 R1과 R2를 주려고 한다. 생일 파티에서 상근이는 정인이에게 이 두 숫자를 말해주고, 정인이는 이 숫자를 받아 적는다. 그리고 나서 기쁜 마음으로 1년동안 이 숫자를 외우면서 산다.\n",
    "\n",
    "상근이는 R1과 R2를 엄청난 고민 끝에 정했다. 작년에는 R1과 R2를 까먹어서 아무 숫자나 정해서 주었기 때문에, 올해는 까먹지 않기 위해서 평균 S도 같이 기억하려고 한다.\n",
    "\n",
    "오늘은 정인이 생일이다. 5분 후에 상근이는 생일 선물로 두 숫자 R1과 R2를 말해주어야 하지만, 안타깝게도 R2를 까먹고 말았다. 하지만 R1과 S는 기억하고 있다!\n",
    "\n",
    "상근이를 도와 R2가 몇 인지 구하는 프로그램을 작성하시오.\n",
    "\n",
    "입력\n",
    "\n",
    "첫째 줄에 두 정수 R1과 S가 주어진다. 두 수는 -1000보다 크거나 같고, 1000보다 작거나 같다.\n",
    "\n",
    "출력\n",
    "\n",
    "첫째 줄에 R2를 출력한다."
   ]
  },
  {
   "cell_type": "code",
   "execution_count": 11,
   "metadata": {},
   "outputs": [
    {
     "name": "stdout",
     "output_type": "stream",
     "text": [
      "11 15\n",
      "19\n"
     ]
    }
   ],
   "source": [
    "R1, S = list(map(int,input().split()))\n",
    "R2 = 2*S - R1\n",
    "print(R2)"
   ]
  },
  {
   "cell_type": "markdown",
   "metadata": {},
   "source": [
    "# 3047 ABC\n",
    "문제\n",
    "\n",
    "세 수 A, B, C가 주어진다. A는 B보다 작고, B는 C보다 작다.\n",
    "\n",
    "세 수 A, B, C가 주어졌을 때, 입력에서 주어진 순서대로 출력하는 프로그램을 작성하시오.\n",
    "\n",
    "입력\n",
    "\n",
    "첫째 줄에 세 수 A, B, C가 주어진다. 하지만, 순서는 A, B, C가 아닐 수도 있다. 세 수는 100보다 작거나 같은 자연수이다. 둘째 줄에는 A, B, C로 이루어진 세 글자가 주어지며, 이 순서대로 출력하면 된다.\n",
    "\n",
    "출력\n",
    "\n",
    "주어진 세 수를 주어진 출력 순서대로 출력하면 된다."
   ]
  },
  {
   "cell_type": "code",
   "execution_count": 13,
   "metadata": {},
   "outputs": [
    {
     "name": "stdout",
     "output_type": "stream",
     "text": [
      "1 5 3\n",
      "ABC\n",
      "1\n",
      "3\n",
      "5\n"
     ]
    }
   ],
   "source": [
    "num = list(map(int, input().split()))\n",
    "num.sort()\n",
    "order = input()\n",
    "for char in order:\n",
    "    print(num[ord(char)-65], end= \" \")\n"
   ]
  },
  {
   "cell_type": "markdown",
   "metadata": {},
   "source": [
    "# 4447 좋은놈 나쁜놈\n",
    "문제\n",
    "\n",
    "비키니시티에 초능력을 가진 수퍼 히어로들로 바글바글하다. 스폰지밥과 패트릭은 주어진 문자열로 좋은놈과 나쁜놈을 골라내려 한다.\n",
    "\n",
    "스폰지밥: 우와, 문자열에서 강한 힘이 느껴지는데! 근데 좋은 놈인지 나쁜 놈인지 알 길이 없네.\n",
    "\n",
    "패트릭: 아니, 쉬운 것 같은데? 그냥 이름에서 'g'의 개수와 'b'의 개수만 세면 돼. 'g'가 더 많으면 좋은 놈. 'b'가 더 많으면 나쁜 놈. 위대하\n",
    "신 히어로 중의 히어로 'Algorithm Crunching Man' 을 떠올려 봐. 'g'가 2개 있고 'b'는 없지.\n",
    "\n",
    "스폰지밥: 오, 그렇구만. 그럼 'Green Lantern' 은 좋은 놈이고 'Boba Fett' 은 나쁜 놈이네?\n",
    "\n",
    "패트릭: 크~ 정답! 근데 'Boba Fett'이 누구야?\n",
    "\n",
    "스폰지밥: 됐고, 'Superman'은 어떨까?\n",
    "\n",
    "패트릭: ...그 분은 'g'랑 'b'가 같으니 중립이네.\n",
    "\n",
    "스폰지밥: 아~ 'g'랑 'b'가 없어도 같다고 보는구나. 역시 넌 천재! 이번엔 그럼 'Batman'은 어때? 난 좋은거 같던데.\n",
    "\n",
    "패트릭: 너 다크나이트 본 적 없지?\n",
    "\n",
    "스폰지밥: 아 알았어 그럼 'Green Goblin'은? 무서운 악당이던데.\n",
    "\n",
    "패트릭: 그건 'Green Goblin'에 대한 실례야. 그는 그의 과거로부터 고통받고 있다구. 사람이 말이야 내면을 봐야지. 말 안해도 알지?\n",
    "\n",
    "스폰지밥: 하아..패트릭.. 너 좀 대단한 듯. 근데 잠깐만, 너 설마 게살버거 제조법을 훔치려 했던 'Plankton' 을 중립이라 말하고 싶은 건 아니겠지?\n",
    "\n",
    "패트릭: 어차피 성공한 적도 없잖아.\n",
    "\n",
    "스폰지밥: 흠, 그렇긴 해. 볼수록 착하고 사실 친구가 필요한 것 뿐 이었어. 중립 맞네.\n",
    "\n",
    "패트릭: 좋아. 이제 하나하나 이름들을 살펴 볼까?\n",
    "\n",
    "스폰지밥: 야 패트릭, 우리가 이걸 귀찮게 하루종일 세고 앉아있어야 겠냐? (눈치를 준다.)\n",
    "\n",
    "패트릭: (...아!)  여태껏 우리 얘기를 엿들은 인간에게 시켜보자. 일을 잘 끝내면 게살버거 하나 사주지.\n",
    "\n",
    "스폰지밥: 역시 패트릭! 우리 우정 변치 말자!\n",
    "스폰지밥과 패트릭을 도와 히어로들이 착한지 나쁜지를 알아보자. \n",
    "\n",
    "입력\n",
    "첫 줄에 테스트케이스 n(n > 0)이 주어진다.\n",
    "\n",
    "그 다음 줄부터 n개에 걸쳐 이름들이 주어지며 적어도 1개의 문자를 포함하고 25자를 넘지 않는다.\n",
    "\n",
    "이름은 대소문자와 공백만 주어진다. 공백은 여러 개의 단어를 가진 이름을 구분짓기 위해 사용된다.\n",
    "\n",
    "출력\n",
    "각 줄마다 히어로의 이름과 하나의 공백을 사이로 \"is\" 를 출력한다.\n",
    "\n",
    "그리고 이름의 'g'와 'b'의 개수에 따라 “GOOD”, “A BADDY”, “NEUTRAL”  중에 적절한 것을 골라 출력한다.\n",
    "Algorithm Crunching Man is GOOD"
   ]
  },
  {
   "cell_type": "code",
   "execution_count": null,
   "metadata": {},
   "outputs": [],
   "source": [
    "inputN = int(input())\n",
    "hero = [input() for i in range(0,inputN)]\n",
    "for x in hero:\n",
    "    B = x.count('b') + x.count('B')\n",
    "    G = x.count('g') + x.count('G')\n",
    "    if B == G:\n",
    "        print(f'{x} is NEUTRAL')\n",
    "    elif B>G:\n",
    "        print(f'{x} is A BADDY')\n",
    "    else:\n",
    "        print(f'{x} is GOOD')"
   ]
  },
  {
   "cell_type": "markdown",
   "metadata": {},
   "source": [
    "# 4458 첫 글자를 대문자로\n",
    "입력\n",
    "첫째 줄에 줄의 수 N이 주어진다. 다음 N개의 줄에는 문장이 주어진다. 각 문장에 들어있는 글자의 수는 30을 넘지 않는다. 모든 줄의 첫 번째 글자는 알파벳이다.\n",
    "\n",
    "출력\n",
    "각 줄의 첫글자를 대문자로 바꾼뒤 출력한다.\n"
   ]
  },
  {
   "cell_type": "code",
   "execution_count": 36,
   "metadata": {},
   "outputs": [
    {
     "name": "stdout",
     "output_type": "stream",
     "text": [
      "1\n",
      "iwlej ilj\n",
      "Iwlej ilj\n"
     ]
    }
   ],
   "source": [
    "inputN = int(input())\n",
    "data = []\n",
    "for x in range(0,inputN):\n",
    "    data += [list(input())]\n",
    "for i in range(0,len(data)):\n",
    "    data[i][0] = data[i][0].upper()\n",
    "for x in data:\n",
    "    print (''.join(x))"
   ]
  },
  {
   "cell_type": "markdown",
   "metadata": {},
   "source": [
    "# 4470 줄번호\n",
    "문제\n",
    "\n",
    "텍스트에서 줄을 입력받은 뒤, 줄 번호를 출력하는 프로그램을 작성하시오.\n",
    "\n",
    "입력\n",
    "첫째 줄에 줄의 수 N이 주어진다. 둘째 줄부터 N개의 줄에 각 줄의 내용이 주어진다. 각 줄에 있는 글자의 개수는 50글자를 넘지 않는다.\n",
    "\n",
    "출력\n",
    "각 문장의 앞에 줄 번호를 추가한 뒤 출력한다. 줄 번호는 1번부터 시작한다. 줄번호를 추가하는 형식은 출력 예제를 참고하면 된다."
   ]
  },
  {
   "cell_type": "code",
   "execution_count": 39,
   "metadata": {},
   "outputs": [
    {
     "name": "stdout",
     "output_type": "stream",
     "text": [
      "0\n"
     ]
    }
   ],
   "source": [
    "inputN = int(input())\n",
    "data = [input() for i in range(0, inputN)]\n",
    "for i in range(0,inputN):\n",
    "    print(f'{i+1}. {data[i]}')"
   ]
  },
  {
   "cell_type": "markdown",
   "metadata": {},
   "source": [
    "# 4493 가위바위보?\n",
    "문제\n",
    "가위 바위 보는 두 명이서 하는 게임이다. 보통 미리 정해놓은 수 만큼 게임을 하고, 많은 게임을 이긴 사람이 최종 승자가 된다.\n",
    "\n",
    "가위 바위 보를 한 횟수와 매번 두 명이 무엇을 냈는지가 주어졌을 때, 최종 승자를 출력하는 프로그램을 작성하시오.\n",
    "\n",
    "바위는 가위를 이긴다.\n",
    "가위는 보를 이긴다.\n",
    "보는 바위를 이긴다.\n",
    "\n",
    "입력\n",
    "\n",
    "첫째 줄에는 테스트 케이스의 개수 t(0 < t < 1000)가 주어진다. 각 테스트 케이스의 첫째 줄에는 가위 바위 보를 한 횟수 n(0 < n < 100)이 주어진다. 다음 n개의 줄에는 R, P, S가 공백으로 구분되어 주어진다. R, P, S는 순서대로 바위, 보, 가위이고 첫 번째 문자는 Player 1의 선택, 두 번째 문자는 Player 2의 선택이다.\n",
    "\n",
    "출력\n",
    "\n",
    "각 테스트 케이스에 대해서 승자를 출력한다. (Player 1 또는 Player 2) 만약, 비겼을 경우에는 TIE를 출력한다."
   ]
  },
  {
   "cell_type": "code",
   "execution_count": 7,
   "metadata": {},
   "outputs": [
    {
     "name": "stdout",
     "output_type": "stream",
     "text": [
      "1\n",
      "2\n",
      "R P\n",
      "P R\n",
      "TIE\n"
     ]
    }
   ],
   "source": [
    "def RSP(datas):\n",
    "    w1, w2 = 0, 0\n",
    "    for data in datas:\n",
    "        if False:\n",
    "            pass\n",
    "        elif data[0] == 'R':\n",
    "            if data[1] == 'S':\n",
    "                w1 +=1\n",
    "            if data[1] == 'P':\n",
    "                w2 +=1\n",
    "        elif data[0] == 'S':\n",
    "            if data[1] == 'P':\n",
    "                w1 +=1\n",
    "            if data[1] == 'R':\n",
    "                w2 +=1\n",
    "        elif data[0] == 'P':\n",
    "            if data[1] == 'R':\n",
    "                w1 +=1\n",
    "            if data[1] == 'S':\n",
    "                w2 +=1\n",
    "    if w1 > w2:\n",
    "        return 'Player 1'\n",
    "    if w2 > w1:\n",
    "        return 'Player 2'\n",
    "    else:\n",
    "        return 'TIE'\n",
    "inputT = int(input())\n",
    "result = []\n",
    "for i in range(0,inputT):\n",
    "    n = int(input())\n",
    "    datas = [input().split() for i in range(0,n)]\n",
    "    result += [RSP(datas)]\n",
    "for x in result:\n",
    "    print(x)"
   ]
  },
  {
   "cell_type": "markdown",
   "metadata": {},
   "source": [
    "# 4880 다음 수\n",
    "문제\n",
    "\n",
    "등차수열(AP)은 인접한 두 수의 차이(공차)가 일정한 수열이다. 예를 들어, 3, 5, 7, 9, 11, 13, ...은 차이가 2로 일정한 등차수열이다. 이 문제에서 등차수열의 공차는 항상 0이 아닌 정수이다.\n",
    "\n",
    "등비수열(GP)는 각 항이 그 앞과 일정한 비(공비)를 가지는 수열이다. 예를 들어, 2, 6, 18, 54, ...은 공비가 3인 등비수열이다. 이 문제에서 등비수열의 공비는 항상 0이 아닌 정수이다.\n",
    "\n",
    "어떤 수열의 연속한 세개의 숫자가 주어졌을 때, 이 수열이 등차수열인지 등비수열인지를 알아낸 뒤, 다음 항을 구하는 프로그램을 작성하시오.\n",
    "\n",
    "입력\n",
    "\n",
    "입력은 여러 개의 테스트 케이스로 이루어져 있다. 각 테스트 케이스는 수열의 연속하는 세 수 a1, a2, a3이 한 줄에 주어진다. (-10,000 < a1, a2, a3 < 10,000) a1, a2, a3은 서로 같지 않다.\n",
    "\n",
    "입력의 마지막 줄에는 0이 세 개 주어진다.\n",
    "\n",
    "출력\n",
    "\n",
    "각 테스트 케이스에 대해서, 등차수열이면 AP를, 등비수열이면 GP를 출력한 뒤, 다음 항을 출력한다. 모든 입력은 항상 등차수열이나 등비수열이다.\n",
    "\n",
    "4 7 10\n",
    "\n",
    "2 6 18\n",
    "\n",
    "0 0 0\n",
    "\n",
    "\n",
    "AP 13\n",
    "\n",
    "GP 54"
   ]
  },
  {
   "cell_type": "code",
   "execution_count": 10,
   "metadata": {},
   "outputs": [
    {
     "name": "stdout",
     "output_type": "stream",
     "text": [
      "4 7 10\n",
      "2 6 18\n",
      "0 0 0\n",
      "AP 13\n",
      "GP 54\n"
     ]
    }
   ],
   "source": [
    "datas = []\n",
    "while True:\n",
    "    temp = list(map(int, input().split()))\n",
    "    if temp.count(0) == 3:\n",
    "        break\n",
    "    datas += [temp]\n",
    "\n",
    "for data in datas:\n",
    "    cha = data[1] - data[0]\n",
    "    if cha == data[2] - data [1]:\n",
    "        print(f'AP {data[2] + cha}')\n",
    "    else:\n",
    "        gop = int(data[1]/data[0])\n",
    "        print(f'GP {data[2] * gop}')"
   ]
  },
  {
   "cell_type": "markdown",
   "metadata": {},
   "source": [
    "# 5032 탄산 음료\n",
    "문제\n",
    "\n",
    "준민이는 탄산 음료를 좋아한다. 탄산 음료를 사느라 돈을 다 써버렸기 때문에, 이제 준민이는 가진 돈이 없어 탄산 음료를 사먹을 수 없다.\n",
    "\n",
    "준민이는 항상 법을 지키며 사는 사람이기 때문에, 아무리 탄산 음료가 먹고 싶어도 훔치지 않는다. 따라서, 법적으로 문제가 없는 방법으로 탄산 음료를 구매할 것이다.\n",
    "\n",
    "마침 빈 병을 특정 개수만큼 가져가면, 새 병으로 바꾸어주는 이벤트가 진행중이다. 준민이는 길에서 빈 병을 열심히 찾은 뒤, 탄산 음료를 먹으려고 한다.\n",
    "\n",
    "준민이가 현재 가지고 있는 빈 병의 수와 길에서 발견한 빈 병의 수, 새 병으로 바꾸는데 필요한 빈 병의 수가 주어졌을 때, 준민이가 탄산 음료를 몇 개 먹을 수 있는지 구하는 프로그램을 작성하시오.\n",
    "\n",
    "입력\n",
    "\n",
    "첫째 줄에 준민이가 가지고 있는 빈 병의 수 e, 그날 발견한 빈 병의 수 f, 새 병으로 바꾸는데 필요한 빈 병의 개수 c가 주어진다. (e < 1000, f < 1000, 1 < c < 2000) e, f, c는 모두 음이 아닌 정수이다.\n",
    "\n",
    "출력\n",
    "\n",
    "첫째 줄에 준민이가 탄산 음료를 몇 개나 먹을 수 있는지를 출력한다.\n"
   ]
  },
  {
   "cell_type": "code",
   "execution_count": 11,
   "metadata": {},
   "outputs": [
    {
     "name": "stdout",
     "output_type": "stream",
     "text": [
      "9 0 3\n",
      "4\n"
     ]
    }
   ],
   "source": [
    "e, f, c = list(map(int,input().split()))\n",
    "e = e + f\n",
    "f = 0\n",
    "while True:\n",
    "    if e < c:\n",
    "        break\n",
    "    f += e//c\n",
    "    e = e%c + e//c\n",
    "print(f)\n",
    "               "
   ]
  },
  {
   "cell_type": "markdown",
   "metadata": {},
   "source": [
    "# 5054 주차의 신\n",
    "문제\n",
    "\n",
    "선영이는 쇼핑하러 긴 도로에 자주 간다. 선영이는 주차를 세상에서 가장 귀찮아 하기 때문에, 아무데나 주차를 한다. 주차를 한 후에는 가려고 했던 상점으로 걸어 간다.\n",
    "\n",
    "어느 날, 선영이는 다리가 너무 아파서 병원에 갔다. 의사는 선영이에게 되도록 조금 걷거나, 쇼핑을 하지 말라고 했다. 선영이는 쇼핑을 버릴 수 없다. 그녀의 특기를 발휘해서 가장 좋은 주차 자리를 찾으려고 한다.\n",
    "\n",
    "긴 도로는 일직선이다. 또, 모든 상점의 위치는 정수 좌표를 가지고 있다. 주차장은 모든 정수 좌표마다 하나씩 있으며, 선영이를 위해 항상 비어있다. 선영이는 주차비를 아끼기 위해서 쇼핑을 마치기 전 까지는 주차한 차를 이동시키지 않을 것이다. 선영이는 힘이 매우 세기 때문에, 자신이 쇼핑한 물건을 모두 들지 못하는 경우는 없다. 가려고 계획한 상점은 모두 방문해야 한다.\n",
    "\n",
    "입력\n",
    "\n",
    "첫째 줄에 테스트 케이스의 개수 t가 주어진다. (1 ≤ t ≤ 100) 모든 테스트 케이스는 두 줄로 이루어져 있다. 첫째 줄에는 선영이가 방문할 상점의 수 n이 주어지며 (1 ≤ n ≤ 20), 둘째 줄에는 상점의 위치가 주어진다. (0 ≤ xi ≤ 99)\n",
    "\n",
    "출력\n",
    "\n",
    "선영이가 가려고 했던 모든 상점을 방문하고 차로 돌아오기 위해 걸어야 하는 거리의 최솟값을 출력한다. "
   ]
  },
  {
   "cell_type": "code",
   "execution_count": 14,
   "metadata": {},
   "outputs": [
    {
     "name": "stdout",
     "output_type": "stream",
     "text": [
      "1\n",
      "1\n",
      "24 13 89 37\n",
      "152\n"
     ]
    }
   ],
   "source": [
    "t = int(input())\n",
    "for a in range(0,t):\n",
    "    n = int(input())\n",
    "    shop = list(map(int,input().split()))\n",
    "    print((max(shop)-min(shop))*2)"
   ]
  },
  {
   "cell_type": "markdown",
   "metadata": {},
   "source": [
    "# 5063 TGN\n",
    "문제\n",
    "\n",
    "상근이는 TGN사의 사장이다. TGN은 Teenager Game Network의 약자 같지만, 사실 Temporary Group Name의 약자이다.\n",
    "\n",
    "이 회사는 청소년을 위한 앱을 만드는 회사이다. 일년에 걸친 개발기간 끝에 드디어 앱을 완성했고, 이제 팔기만 하면 된다.\n",
    "\n",
    "상근이는 데이트를 인간의 두뇌로 이해할 수 없을 정도로 많이 한다. 따라서 엄청난 데이트 비용이 필요하다. 상근이는 광고를 적절히 해서 수익을 최대한 올리려고 한다.\n",
    "\n",
    "어느 날 하늘을 바라보던 상근이는 시리우스의 기운을 받게 되었고, 광고 효과를 예측하는 능력을 갖게 되었다.\n",
    "\n",
    "광고 효과가 주어졌을 때, 광고를 해야할지 말아야할지 결정하는 프로그램을 작성하시오.\n",
    "\n",
    "입력\n",
    "\n",
    "첫째 줄에 테스트 케이스의 개수 N이 주어진다. 다음 N개의 줄에는 3개의 정수 r, e, c가 주어진다. r은 광고를 하지 않았을 때 수익, e는 광고를 했을 때의 수익, c는 광고 비용이다. (-106 ≤ r,e ≤ 106, 0 ≤ c ≤ 106)\n",
    "\n",
    "출력\n",
    "\n",
    "각 테스트 케이스에 대해서, 광고를 해야 하면 \"advertise\", 하지 않아야 하면 \"do not advertise\", 광고를 해도 수익이 차이가 없다면 \"does not matter\"를 출력한다."
   ]
  },
  {
   "cell_type": "code",
   "execution_count": 17,
   "metadata": {},
   "outputs": [
    {
     "name": "stdout",
     "output_type": "stream",
     "text": [
      "3\n",
      "0 100 70\n",
      "100 130 70\n",
      "-100 -70 40\n",
      "advertise\n",
      "do not advertise\n",
      "do not advertise\n"
     ]
    }
   ],
   "source": [
    "inputN = int(input())\n",
    "datas = []\n",
    "for i in range(0,inputN):\n",
    "    datas += [list(map(int,input().split()))]\n",
    "for data in datas:\n",
    "    r, e, c = data\n",
    "    if e-r > c:\n",
    "        print('advertise')\n",
    "    elif e-r == c:\n",
    "        print('does not matter')\n",
    "    else:\n",
    "        print('do not advertise')"
   ]
  },
  {
   "cell_type": "markdown",
   "metadata": {},
   "source": [
    "# 5597 과제 안내신분? \n",
    "문제\n",
    "\n",
    "X대학 M교수님은 프로그래밍 수업을 맡고 있습니다. 교실엔 학생이 30명이 있는데, 학생 명부엔 각 학생별로 1번부터 30번까지 출석번호가 붙어 있습니다.\n",
    "\n",
    "교수님이 내준 특별과제를 28명이 제출했는데, 그 중에서 제출 안 한 학생 2명의 출석번호를 구하는 프로그램을 작성하세요.\n",
    "\n",
    "입력\n",
    "\n",
    "입력은 총 28줄로 각 제출자(학생)의 출석번호 n(1 ≤ n ≤ 30)을 하나씩 입력합니다. 입력한 출석번호에 중복은 없으며, 순서에 상관없이 입력받을 수 있어야 합니다.\n",
    "\n",
    "출력\n",
    "\n",
    "출력은 2줄입니다. 1번째 줄엔 제출하지 않은 학생의 출석번호 중 가장 작은 것을 출력하고, 2번째 줄에선 그 다음 출석번호를 출력하시면 됩니다."
   ]
  },
  {
   "cell_type": "code",
   "execution_count": 21,
   "metadata": {},
   "outputs": [
    {
     "name": "stdout",
     "output_type": "stream",
     "text": [
      "1\n",
      "a\n"
     ]
    },
    {
     "ename": "ValueError",
     "evalue": "invalid literal for int() with base 10: 'a'",
     "output_type": "error",
     "traceback": [
      "\u001b[1;31m---------------------------------------------------------------------------\u001b[0m",
      "\u001b[1;31mValueError\u001b[0m                                Traceback (most recent call last)",
      "\u001b[1;32m<ipython-input-21-7b3231ea0a45>\u001b[0m in \u001b[0;36m<module>\u001b[1;34m\u001b[0m\n\u001b[0;32m      1\u001b[0m \u001b[0ma\u001b[0m \u001b[1;33m=\u001b[0m \u001b[0mlist\u001b[0m\u001b[1;33m(\u001b[0m\u001b[0mrange\u001b[0m\u001b[1;33m(\u001b[0m\u001b[1;36m1\u001b[0m\u001b[1;33m,\u001b[0m\u001b[1;36m31\u001b[0m\u001b[1;33m)\u001b[0m\u001b[1;33m)\u001b[0m\u001b[1;33m\u001b[0m\u001b[1;33m\u001b[0m\u001b[0m\n\u001b[0;32m      2\u001b[0m \u001b[1;32mwhile\u001b[0m \u001b[0mlen\u001b[0m\u001b[1;33m(\u001b[0m\u001b[0ma\u001b[0m\u001b[1;33m)\u001b[0m\u001b[1;33m>\u001b[0m\u001b[1;36m2\u001b[0m\u001b[1;33m:\u001b[0m\u001b[1;33m\u001b[0m\u001b[1;33m\u001b[0m\u001b[0m\n\u001b[1;32m----> 3\u001b[1;33m     \u001b[0ma\u001b[0m\u001b[1;33m.\u001b[0m\u001b[0mremove\u001b[0m\u001b[1;33m(\u001b[0m\u001b[0mint\u001b[0m\u001b[1;33m(\u001b[0m\u001b[0minput\u001b[0m\u001b[1;33m(\u001b[0m\u001b[1;33m)\u001b[0m\u001b[1;33m)\u001b[0m\u001b[1;33m)\u001b[0m\u001b[1;33m\u001b[0m\u001b[1;33m\u001b[0m\u001b[0m\n\u001b[0m\u001b[0;32m      4\u001b[0m \u001b[0mprint\u001b[0m\u001b[1;33m(\u001b[0m\u001b[0mmin\u001b[0m\u001b[1;33m(\u001b[0m\u001b[0ma\u001b[0m\u001b[1;33m)\u001b[0m\u001b[1;33m)\u001b[0m\u001b[1;33m\u001b[0m\u001b[1;33m\u001b[0m\u001b[0m\n\u001b[0;32m      5\u001b[0m \u001b[0mprint\u001b[0m\u001b[1;33m(\u001b[0m\u001b[0mmax\u001b[0m\u001b[1;33m(\u001b[0m\u001b[0ma\u001b[0m\u001b[1;33m)\u001b[0m\u001b[1;33m)\u001b[0m\u001b[1;33m\u001b[0m\u001b[1;33m\u001b[0m\u001b[0m\n",
      "\u001b[1;31mValueError\u001b[0m: invalid literal for int() with base 10: 'a'"
     ]
    }
   ],
   "source": [
    "a = list(range(1,31))\n",
    "while len(a)>2:\n",
    "    a.remove(int(input()))\n",
    "print(min(a))\n",
    "print(max(a))"
   ]
  },
  {
   "cell_type": "markdown",
   "metadata": {},
   "source": [
    "# 5613 계산기 프로그램\n",
    "문제\n",
    "\n",
    "덧셈, 뺄셈, 곱셈, 나눗셈을 할 수 있는 계산기 프로그램을 만드시오.\n",
    "\n",
    "입력\n",
    "\n",
    "입력의 각 줄에는 숫자와 +, -, *, /, =중 하나가 교대로 주어진다. 첫 번째 줄은 수이다. 연산자의 우선 순위는 생각하지 않으며, 입력 순서대로 계산을 하고, =가 주어지면, 그때까지의 결과를 출력한다. 주어지는 수는 108 이하의 양의 정수이다. 계산 중 결과는 0 또는 음수가 될 수 있지만, -108 ~ 108 범위를 넘지는 않는다. 또, 나눗셈에서 소수점은 버린다. 따라서, 100/3*3 = 99이다.\n",
    "\n",
    "출력\n",
    "\n",
    "첫째 줄에 계산 결과를 출력한다."
   ]
  },
  {
   "cell_type": "code",
   "execution_count": 25,
   "metadata": {},
   "outputs": [
    {
     "name": "stdout",
     "output_type": "stream",
     "text": [
      "5\n",
      "-\n",
      "3\n",
      "=\n",
      "2\n"
     ]
    }
   ],
   "source": [
    "oper = []\n",
    "while True:\n",
    "    temp = input()\n",
    "    if temp == '=':\n",
    "        break\n",
    "    oper.insert(0,temp)\n",
    "\n",
    "result = int(oper.pop())\n",
    "while len(oper) > 0:\n",
    "    temp = oper.pop()\n",
    "    if temp in '+-*/':\n",
    "        temp2 = int(oper.pop())\n",
    "        if temp == '+':\n",
    "            result += temp2\n",
    "        if temp == '-':\n",
    "            result -= temp2\n",
    "        if temp == '*':\n",
    "            result *= temp2\n",
    "        if temp == '/':\n",
    "            result = int(result/temp2)\n",
    "print(result)"
   ]
  },
  {
   "cell_type": "markdown",
   "metadata": {},
   "source": [
    "# 5666 핫도그\n",
    "문제\n",
    "\n",
    "조이는 2012년의 핫도그 먹기 대회에서 10분 동안 68개의 핫도그를 먹어치우면서 2011년에 달성한 본인의 기록 62개를 넘어 새로운 신기록을 달성했다.\n",
    "\n",
    "수학에 소질이 없는 핫도그 먹기 대회 주최자 측은 고민에 빠졌다. 기네스북에 대회의 신기록을 등록하고 싶은데 기네스북 측에서는 참가자당 소비한 핫도그의 개수를 알고 싶어 하기 때문이다.\n",
    "\n",
    "그들을 도울 수 있을까? 그들은 대가로 맛있는 핫도그를 제시했다. 총 소비된 핫도그의 개수와 총 참가자의 수가 주어질 때, 참가자당 소비한 핫도그의 개수를 구하는 프로그램을 작성하라.\n",
    "\n",
    "입력\n",
    "\n",
    "한 줄에 하나의 테스트 케이스가 주어진다.\n",
    "\n",
    "입력 값 H는 소비된 모든 핫도그의 숫자를 나타내고, P는 대회에 참가한 모든 참석자수의 수를 나타낸다. (1 ≤ H, P ≤ 1000)\n",
    "\n",
    "출력\n",
    "\n",
    "각 줄에 각 입력에 대한 결과값을 출력하라.\n",
    "\n",
    "결과값은 소수점 2번째 자리까지 표시하고, 필요하다면 반올림해서 출력하라."
   ]
  },
  {
   "cell_type": "code",
   "execution_count": 3,
   "metadata": {},
   "outputs": [
    {
     "name": "stdout",
     "output_type": "stream",
     "text": [
      "10 90\n",
      "\n",
      "0.11\n"
     ]
    }
   ],
   "source": [
    "hothot = []\n",
    "while True:\n",
    "    try:\n",
    "        hothot += [list(map(int, input().split()))]\n",
    "    except:\n",
    "        break\n",
    "for hot in hothot:\n",
    "    if len(hot) == 2:\n",
    "        print(f'{(hot[0]/hot[1]):.2f}')"
   ]
  },
  {
   "cell_type": "markdown",
   "metadata": {},
   "source": [
    "# 5691 평균중앙값 문제\n",
    "문제\n",
    "\n",
    "세 정수 A, B, C의 평균은 (A+B+C)/3이다. 세 정수의 중앙값은 수의 크기가 증가하는 순서로 정렬했을 때, 가운데 있는 값이다.\n",
    "\n",
    "두 정수 A와 B가 주어진다. 이때, A, B, C의 평균과 중앙값을 같게 만드는 가장 작은 정수 C를 찾는 프로그램을 작성하시오.\n",
    "\n",
    "입력\n",
    "\n",
    "입력은 여러 개의 테스트 케이스로 이루어져 있다. 각 테스트 케이스는 한 줄로 이루어져 있고, A와 B가 주어진다. (1 ≤ A ≤ B ≤ 109) 입력의 마지막 줄에는 0이 두 개 주어진다. \n",
    "\n",
    "출력\n",
    "\n",
    "각 테스트 케이스에 대한 정답을 한 줄에 하나씩 출력한다."
   ]
  },
  {
   "cell_type": "code",
   "execution_count": 5,
   "metadata": {},
   "outputs": [
    {
     "name": "stdout",
     "output_type": "stream",
     "text": [
      "1 2\n",
      "6 10\n",
      "1 100000\n",
      "0 0\n",
      "0\n",
      "2\n",
      "-99998\n"
     ]
    }
   ],
   "source": [
    "datas = []\n",
    "while True:\n",
    "    temp = list(map(int, input().split()))\n",
    "    if temp[0] == 0:\n",
    "        break\n",
    "    datas += [temp]\n",
    "for data in datas:\n",
    "    print(data[0]*2 - data[1])"
   ]
  },
  {
   "cell_type": "markdown",
   "metadata": {},
   "source": [
    "# 5704 팬그램\n",
    "문제\n",
    "\n",
    "팬그램은 알파벳의 모든 글자들을 사용해서 만든 문장이다. \"the quick brown fox jumps over a lazy dog\"과 \"jackdaws loves my big sphinx of quartz\"은 팬그램이다. 문장이 주어졌을 때, 팬그램인지 아닌지를 알아내는 프로그램을 작성하시오.\n",
    "\n",
    "입력\n",
    "\n",
    "입력은 여러 테스트 케이스로 이루어져 있다. 각 테스트 케이스는 많아야 200글자로 이루어져 있는 문장이다. 단어는 공백 하나로 구분되어 있다. 또, 단어는 알파벳 소문자로만 이루어져 있다. 입력의 마지막 줄에는 별표(*)가 하나 주어진다.\n",
    "\n",
    "출력\n",
    "\n",
    "각 테스트 케이스에 대해서, 입력으로 주어진 문장이 팬그램이라면 'Y', 아니라면 'N'를 출력한다."
   ]
  },
  {
   "cell_type": "code",
   "execution_count": 11,
   "metadata": {},
   "outputs": [
    {
     "name": "stdout",
     "output_type": "stream",
     "text": [
      "qwerpoituyasdflkjghzxcvmnb\n",
      "*\n",
      "Y\n"
     ]
    }
   ],
   "source": [
    "datas = []\n",
    "while True:\n",
    "    temp = input()\n",
    "    if temp == '*':\n",
    "        break\n",
    "    datas += [temp]\n",
    "for data in datas:\n",
    "    alpha = list('abcdefghijklmnopqrstuvwxyz')\n",
    "    temp = tuple(list(data))\n",
    "    for tem in temp:\n",
    "        if tem in alpha:\n",
    "            alpha.remove(tem)\n",
    "    if alpha == []:\n",
    "        print('Y')\n",
    "    else:\n",
    "        print('N')"
   ]
  },
  {
   "cell_type": "markdown",
   "metadata": {},
   "source": [
    "# 5988 홀수일까 짝수일까\n",
    "문제\n",
    "\n",
    "짝이 없는 경재는 매일 홀로 있다보니 홀수를 판별할 수 있는 능력이 생겼다. 창식이는 경재의 말이 사실인지 그 능력을 시험해보려 한다. 창식이의 의심이 끝이 없을 것 같아 N개만 확인하기로 정했다.\n",
    "\n",
    "N개의 정수가 주어지면 홀수인지 짝수인지를 출력하는 프로그램을 만들어 경재의 능력을 검증할 수 있게 도와주자.\n",
    "\n",
    "입력\n",
    "\n",
    "첫 번째 줄에 숫자의 개수 N(1 <= N <= 100)이 주어진다.\n",
    "\n",
    "두 번째 줄부터 N+1번째 줄에 걸쳐 홀수인지 짝수인지 확인할 정수 K (1 <= K <= 10^60)가 주어진다.\n",
    "\n",
    "출력\n",
    "\n",
    "N개의 줄에 걸쳐 한 줄씩 정수 K가 홀수라면 'odd'를, 짝수라면 'even'을 출력한다."
   ]
  },
  {
   "cell_type": "code",
   "execution_count": 12,
   "metadata": {},
   "outputs": [
    {
     "name": "stdout",
     "output_type": "stream",
     "text": [
      "3\n",
      "1\n",
      "2\n",
      "3\n",
      "odd\n",
      "even\n",
      "odd\n"
     ]
    }
   ],
   "source": [
    "inputN = int(input())\n",
    "nums = []\n",
    "for i in range(0, inputN):\n",
    "    nums += [int(input())]\n",
    "for num in nums:\n",
    "    if num%2 == 0:\n",
    "        print ('even')\n",
    "    else :\n",
    "        print('odd')"
   ]
  },
  {
   "cell_type": "markdown",
   "metadata": {},
   "source": [
    "# 9076 점수 집계\n",
    "문제\n",
    "\n",
    "한국 체조협회에서는 심판의 오심을 막기 위하여 점수 집계 시스템을 고치기로 하였다. 이전에는 5명의 심판이 1점부터 10점까지 정수의 점수를 주면 최고점과 최저점을 하나씩 제외한 점수의 합을 총점으로 하였다. 이를 보완하기 위해서 최고점과 최저점을 뺀 나머지 3명 점수의 최고점과 최저점의 차이가 4점 이상 나게 되면 점수 조정을 거쳐서 다시 점수를 매기려고 한다. 점수를 집계하여 총점을 계산하거나, 점수 조정을 거쳐서 다시 점수를 매기려고 하는 경우에는 총점 대신 KIN(Keep In Negotiation)을 출력하는 프로그램을 작성하시오.\n",
    "\n",
    "입력\n",
    "\n",
    "입력의 첫 줄에는 테스트 케이스의 개수 T(1 ≤ T ≤ 10)가 주어진다. 각 테스트 케이스는 한 줄에 다섯 심판이 준 점수 다섯 개의 정수 Ni(1 ≤ Ni ≤ 10, i = 1, 2, ..., 5)가 하나의 공백을 사이에 두고 주어진다.\n",
    "\n",
    "출력\n",
    "\n",
    "각 테스트 케이스에 대해서 총점을 한 줄씩 출력한다. 만일 점수 조정을 거쳐서 다시 점수를 매기려고 하는 경우에는 총점 대신 KIN을 출력한다."
   ]
  },
  {
   "cell_type": "code",
   "execution_count": null,
   "metadata": {},
   "outputs": [],
   "source": [
    "T = int(input())\n",
    "datas = []\n",
    "for i in range(0,T):\n",
    "    datas += [list(map(int,input().split()))]\n",
    "for data in datas:\n",
    "    data.remove(min(data))\n",
    "    data.remove(max(data))\n",
    "    if max(data) - min(data) >= 4:\n",
    "        print('KIN')\n",
    "    else:\n",
    "        print(sum(data))"
   ]
  },
  {
   "cell_type": "markdown",
   "metadata": {},
   "source": [
    "# 9094 수학적호기심\n",
    "문제\n",
    "\n",
    "두 정수 n과 m이 주어졌을 때, 0 < a < b < n인 정수 쌍 (a, b) 중에서 (a2+b2+m)/(ab)가 정수인 쌍의 개수를 구하는 프로그램을 작성하시오.\n",
    "\n",
    "입력\n",
    "\n",
    "첫째 줄에 테스트 케이스의 개수 T가 주어진다. 각 테스트 케이스는 한 줄로 이루어져 있으며, n과 m이 주어진다. 두 수는 0보다 크고, 100보다 작거나 같다.\n",
    "\n",
    "출력\n",
    "\n",
    "각 테스트 케이스마다 문제의 조건을 만족하는 (a, b)쌍의 개수를 출력한다."
   ]
  },
  {
   "cell_type": "code",
   "execution_count": null,
   "metadata": {},
   "outputs": [],
   "source": [
    "T = int(input())\n",
    "for i in range(0,T):\n",
    "    datas += [list(map(int,input().split()))]"
   ]
  }
 ],
 "metadata": {
  "kernelspec": {
   "display_name": "Python 3",
   "language": "python",
   "name": "python3"
  },
  "language_info": {
   "codemirror_mode": {
    "name": "ipython",
    "version": 3
   },
   "file_extension": ".py",
   "mimetype": "text/x-python",
   "name": "python",
   "nbconvert_exporter": "python",
   "pygments_lexer": "ipython3",
   "version": "3.7.4"
  }
 },
 "nbformat": 4,
 "nbformat_minor": 2
}
